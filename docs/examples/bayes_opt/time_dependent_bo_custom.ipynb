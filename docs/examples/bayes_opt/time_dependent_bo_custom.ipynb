{
 "cells": [
  {
   "cell_type": "markdown",
   "source": [
    "## Dynamic time dependent Bayesian Optimization\n",
    "\n",
    "This example demonstrates time dependent optimization with dynamic parameter changes."
   ],
   "metadata": {
    "collapsed": false
   }
  },
  {
   "cell_type": "code",
   "execution_count": 1,
   "outputs": [],
   "source": [
    "from xopt.generators.bayesian.upper_confidence_bound import TDUpperConfidenceBoundGenerator\n",
    "from xopt.vocs import VOCS\n",
    "from xopt.evaluator import Evaluator\n",
    "import warnings\n",
    "warnings.filterwarnings(\"ignore\")"
   ],
   "metadata": {
    "collapsed": false
   }
  },
  {
   "cell_type": "code",
   "execution_count": 2,
   "outputs": [
    {
     "name": "stdout",
     "output_type": "stream",
     "text": [
      "variables={'x': [-1.0, 1.0]} constraints={} objectives={'y': 'MINIMIZE'} constants={} linked_variables={}\n"
     ]
    }
   ],
   "source": [
    "# test evaluate function and vocs\n",
    "import time\n",
    "start_time = time.time()\n",
    "#global eval_iteration\n",
    "eval_iteration = 0\n",
    "def f(inputs):\n",
    "    #global eval_iteration\n",
    "    x_ = inputs[\"x\"]\n",
    "    current_time = time.time()\n",
    "    #t_ = eval_iteration\n",
    "    #eval_iteration += 5\n",
    "    t_ = current_time - start_time\n",
    "    y_ = 5*(x_ - t_*1e-2)**2\n",
    "    return {\"y\":y_, \"time\":current_time}\n",
    "\n",
    "variables = {\"x\":[-1,1]}\n",
    "objectives = {\"y\": \"MINIMIZE\"}\n",
    "\n",
    "vocs = VOCS(variables=variables, objectives=objectives)\n",
    "print(vocs)\n",
    "\n",
    "def make_evaluator():\n",
    "    return Evaluator(function=f)\n",
    "evaluator = make_evaluator()\n",
    "\n",
    "def make_generator():\n",
    "    generator = TDUpperConfidenceBoundGenerator(vocs)\n",
    "    generator.options.n_initial = 3\n",
    "    generator.options.acq.added_time=2.0\n",
    "    generator.options.acq.beta = 2.0\n",
    "    #generator.options.model.use_low_noise_prior = True\n",
    "    return generator\n",
    "\n",
    "generator = make_generator()"
   ],
   "metadata": {
    "collapsed": false
   }
  },
  {
   "cell_type": "code",
   "execution_count": 3,
   "outputs": [],
   "source": [
    "from xopt import Xopt\n",
    "X = Xopt(evaluator=make_evaluator(), generator=make_generator(), vocs=vocs)"
   ],
   "metadata": {
    "collapsed": false
   }
  },
  {
   "cell_type": "code",
   "execution_count": 4,
   "outputs": [
    {
     "data": {
      "text/plain": "{'optim': {'num_restarts': 5,\n  'raw_samples': 20,\n  'sequential': True,\n  'use_nearby_initial_points': True,\n  'max_travel_distances': None},\n 'acq': {'proximal_lengthscales': None,\n  'use_transformed_proximal_weights': True,\n  'monte_carlo_samples': 128,\n  'added_time': 2.0,\n  'beta': 2.0},\n 'model': {'function': <function xopt.generators.bayesian.models.time_dependent.create_time_dependent_model(data, vocs, added_time: float = 0.0, use_conservative_prior_lengthscale: bool = False, use_conservative_prior_mean: bool = False, use_low_noise_prior: bool = False) -> botorch.models.model_list_gp_regression.ModelListGP>,\n  'kwargs': {'use_conservative_prior_lengthscale': False,\n   'use_conservative_prior_mean': False,\n   'use_low_noise_prior': False}},\n 'n_initial': 3}"
     },
     "execution_count": 4,
     "metadata": {},
     "output_type": "execute_result"
    }
   ],
   "source": [
    "# See current options\n",
    "X.generator.options.dict()"
   ],
   "metadata": {
    "collapsed": false
   }
  },
  {
   "cell_type": "code",
   "execution_count": 5,
   "outputs": [],
   "source": [
    "modified_options = {'acq':{'added_time':3.5}}"
   ],
   "metadata": {
    "collapsed": false
   }
  },
  {
   "cell_type": "code",
   "execution_count": 6,
   "outputs": [
    {
     "name": "stdout",
     "output_type": "stream",
     "text": [
      "{'x': array([-0.96877611,  0.44915158, -0.14532793])}\n"
     ]
    }
   ],
   "source": [
    "print(X.generator.generate(1))"
   ],
   "metadata": {
    "collapsed": false
   }
  },
  {
   "cell_type": "code",
   "execution_count": 7,
   "outputs": [
    {
     "name": "stdout",
     "output_type": "stream",
     "text": [
      "({'x': array([0.65207923, 0.32631132, 0.27007975])}, TDUCBOptions(optim=OptimOptions(num_restarts=5, raw_samples=20, sequential=True, use_nearby_initial_points=True, max_travel_distances=None), acq=TDUpperConfidenceBoundOptions(proximal_lengthscales=None, use_transformed_proximal_weights=True, monte_carlo_samples=128, added_time=3.5, beta=2.0), model=TDModelOptions(function=<function create_time_dependent_model at 0x0000022E33F29670>, kwargs=kwargs(use_conservative_prior_lengthscale=False, use_conservative_prior_mean=False, use_low_noise_prior=False)), n_initial=3))\n",
      "{'proximal_lengthscales': None, 'use_transformed_proximal_weights': True, 'monte_carlo_samples': 128, 'added_time': 2.0, 'beta': 2.0}\n"
     ]
    }
   ],
   "source": [
    "# this does not create any permanent changes\n",
    "print(X.generator.generate_custom(1, config_changes=modified_options, is_permanent=False))\n",
    "print(X.generator.options.dict()['acq'])"
   ],
   "metadata": {
    "collapsed": false
   }
  },
  {
   "cell_type": "code",
   "execution_count": 8,
   "outputs": [
    {
     "name": "stdout",
     "output_type": "stream",
     "text": [
      "1 validation error for TDUCBOptions\n",
      "acq -> added_time\n",
      "  value is not a valid float (type=type_error.float)\n"
     ]
    }
   ],
   "source": [
    "# Modifications are validated against model and can be refused\n",
    "try:\n",
    "    X.generator.generate_custom(1, config_changes={'acq':{'added_time':'abc'}})\n",
    "except Exception as ex:\n",
    "    print(ex)"
   ],
   "metadata": {
    "collapsed": false
   }
  },
  {
   "cell_type": "code",
   "execution_count": 9,
   "outputs": [
    {
     "name": "stdout",
     "output_type": "stream",
     "text": [
      "({'x': array([ 0.86362214, -0.1606999 ,  0.29459456])}, TDUCBOptions(optim=OptimOptions(num_restarts=5, raw_samples=20, sequential=True, use_nearby_initial_points=True, max_travel_distances=None), acq=TDUpperConfidenceBoundOptions(proximal_lengthscales=None, use_transformed_proximal_weights=True, monte_carlo_samples=128, added_time=3.5, beta=2.0), model=TDModelOptions(function=<function create_time_dependent_model at 0x0000022E33F29670>, kwargs=kwargs(use_conservative_prior_lengthscale=False, use_conservative_prior_mean=False, use_low_noise_prior=False)), n_initial=3))\n",
      "{'proximal_lengthscales': None, 'use_transformed_proximal_weights': True, 'monte_carlo_samples': 128, 'added_time': 3.5, 'beta': 2.0}\n"
     ]
    }
   ],
   "source": [
    "# Now, changes are retained\n",
    "print(X.generator.generate_custom(1, config_changes=modified_options, is_permanent=True))\n",
    "print(X.generator.options.dict()['acq'])"
   ],
   "metadata": {
    "collapsed": false
   }
  },
  {
   "cell_type": "code",
   "execution_count": 10,
   "outputs": [],
   "source": [
    "# If step interface is used, any options changes are stored in history\n",
    "X = Xopt(evaluator=make_evaluator(), generator=make_generator(), vocs=vocs)\n",
    "X.step()\n",
    "X.step(generator_opts=modified_options, is_permanent=False)\n",
    "X.step()"
   ],
   "metadata": {
    "collapsed": false
   }
  },
  {
   "cell_type": "code",
   "execution_count": 11,
   "outputs": [
    {
     "name": "stdout",
     "output_type": "stream",
     "text": [
      "{'is_permanent': False, 'config_change': None, 'n': 1, 'effective_config': {'optim': {'num_restarts': 5, 'raw_samples': 20, 'sequential': True, 'use_nearby_initial_points': True, 'max_travel_distances': None}, 'acq': {'proximal_lengthscales': None, 'use_transformed_proximal_weights': True, 'monte_carlo_samples': 128, 'added_time': 2.0, 'beta': 2.0}, 'model': {'function': <function create_time_dependent_model at 0x0000022E33F29670>, 'kwargs': {'use_conservative_prior_lengthscale': False, 'use_conservative_prior_mean': False, 'use_low_noise_prior': False}}, 'n_initial': 3}}\n",
      "\n",
      "{'is_permanent': False, 'config_change': {'acq': {'added_time': 3.5}}, 'n': 1, 'effective_config': TDUCBOptions(optim=OptimOptions(num_restarts=5, raw_samples=20, sequential=True, use_nearby_initial_points=True, max_travel_distances=None), acq=TDUpperConfidenceBoundOptions(proximal_lengthscales=None, use_transformed_proximal_weights=True, monte_carlo_samples=128, added_time=3.5, beta=2.0), model=TDModelOptions(function=<function create_time_dependent_model at 0x0000022E33F29670>, kwargs=kwargs(use_conservative_prior_lengthscale=False, use_conservative_prior_mean=False, use_low_noise_prior=False)), n_initial=3)}\n",
      "\n",
      "{'is_permanent': False, 'config_change': None, 'n': 1, 'effective_config': {'optim': {'num_restarts': 5, 'raw_samples': 20, 'sequential': True, 'use_nearby_initial_points': True, 'max_travel_distances': None}, 'acq': {'proximal_lengthscales': None, 'use_transformed_proximal_weights': True, 'monte_carlo_samples': 128, 'added_time': 2.0, 'beta': 2.0}, 'model': {'function': <function create_time_dependent_model at 0x0000022E33F29670>, 'kwargs': {'use_conservative_prior_lengthscale': False, 'use_conservative_prior_mean': False, 'use_low_noise_prior': False}}, 'n_initial': 3}}\n",
      "\n"
     ]
    }
   ],
   "source": [
    "for x in X._generator_options_history:\n",
    "    print(x)\n",
    "    print()"
   ],
   "metadata": {
    "collapsed": false
   }
  },
  {
   "cell_type": "code",
   "execution_count": 12,
   "outputs": [
    {
     "name": "stdout",
     "output_type": "stream",
     "text": [
      "{'is_permanent': False, 'config_change': None, 'n': 1, 'effective_config': {'optim': {'num_restarts': 5, 'raw_samples': 20, 'sequential': True, 'use_nearby_initial_points': True, 'max_travel_distances': None}, 'acq': {'proximal_lengthscales': None, 'use_transformed_proximal_weights': True, 'monte_carlo_samples': 128, 'added_time': 2.0, 'beta': 2.0}, 'model': {'function': <function create_time_dependent_model at 0x0000022E33F29670>, 'kwargs': {'use_conservative_prior_lengthscale': False, 'use_conservative_prior_mean': False, 'use_low_noise_prior': False}}, 'n_initial': 3}}\n",
      "\n"
     ]
    },
    {
     "data": {
      "text/plain": "          x         y          time  xopt_runtime  xopt_error\n1  0.763794  2.126092  1.667333e+09      0.000005       False",
      "text/html": "<div>\n<style scoped>\n    .dataframe tbody tr th:only-of-type {\n        vertical-align: middle;\n    }\n\n    .dataframe tbody tr th {\n        vertical-align: top;\n    }\n\n    .dataframe thead th {\n        text-align: right;\n    }\n</style>\n<table border=\"1\" class=\"dataframe\">\n  <thead>\n    <tr style=\"text-align: right;\">\n      <th></th>\n      <th>x</th>\n      <th>y</th>\n      <th>time</th>\n      <th>xopt_runtime</th>\n      <th>xopt_error</th>\n    </tr>\n  </thead>\n  <tbody>\n    <tr>\n      <th>1</th>\n      <td>0.763794</td>\n      <td>2.126092</td>\n      <td>1.667333e+09</td>\n      <td>0.000005</td>\n      <td>False</td>\n    </tr>\n  </tbody>\n</table>\n</div>"
     },
     "metadata": {},
     "output_type": "display_data"
    }
   ],
   "source": [
    "# History can be used to recover state at a specific step\n",
    "X.rollback(step=1)\n",
    "for x in X._generator_options_history:\n",
    "    print(x)\n",
    "    print()\n",
    "display(X.data)"
   ],
   "metadata": {
    "collapsed": false
   }
  },
  {
   "cell_type": "code",
   "execution_count": null,
   "outputs": [],
   "source": [
    "# Full loop with adaptive time step (for example, because of thermal effects each next measurement is slower)\n",
    "X = Xopt(evaluator=make_evaluator(), generator=make_generator(), vocs=vocs)\n",
    "eval_iteration = 0\n",
    "for i in range(20):\n",
    "    X.step(generator_opts={'acq':{'added_time':1.0*(i/5+1)}})\n",
    "    time.sleep(0.1)"
   ],
   "metadata": {
    "collapsed": false,
    "pycharm": {
     "is_executing": true
    }
   }
  },
  {
   "cell_type": "code",
   "execution_count": null,
   "outputs": [],
   "source": [
    "X.data"
   ],
   "metadata": {
    "collapsed": false,
    "pycharm": {
     "is_executing": true
    }
   }
  },
  {
   "cell_type": "code",
   "execution_count": null,
   "outputs": [],
   "source": [
    "# plot model\n",
    "import torch\n",
    "from matplotlib import pyplot as plt  # plot model predictions\n",
    "data = X.data\n",
    "\n",
    "xbounds = generator.vocs.bounds\n",
    "tbounds = [data[\"time\"].min(), data[\"time\"].max()]\n",
    "\n",
    "def gt(inpts):\n",
    "    return 5*(inpts[:,1] - (inpts[:,0] - start_time)*1e-2)**2\n",
    "\n",
    "model = X.generator.model\n",
    "n = 200\n",
    "t = torch.linspace(*tbounds, n, dtype=torch.double)\n",
    "x = torch.linspace(*xbounds.flatten(), n, dtype=torch.double)\n",
    "tt, xx = torch.meshgrid(t, x)\n",
    "pts = torch.hstack([ele.reshape(-1, 1) for ele in (tt, xx)]).double()\n",
    "\n",
    "#NOTE: the model inputs are such that t is the last dimension\n",
    "gp_pts = torch.flip(pts, dims=[-1])\n",
    "\n",
    "gt_vals = gt(pts)\n",
    "\n",
    "with torch.no_grad():\n",
    "    post = model.posterior(gp_pts)\n",
    "\n",
    "    mean = post.mean\n",
    "    std = torch.sqrt(post.variance)\n",
    "\n",
    "    fig, ax = plt.subplots()\n",
    "    ax.set_title(\"model mean\")\n",
    "    ax.set_xlabel(\"unix time\")\n",
    "    ax.set_ylabel(\"x\")\n",
    "    c = ax.pcolor(tt, xx, mean.reshape(n,n))\n",
    "    fig.colorbar(c)\n",
    "\n",
    "    fig2, ax2 = plt.subplots()\n",
    "    ax2.set_title(\"model uncertainty\")\n",
    "    ax2.set_xlabel(\"unix time\")\n",
    "    ax2.set_ylabel(\"x\")\n",
    "    c = ax2.pcolor(tt, xx, std.reshape(n,n))\n",
    "    fig2.colorbar(c)\n",
    "\n",
    "    ax.plot(data[\"time\"].to_numpy(), data[\"x\"].to_numpy(),\"oC1\")\n",
    "    ax2.plot(data[\"time\"].to_numpy(), data[\"x\"].to_numpy(),\"oC1\")\n",
    "\n",
    "    fig3, ax3 = plt.subplots()\n",
    "    ax3.set_title(\"ground truth value\")\n",
    "    ax3.set_xlabel(\"unix time\")\n",
    "    ax3.set_ylabel(\"x\")\n",
    "    c = ax3.pcolor(tt, xx, gt_vals.reshape(n,n))\n",
    "    fig3.colorbar(c)"
   ],
   "metadata": {
    "collapsed": false,
    "pycharm": {
     "is_executing": true
    }
   }
  },
  {
   "cell_type": "code",
   "execution_count": null,
   "outputs": [],
   "source": [
    "list(model.named_parameters())"
   ],
   "metadata": {
    "collapsed": false,
    "pycharm": {
     "is_executing": true
    }
   }
  },
  {
   "cell_type": "code",
   "execution_count": null,
   "outputs": [],
   "source": [],
   "metadata": {
    "collapsed": false,
    "pycharm": {
     "is_executing": true
    }
   }
  }
 ],
 "metadata": {
  "kernelspec": {
   "display_name": "Python 3",
   "language": "python",
   "name": "python3"
  },
  "language_info": {
   "codemirror_mode": {
    "name": "ipython",
    "version": 2
   },
   "file_extension": ".py",
   "mimetype": "text/x-python",
   "name": "python",
   "nbconvert_exporter": "python",
   "pygments_lexer": "ipython2",
   "version": "2.7.6"
  }
 },
 "nbformat": 4,
 "nbformat_minor": 0
}
