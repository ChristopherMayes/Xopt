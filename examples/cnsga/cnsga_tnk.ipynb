{
 "cells": [
  {
   "cell_type": "code",
   "execution_count": 1,
   "metadata": {},
   "outputs": [],
   "source": [
    "# Useful for debugging\n",
    "%load_ext autoreload\n",
    "%autoreload 2"
   ]
  },
  {
   "cell_type": "markdown",
   "metadata": {},
   "source": [
    " # Xopt CNSGA algorithm"
   ]
  },
  {
   "cell_type": "code",
   "execution_count": 2,
   "metadata": {},
   "outputs": [],
   "source": [
    "from xopt.cnsga import cnsga\n",
    "import json\n",
    "import numpy as np\n",
    "import matplotlib.pyplot as plt"
   ]
  },
  {
   "cell_type": "code",
   "execution_count": 3,
   "metadata": {},
   "outputs": [
    {
     "data": {
      "text/plain": [
       "((0, 0), (-1.1, 0.5))"
      ]
     },
     "execution_count": 3,
     "metadata": {},
     "output_type": "execute_result"
    }
   ],
   "source": [
    "NAME = 'TNK'\n",
    "BOUND_LOW, BOUND_UP = [0.0, 0.0], [3.14159, 3.14159]  \n",
    "\n",
    "\n",
    "X_RANGE = [0, 1.4]\n",
    "Y_RANGE = [0, 1.4]\n",
    "\n",
    "# Pure number version\n",
    "def TNK(individual):    \n",
    "    x1=individual[0]\n",
    "    x2=individual[1]\n",
    "    objectives =  (x1, x2)\n",
    "    constraints = (x1**2+x2**2-1.0 - 0.1*np.cos(16*np.arctan2(x1, x2)), (x1-0.5)**2+(x2-0.5)**2 )\n",
    "    return objectives, constraints\n",
    "\n",
    "# labeled version\n",
    "def evaluate_TNK(inputs):\n",
    "    \n",
    "    info = {'some':'info', 'about':['the', 'run']}\n",
    "    ind = [inputs['x1'], inputs['x2']]\n",
    "    objectives, constraints = TNK(ind)    \n",
    "    outputs = {'y1':objectives[0], 'y2':objectives[1], 'c1':constraints[0], 'c2':constraints[1]}\n",
    "    \n",
    "    return outputs\n",
    "\n",
    "VOCS = {\n",
    "    'name':'TNK_test',\n",
    "    \n",
    "    'variables': {\n",
    "        'x1':[0, 3.14159],\n",
    "        'x2':[0, 3.14159]\n",
    "    },\n",
    "    'objectives':{\n",
    "        'y1':'MINIMIZE',\n",
    "        'y2':'MINIMIZE'\n",
    "        \n",
    "    },\n",
    "    'constraints':{\n",
    "        'c1': ['GREATER_THAN', 0],\n",
    "        'c2': ['LESS_THAN', 0.5]\n",
    "        \n",
    "    },\n",
    "    'constants':{'a':'dummy_constant'},\n",
    "    'linked_variables':{'x9':'x1'}\n",
    "    \n",
    "    \n",
    "}\n",
    "TNK([0,0])"
   ]
  },
  {
   "cell_type": "code",
   "execution_count": 4,
   "metadata": {},
   "outputs": [],
   "source": [
    "# Pick a parallel method\n",
    "\n",
    "\n",
    "#from concurrent.futures import ProcessPoolExecutor as PoolExecutor\n",
    "from concurrent.futures import ThreadPoolExecutor as PoolExecutor\n",
    "executor = PoolExecutor()"
   ]
  },
  {
   "cell_type": "code",
   "execution_count": 5,
   "metadata": {},
   "outputs": [
    {
     "data": {
      "application/vnd.jupyter.widget-view+json": {
       "model_id": "de6f719b52734456821c6f89553ec8a8",
       "version_major": 2,
       "version_minor": 0
      },
      "text/plain": [
       "Generation 0:   0%|          | 0/64 [00:00<?, ?it/s]"
      ]
     },
     "metadata": {},
     "output_type": "display_data"
    },
    {
     "data": {
      "application/vnd.jupyter.widget-view+json": {
       "model_id": "4a6a14ce70484c488c083b322c939f8c",
       "version_major": 2,
       "version_minor": 0
      },
      "text/plain": [
       "Generation 1:   0%|          | 0/64 [00:00<?, ?it/s]"
      ]
     },
     "metadata": {},
     "output_type": "display_data"
    },
    {
     "data": {
      "application/vnd.jupyter.widget-view+json": {
       "model_id": "8ab2bc54d0864e0bae4aaf60907c570e",
       "version_major": 2,
       "version_minor": 0
      },
      "text/plain": [
       "Generation 2:   0%|          | 0/64 [00:00<?, ?it/s]"
      ]
     },
     "metadata": {},
     "output_type": "display_data"
    },
    {
     "data": {
      "application/vnd.jupyter.widget-view+json": {
       "model_id": "8f6592ddbe5b4056b9162cbe989aac31",
       "version_major": 2,
       "version_minor": 0
      },
      "text/plain": [
       "Generation 3:   0%|          | 0/64 [00:00<?, ?it/s]"
      ]
     },
     "metadata": {},
     "output_type": "display_data"
    },
    {
     "data": {
      "application/vnd.jupyter.widget-view+json": {
       "model_id": "7b3058e1981843719bd73ef7f0b0376d",
       "version_major": 2,
       "version_minor": 0
      },
      "text/plain": [
       "Generation 4:   0%|          | 0/64 [00:00<?, ?it/s]"
      ]
     },
     "metadata": {},
     "output_type": "display_data"
    },
    {
     "data": {
      "application/vnd.jupyter.widget-view+json": {
       "model_id": "4d7994c460f94110895e0f918a987871",
       "version_major": 2,
       "version_minor": 0
      },
      "text/plain": [
       "Generation 5:   0%|          | 0/64 [00:00<?, ?it/s]"
      ]
     },
     "metadata": {},
     "output_type": "display_data"
    },
    {
     "data": {
      "application/vnd.jupyter.widget-view+json": {
       "model_id": "4ac12b9332c44bb5bb55f9eb2c0118fb",
       "version_major": 2,
       "version_minor": 0
      },
      "text/plain": [
       "Generation 6:   0%|          | 0/64 [00:00<?, ?it/s]"
      ]
     },
     "metadata": {},
     "output_type": "display_data"
    },
    {
     "data": {
      "application/vnd.jupyter.widget-view+json": {
       "model_id": "337c4d1307c647639c7e026ed5231bae",
       "version_major": 2,
       "version_minor": 0
      },
      "text/plain": [
       "Generation 7:   0%|          | 0/64 [00:00<?, ?it/s]"
      ]
     },
     "metadata": {},
     "output_type": "display_data"
    },
    {
     "data": {
      "application/vnd.jupyter.widget-view+json": {
       "model_id": "46e90dc2f9554f19b153051bc907874a",
       "version_major": 2,
       "version_minor": 0
      },
      "text/plain": [
       "Generation 8:   0%|          | 0/64 [00:00<?, ?it/s]"
      ]
     },
     "metadata": {},
     "output_type": "display_data"
    },
    {
     "data": {
      "application/vnd.jupyter.widget-view+json": {
       "model_id": "f7c463ff333e45f38317ee5fc5541829",
       "version_major": 2,
       "version_minor": 0
      },
      "text/plain": [
       "Generation 9:   0%|          | 0/64 [00:00<?, ?it/s]"
      ]
     },
     "metadata": {},
     "output_type": "display_data"
    },
    {
     "data": {
      "application/vnd.jupyter.widget-view+json": {
       "model_id": "63038788c6404f3984009ec4e5a3a493",
       "version_major": 2,
       "version_minor": 0
      },
      "text/plain": [
       "Generation 10:   0%|          | 0/64 [00:00<?, ?it/s]"
      ]
     },
     "metadata": {},
     "output_type": "display_data"
    },
    {
     "data": {
      "application/vnd.jupyter.widget-view+json": {
       "model_id": "bbbf7f4487f142d99daa84888e1ef473",
       "version_major": 2,
       "version_minor": 0
      },
      "text/plain": [
       "Generation 11:   0%|          | 0/64 [00:00<?, ?it/s]"
      ]
     },
     "metadata": {},
     "output_type": "display_data"
    },
    {
     "data": {
      "application/vnd.jupyter.widget-view+json": {
       "model_id": "3c61ce5bdf6741429abf067653505ebf",
       "version_major": 2,
       "version_minor": 0
      },
      "text/plain": [
       "Generation 12:   0%|          | 0/64 [00:00<?, ?it/s]"
      ]
     },
     "metadata": {},
     "output_type": "display_data"
    },
    {
     "data": {
      "application/vnd.jupyter.widget-view+json": {
       "model_id": "58ff9692d913440cb53e7c652b56a48d",
       "version_major": 2,
       "version_minor": 0
      },
      "text/plain": [
       "Generation 13:   0%|          | 0/64 [00:00<?, ?it/s]"
      ]
     },
     "metadata": {},
     "output_type": "display_data"
    },
    {
     "data": {
      "application/vnd.jupyter.widget-view+json": {
       "model_id": "592fca8c13fc4e0ba1002e9f041f4afa",
       "version_major": 2,
       "version_minor": 0
      },
      "text/plain": [
       "Generation 14:   0%|          | 0/64 [00:00<?, ?it/s]"
      ]
     },
     "metadata": {},
     "output_type": "display_data"
    },
    {
     "data": {
      "application/vnd.jupyter.widget-view+json": {
       "model_id": "feea41e0254345c9b7377440d5a2eb49",
       "version_major": 2,
       "version_minor": 0
      },
      "text/plain": [
       "Generation 15:   0%|          | 0/64 [00:00<?, ?it/s]"
      ]
     },
     "metadata": {},
     "output_type": "display_data"
    },
    {
     "data": {
      "application/vnd.jupyter.widget-view+json": {
       "model_id": "21c556a7688248d7b122c1fb83d1995e",
       "version_major": 2,
       "version_minor": 0
      },
      "text/plain": [
       "Generation 16:   0%|          | 0/64 [00:00<?, ?it/s]"
      ]
     },
     "metadata": {},
     "output_type": "display_data"
    },
    {
     "data": {
      "application/vnd.jupyter.widget-view+json": {
       "model_id": "d7e060b2213f4ae5bdad6b110b932375",
       "version_major": 2,
       "version_minor": 0
      },
      "text/plain": [
       "Generation 17:   0%|          | 0/64 [00:00<?, ?it/s]"
      ]
     },
     "metadata": {},
     "output_type": "display_data"
    },
    {
     "data": {
      "application/vnd.jupyter.widget-view+json": {
       "model_id": "74685c698dc34302973c64559d2b2325",
       "version_major": 2,
       "version_minor": 0
      },
      "text/plain": [
       "Generation 18:   0%|          | 0/64 [00:00<?, ?it/s]"
      ]
     },
     "metadata": {},
     "output_type": "display_data"
    },
    {
     "data": {
      "application/vnd.jupyter.widget-view+json": {
       "model_id": "deee5983adb54168be10028ddbdaf18a",
       "version_major": 2,
       "version_minor": 0
      },
      "text/plain": [
       "Generation 19:   0%|          | 0/64 [00:00<?, ?it/s]"
      ]
     },
     "metadata": {},
     "output_type": "display_data"
    }
   ],
   "source": [
    "pop_data = cnsga(executor=executor, vocs=VOCS, evaluate_f=evaluate_TNK,\n",
    "            max_generations = 20, population_size=64, output_path=None) "
   ]
  },
  {
   "cell_type": "code",
   "execution_count": 6,
   "metadata": {},
   "outputs": [
    {
     "data": {
      "application/vnd.jupyter.widget-view+json": {
       "model_id": "bc90fceeb2e84856b376423b664ea7d6",
       "version_major": 2,
       "version_minor": 0
      },
      "text/plain": [
       "Generation 21:   0%|          | 0/64 [00:00<?, ?it/s]"
      ]
     },
     "metadata": {},
     "output_type": "display_data"
    },
    {
     "data": {
      "application/vnd.jupyter.widget-view+json": {
       "model_id": "5f7d63df7195401ea57f99b48c2d5c41",
       "version_major": 2,
       "version_minor": 0
      },
      "text/plain": [
       "Generation 22:   0%|          | 0/64 [00:00<?, ?it/s]"
      ]
     },
     "metadata": {},
     "output_type": "display_data"
    },
    {
     "data": {
      "application/vnd.jupyter.widget-view+json": {
       "model_id": "c297b42d8dce4daaaaad689170f6a307",
       "version_major": 2,
       "version_minor": 0
      },
      "text/plain": [
       "Generation 23:   0%|          | 0/64 [00:00<?, ?it/s]"
      ]
     },
     "metadata": {},
     "output_type": "display_data"
    },
    {
     "data": {
      "application/vnd.jupyter.widget-view+json": {
       "model_id": "9c9d37eb002f4413b51f5c78f81db9b8",
       "version_major": 2,
       "version_minor": 0
      },
      "text/plain": [
       "Generation 24:   0%|          | 0/64 [00:00<?, ?it/s]"
      ]
     },
     "metadata": {},
     "output_type": "display_data"
    },
    {
     "data": {
      "application/vnd.jupyter.widget-view+json": {
       "model_id": "b69c0d5d9845448d88e612d10be73dea",
       "version_major": 2,
       "version_minor": 0
      },
      "text/plain": [
       "Generation 25:   0%|          | 0/64 [00:00<?, ?it/s]"
      ]
     },
     "metadata": {},
     "output_type": "display_data"
    },
    {
     "data": {
      "application/vnd.jupyter.widget-view+json": {
       "model_id": "05df8177c98947a2a1d34ad09dd33645",
       "version_major": 2,
       "version_minor": 0
      },
      "text/plain": [
       "Generation 26:   0%|          | 0/64 [00:00<?, ?it/s]"
      ]
     },
     "metadata": {},
     "output_type": "display_data"
    },
    {
     "data": {
      "application/vnd.jupyter.widget-view+json": {
       "model_id": "a366c18cf2e94a7bb4d2ad69dc617b1e",
       "version_major": 2,
       "version_minor": 0
      },
      "text/plain": [
       "Generation 27:   0%|          | 0/64 [00:00<?, ?it/s]"
      ]
     },
     "metadata": {},
     "output_type": "display_data"
    },
    {
     "data": {
      "application/vnd.jupyter.widget-view+json": {
       "model_id": "4095fff1e7e74ea2ad5c58a85e234711",
       "version_major": 2,
       "version_minor": 0
      },
      "text/plain": [
       "Generation 28:   0%|          | 0/64 [00:00<?, ?it/s]"
      ]
     },
     "metadata": {},
     "output_type": "display_data"
    },
    {
     "data": {
      "application/vnd.jupyter.widget-view+json": {
       "model_id": "c0f317ed23fd4dce89447e9d055992ed",
       "version_major": 2,
       "version_minor": 0
      },
      "text/plain": [
       "Generation 29:   0%|          | 0/64 [00:00<?, ?it/s]"
      ]
     },
     "metadata": {},
     "output_type": "display_data"
    },
    {
     "data": {
      "application/vnd.jupyter.widget-view+json": {
       "model_id": "432791528d3748b28efb6b2a82fed3fe",
       "version_major": 2,
       "version_minor": 0
      },
      "text/plain": [
       "Generation 30:   0%|          | 0/64 [00:00<?, ?it/s]"
      ]
     },
     "metadata": {},
     "output_type": "display_data"
    },
    {
     "data": {
      "application/vnd.jupyter.widget-view+json": {
       "model_id": "d25ccdffb3114a19893fd6b7c0e62cc8",
       "version_major": 2,
       "version_minor": 0
      },
      "text/plain": [
       "Generation 31:   0%|          | 0/64 [00:00<?, ?it/s]"
      ]
     },
     "metadata": {},
     "output_type": "display_data"
    },
    {
     "data": {
      "application/vnd.jupyter.widget-view+json": {
       "model_id": "88e6475afb014e96a120bc9eb0c10934",
       "version_major": 2,
       "version_minor": 0
      },
      "text/plain": [
       "Generation 32:   0%|          | 0/64 [00:00<?, ?it/s]"
      ]
     },
     "metadata": {},
     "output_type": "display_data"
    },
    {
     "data": {
      "application/vnd.jupyter.widget-view+json": {
       "model_id": "11799f533bdb46cbb5f229f2f4e52428",
       "version_major": 2,
       "version_minor": 0
      },
      "text/plain": [
       "Generation 33:   0%|          | 0/64 [00:00<?, ?it/s]"
      ]
     },
     "metadata": {},
     "output_type": "display_data"
    },
    {
     "data": {
      "application/vnd.jupyter.widget-view+json": {
       "model_id": "5d9e093cb508428c9e95e43b5c0d64e0",
       "version_major": 2,
       "version_minor": 0
      },
      "text/plain": [
       "Generation 34:   0%|          | 0/64 [00:00<?, ?it/s]"
      ]
     },
     "metadata": {},
     "output_type": "display_data"
    },
    {
     "data": {
      "application/vnd.jupyter.widget-view+json": {
       "model_id": "45b9a14162a348079836d6ce5964ad4d",
       "version_major": 2,
       "version_minor": 0
      },
      "text/plain": [
       "Generation 35:   0%|          | 0/64 [00:00<?, ?it/s]"
      ]
     },
     "metadata": {},
     "output_type": "display_data"
    },
    {
     "data": {
      "application/vnd.jupyter.widget-view+json": {
       "model_id": "acbea6189825406eac7e6d6e41116f22",
       "version_major": 2,
       "version_minor": 0
      },
      "text/plain": [
       "Generation 36:   0%|          | 0/64 [00:00<?, ?it/s]"
      ]
     },
     "metadata": {},
     "output_type": "display_data"
    },
    {
     "data": {
      "application/vnd.jupyter.widget-view+json": {
       "model_id": "86e37a8a437a43b193b1d09606ec2306",
       "version_major": 2,
       "version_minor": 0
      },
      "text/plain": [
       "Generation 37:   0%|          | 0/64 [00:00<?, ?it/s]"
      ]
     },
     "metadata": {},
     "output_type": "display_data"
    },
    {
     "data": {
      "application/vnd.jupyter.widget-view+json": {
       "model_id": "3d494a9da0a14a72b06e4d95d1a66ff1",
       "version_major": 2,
       "version_minor": 0
      },
      "text/plain": [
       "Generation 38:   0%|          | 0/64 [00:00<?, ?it/s]"
      ]
     },
     "metadata": {},
     "output_type": "display_data"
    },
    {
     "data": {
      "application/vnd.jupyter.widget-view+json": {
       "model_id": "0b51311941024b559537a8cde1725397",
       "version_major": 2,
       "version_minor": 0
      },
      "text/plain": [
       "Generation 39:   0%|          | 0/64 [00:00<?, ?it/s]"
      ]
     },
     "metadata": {},
     "output_type": "display_data"
    },
    {
     "data": {
      "application/vnd.jupyter.widget-view+json": {
       "model_id": "9c25348e67c64e869aae602c1ccf97c1",
       "version_major": 2,
       "version_minor": 0
      },
      "text/plain": [
       "Generation 40:   0%|          | 0/64 [00:00<?, ?it/s]"
      ]
     },
     "metadata": {},
     "output_type": "display_data"
    },
    {
     "data": {
      "application/vnd.jupyter.widget-view+json": {
       "model_id": "6a7787a1f35944c0a7866fa2e94783d0",
       "version_major": 2,
       "version_minor": 0
      },
      "text/plain": [
       "Generation 41:   0%|          | 0/64 [00:00<?, ?it/s]"
      ]
     },
     "metadata": {},
     "output_type": "display_data"
    },
    {
     "data": {
      "application/vnd.jupyter.widget-view+json": {
       "model_id": "14526d39706e4e839d1e914152cb4075",
       "version_major": 2,
       "version_minor": 0
      },
      "text/plain": [
       "Generation 42:   0%|          | 0/64 [00:00<?, ?it/s]"
      ]
     },
     "metadata": {},
     "output_type": "display_data"
    },
    {
     "data": {
      "application/vnd.jupyter.widget-view+json": {
       "model_id": "1bb0a18462e14dba9b4f6a26461ef3af",
       "version_major": 2,
       "version_minor": 0
      },
      "text/plain": [
       "Generation 43:   0%|          | 0/64 [00:00<?, ?it/s]"
      ]
     },
     "metadata": {},
     "output_type": "display_data"
    },
    {
     "data": {
      "application/vnd.jupyter.widget-view+json": {
       "model_id": "8b3a1b53ac564de59420b6298a7b84d6",
       "version_major": 2,
       "version_minor": 0
      },
      "text/plain": [
       "Generation 44:   0%|          | 0/64 [00:00<?, ?it/s]"
      ]
     },
     "metadata": {},
     "output_type": "display_data"
    },
    {
     "data": {
      "application/vnd.jupyter.widget-view+json": {
       "model_id": "4127bca667c248b3be9e99ea8733d858",
       "version_major": 2,
       "version_minor": 0
      },
      "text/plain": [
       "Generation 45:   0%|          | 0/64 [00:00<?, ?it/s]"
      ]
     },
     "metadata": {},
     "output_type": "display_data"
    },
    {
     "data": {
      "application/vnd.jupyter.widget-view+json": {
       "model_id": "834f8bab69a643e6ac8ab012f618962e",
       "version_major": 2,
       "version_minor": 0
      },
      "text/plain": [
       "Generation 46:   0%|          | 0/64 [00:00<?, ?it/s]"
      ]
     },
     "metadata": {},
     "output_type": "display_data"
    },
    {
     "data": {
      "application/vnd.jupyter.widget-view+json": {
       "model_id": "ba7dce5ba209421d9bb235363756a7df",
       "version_major": 2,
       "version_minor": 0
      },
      "text/plain": [
       "Generation 47:   0%|          | 0/64 [00:00<?, ?it/s]"
      ]
     },
     "metadata": {},
     "output_type": "display_data"
    },
    {
     "data": {
      "application/vnd.jupyter.widget-view+json": {
       "model_id": "607bad4032b6422e9d1a0404169bbd85",
       "version_major": 2,
       "version_minor": 0
      },
      "text/plain": [
       "Generation 48:   0%|          | 0/64 [00:00<?, ?it/s]"
      ]
     },
     "metadata": {},
     "output_type": "display_data"
    },
    {
     "data": {
      "application/vnd.jupyter.widget-view+json": {
       "model_id": "5cf58dbcc4ce40b8bd0ce471270c6a8a",
       "version_major": 2,
       "version_minor": 0
      },
      "text/plain": [
       "Generation 49:   0%|          | 0/64 [00:00<?, ?it/s]"
      ]
     },
     "metadata": {},
     "output_type": "display_data"
    },
    {
     "data": {
      "application/vnd.jupyter.widget-view+json": {
       "model_id": "9692872d153145bf97d2e882eccb4172",
       "version_major": 2,
       "version_minor": 0
      },
      "text/plain": [
       "Generation 50:   0%|          | 0/64 [00:00<?, ?it/s]"
      ]
     },
     "metadata": {},
     "output_type": "display_data"
    },
    {
     "data": {
      "application/vnd.jupyter.widget-view+json": {
       "model_id": "e11a898defe747c1b20526f4eea575b4",
       "version_major": 2,
       "version_minor": 0
      },
      "text/plain": [
       "Generation 51:   0%|          | 0/64 [00:00<?, ?it/s]"
      ]
     },
     "metadata": {},
     "output_type": "display_data"
    },
    {
     "data": {
      "application/vnd.jupyter.widget-view+json": {
       "model_id": "0ac175afd6e2440d97e7c75ed9094458",
       "version_major": 2,
       "version_minor": 0
      },
      "text/plain": [
       "Generation 52:   0%|          | 0/64 [00:00<?, ?it/s]"
      ]
     },
     "metadata": {},
     "output_type": "display_data"
    },
    {
     "data": {
      "application/vnd.jupyter.widget-view+json": {
       "model_id": "21f25c6298a94a11b0cfc7f96901d378",
       "version_major": 2,
       "version_minor": 0
      },
      "text/plain": [
       "Generation 53:   0%|          | 0/64 [00:00<?, ?it/s]"
      ]
     },
     "metadata": {},
     "output_type": "display_data"
    },
    {
     "data": {
      "application/vnd.jupyter.widget-view+json": {
       "model_id": "bcc75a199c594d3c9a8d08c57f5a978c",
       "version_major": 2,
       "version_minor": 0
      },
      "text/plain": [
       "Generation 54:   0%|          | 0/64 [00:00<?, ?it/s]"
      ]
     },
     "metadata": {},
     "output_type": "display_data"
    },
    {
     "data": {
      "application/vnd.jupyter.widget-view+json": {
       "model_id": "78949857376e43c7b1122419aae0d8de",
       "version_major": 2,
       "version_minor": 0
      },
      "text/plain": [
       "Generation 55:   0%|          | 0/64 [00:00<?, ?it/s]"
      ]
     },
     "metadata": {},
     "output_type": "display_data"
    },
    {
     "data": {
      "application/vnd.jupyter.widget-view+json": {
       "model_id": "a9bca7da715248c8863959b7ef47afb0",
       "version_major": 2,
       "version_minor": 0
      },
      "text/plain": [
       "Generation 56:   0%|          | 0/64 [00:00<?, ?it/s]"
      ]
     },
     "metadata": {},
     "output_type": "display_data"
    },
    {
     "data": {
      "application/vnd.jupyter.widget-view+json": {
       "model_id": "15ee2400a4a34aac81b7c73538dd2dcc",
       "version_major": 2,
       "version_minor": 0
      },
      "text/plain": [
       "Generation 57:   0%|          | 0/64 [00:00<?, ?it/s]"
      ]
     },
     "metadata": {},
     "output_type": "display_data"
    },
    {
     "data": {
      "application/vnd.jupyter.widget-view+json": {
       "model_id": "d2e208f7200d4519b7250d9c169d8efc",
       "version_major": 2,
       "version_minor": 0
      },
      "text/plain": [
       "Generation 58:   0%|          | 0/64 [00:00<?, ?it/s]"
      ]
     },
     "metadata": {},
     "output_type": "display_data"
    },
    {
     "data": {
      "application/vnd.jupyter.widget-view+json": {
       "model_id": "c1eecfee3e7c49e9b0de3d3dfc8e9647",
       "version_major": 2,
       "version_minor": 0
      },
      "text/plain": [
       "Generation 59:   0%|          | 0/64 [00:00<?, ?it/s]"
      ]
     },
     "metadata": {},
     "output_type": "display_data"
    },
    {
     "data": {
      "application/vnd.jupyter.widget-view+json": {
       "model_id": "f7b47a2a23704e04a2095980774118ce",
       "version_major": 2,
       "version_minor": 0
      },
      "text/plain": [
       "Generation 60:   0%|          | 0/64 [00:00<?, ?it/s]"
      ]
     },
     "metadata": {},
     "output_type": "display_data"
    }
   ],
   "source": [
    "pop_data2 = cnsga(executor=executor, vocs=VOCS, population=pop_data, evaluate_f=evaluate_TNK,\n",
    "            max_generations = 40, population_size=64, output_path=None) "
   ]
  },
  {
   "cell_type": "code",
   "execution_count": 7,
   "metadata": {},
   "outputs": [
    {
     "data": {
      "text/plain": [
       "dict_keys(['variables', 'generation', 'vocs', 'error', 'inputs', 'outputs'])"
      ]
     },
     "execution_count": 7,
     "metadata": {},
     "output_type": "execute_result"
    }
   ],
   "source": [
    "pop_data2.keys()"
   ]
  },
  {
   "cell_type": "markdown",
   "metadata": {},
   "source": [
    "# Plot "
   ]
  },
  {
   "cell_type": "code",
   "execution_count": 8,
   "metadata": {},
   "outputs": [
    {
     "data": {
      "image/png": "[encoded data removed]",
      "text/plain": [
       "<Figure size 360x360 with 1 Axes>"
      ]
     },
     "metadata": {
      "needs_background": "light"
     },
     "output_type": "display_data"
    }
   ],
   "source": [
    "# Extract objectives from output\n",
    "key1, key2 = list(VOCS['objectives'])\n",
    "\n",
    "x = [o[key1] for o in pop_data2['outputs']]\n",
    "y = [o[key2] for o in pop_data2['outputs']]\n",
    "\n",
    "import matplotlib.pyplot as plt\n",
    "%matplotlib inline\n",
    "\n",
    "fig, ax = plt.subplots(figsize=(5,5))\n",
    "\n",
    "ax.scatter(x, y, color='blue')\n",
    "#ax.set_xlim(X_RANGE)\n",
    "#ax.set_ylim(Y_RANGE)\n",
    "ax.set_xlabel(key1)\n",
    "ax.set_ylabel(key2)\n",
    "ax.set_aspect('auto')\n",
    "#ax.set_title(NAME)"
   ]
  }
 ],
 "metadata": {
  "kernelspec": {
   "display_name": "Python 3 (ipykernel)",
   "language": "python",
   "name": "python3"
  },
  "language_info": {
   "codemirror_mode": {
    "name": "ipython",
    "version": 3
   },
   "file_extension": ".py",
   "mimetype": "text/x-python",
   "name": "python",
   "nbconvert_exporter": "python",
   "pygments_lexer": "ipython3",
   "version": "3.9.10"
  }
 },
 "nbformat": 4,
 "nbformat_minor": 4
}
