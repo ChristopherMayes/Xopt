{
 "cells": [
  {
   "cell_type": "code",
   "execution_count": 1,
   "metadata": {},
   "outputs": [],
   "source": [
    "# Useful for debugging\n",
    "%load_ext autoreload\n",
    "%autoreload 2"
   ]
  },
  {
   "cell_type": "markdown",
   "metadata": {},
   "source": [
    " # Xopt CNSGA algorithm"
   ]
  },
  {
   "cell_type": "code",
   "execution_count": 2,
   "metadata": {},
   "outputs": [],
   "source": [
    "from xopt.cnsga import cnsga\n",
    "import json\n",
    "import numpy as np\n",
    "import matplotlib.pyplot as plt"
   ]
  },
  {
   "cell_type": "code",
   "execution_count": 3,
   "metadata": {},
   "outputs": [
    {
     "data": {
      "text/plain": [
       "((0, 0), (-1.1, 0.5))"
      ]
     },
     "execution_count": 3,
     "metadata": {},
     "output_type": "execute_result"
    }
   ],
   "source": [
    "NAME = 'TNK'\n",
    "BOUND_LOW, BOUND_UP = [0.0, 0.0], [3.14159, 3.14159]  \n",
    "\n",
    "\n",
    "X_RANGE = [0, 1.4]\n",
    "Y_RANGE = [0, 1.4]\n",
    "\n",
    "# Pure number version\n",
    "def TNK(individual):    \n",
    "    x1=individual[0]\n",
    "    x2=individual[1]\n",
    "    objectives =  (x1, x2)\n",
    "    constraints = (x1**2+x2**2-1.0 - 0.1*np.cos(16*np.arctan2(x1, x2)), (x1-0.5)**2+(x2-0.5)**2 )\n",
    "    return objectives, constraints\n",
    "\n",
    "# labeled version\n",
    "def evaluate_TNK(inputs):\n",
    "    \n",
    "    info = {'some':'info', 'about':['the', 'run']}\n",
    "    ind = [inputs['x1'], inputs['x2']]\n",
    "    objectives, constraints = TNK(ind)    \n",
    "    outputs = {'y1':objectives[0], 'y2':objectives[1], 'c1':constraints[0], 'c2':constraints[1]}\n",
    "    \n",
    "    return outputs\n",
    "\n",
    "VOCS = {\n",
    "    'name':'TNK_test',\n",
    "    \n",
    "    'variables': {\n",
    "        'x1':[0, 3.14159],\n",
    "        'x2':[0, 3.14159]\n",
    "    },\n",
    "    'objectives':{\n",
    "        'y1':'MINIMIZE',\n",
    "        'y2':'MINIMIZE'\n",
    "        \n",
    "    },\n",
    "    'constraints':{\n",
    "        'c1': ['GREATER_THAN', 0],\n",
    "        'c2': ['LESS_THAN', 0.5]\n",
    "        \n",
    "    },\n",
    "    'constants':{'a':'dummy_constant'},\n",
    "    'linked_variables':{'x9':'x1'}\n",
    "    \n",
    "    \n",
    "}\n",
    "TNK([0,0])"
   ]
  },
  {
   "cell_type": "code",
   "execution_count": 4,
   "metadata": {},
   "outputs": [],
   "source": [
    "# Pick a parallel method\n",
    "\n",
    "\n",
    "#from concurrent.futures import ProcessPoolExecutor as PoolExecutor\n",
    "from concurrent.futures import ThreadPoolExecutor as PoolExecutor\n",
    "executor = PoolExecutor()"
   ]
  },
  {
   "cell_type": "code",
   "execution_count": 5,
   "metadata": {},
   "outputs": [
    {
     "data": {
      "application/vnd.jupyter.widget-view+json": {
       "model_id": "1e19d0dee77946d391aba23f89b08d52",
       "version_major": 2,
       "version_minor": 0
      },
      "text/plain": [
       "Generation 0:   0%|          | 0/64 [00:00<?, ?it/s]"
      ]
     },
     "metadata": {},
     "output_type": "display_data"
    },
    {
     "data": {
      "application/vnd.jupyter.widget-view+json": {
       "model_id": "2d544e24e5834e4985424eb363e8e0ce",
       "version_major": 2,
       "version_minor": 0
      },
      "text/plain": [
       "Generation 1:   0%|          | 0/64 [00:00<?, ?it/s]"
      ]
     },
     "metadata": {},
     "output_type": "display_data"
    },
    {
     "data": {
      "application/vnd.jupyter.widget-view+json": {
       "model_id": "d27c0f4606e74521b4843c4a98bfbeca",
       "version_major": 2,
       "version_minor": 0
      },
      "text/plain": [
       "Generation 2:   0%|          | 0/64 [00:00<?, ?it/s]"
      ]
     },
     "metadata": {},
     "output_type": "display_data"
    },
    {
     "data": {
      "application/vnd.jupyter.widget-view+json": {
       "model_id": "4d995337e069476a94cb1fff8f0ebd3d",
       "version_major": 2,
       "version_minor": 0
      },
      "text/plain": [
       "Generation 3:   0%|          | 0/64 [00:00<?, ?it/s]"
      ]
     },
     "metadata": {},
     "output_type": "display_data"
    },
    {
     "data": {
      "application/vnd.jupyter.widget-view+json": {
       "model_id": "b078f50ff15b4054af8d0e776efb68ea",
       "version_major": 2,
       "version_minor": 0
      },
      "text/plain": [
       "Generation 4:   0%|          | 0/64 [00:00<?, ?it/s]"
      ]
     },
     "metadata": {},
     "output_type": "display_data"
    },
    {
     "data": {
      "application/vnd.jupyter.widget-view+json": {
       "model_id": "fbb7cb134835415da61c5e86597ed273",
       "version_major": 2,
       "version_minor": 0
      },
      "text/plain": [
       "Generation 5:   0%|          | 0/64 [00:00<?, ?it/s]"
      ]
     },
     "metadata": {},
     "output_type": "display_data"
    },
    {
     "data": {
      "application/vnd.jupyter.widget-view+json": {
       "model_id": "48c3400f211d4cb28769b043e3c4fdad",
       "version_major": 2,
       "version_minor": 0
      },
      "text/plain": [
       "Generation 6:   0%|          | 0/64 [00:00<?, ?it/s]"
      ]
     },
     "metadata": {},
     "output_type": "display_data"
    },
    {
     "data": {
      "application/vnd.jupyter.widget-view+json": {
       "model_id": "e859a572840847338b50b7b4308212b7",
       "version_major": 2,
       "version_minor": 0
      },
      "text/plain": [
       "Generation 7:   0%|          | 0/64 [00:00<?, ?it/s]"
      ]
     },
     "metadata": {},
     "output_type": "display_data"
    },
    {
     "data": {
      "application/vnd.jupyter.widget-view+json": {
       "model_id": "e1295451dc3c4a3c99fbf36f53814563",
       "version_major": 2,
       "version_minor": 0
      },
      "text/plain": [
       "Generation 8:   0%|          | 0/64 [00:00<?, ?it/s]"
      ]
     },
     "metadata": {},
     "output_type": "display_data"
    },
    {
     "data": {
      "application/vnd.jupyter.widget-view+json": {
       "model_id": "397827c223bc4d20a2fb20020acfa17d",
       "version_major": 2,
       "version_minor": 0
      },
      "text/plain": [
       "Generation 9:   0%|          | 0/64 [00:00<?, ?it/s]"
      ]
     },
     "metadata": {},
     "output_type": "display_data"
    },
    {
     "data": {
      "application/vnd.jupyter.widget-view+json": {
       "model_id": "5f880f6d066e4d1fb5779162c892006e",
       "version_major": 2,
       "version_minor": 0
      },
      "text/plain": [
       "Generation 10:   0%|          | 0/64 [00:00<?, ?it/s]"
      ]
     },
     "metadata": {},
     "output_type": "display_data"
    },
    {
     "data": {
      "application/vnd.jupyter.widget-view+json": {
       "model_id": "18dca67cbcb14d56b0add351b08db334",
       "version_major": 2,
       "version_minor": 0
      },
      "text/plain": [
       "Generation 11:   0%|          | 0/64 [00:00<?, ?it/s]"
      ]
     },
     "metadata": {},
     "output_type": "display_data"
    },
    {
     "data": {
      "application/vnd.jupyter.widget-view+json": {
       "model_id": "4e1a4788e74c43df87ff93cfd7ec9561",
       "version_major": 2,
       "version_minor": 0
      },
      "text/plain": [
       "Generation 12:   0%|          | 0/64 [00:00<?, ?it/s]"
      ]
     },
     "metadata": {},
     "output_type": "display_data"
    },
    {
     "data": {
      "application/vnd.jupyter.widget-view+json": {
       "model_id": "8da6c2f25b814c5a8b1543c7f04900af",
       "version_major": 2,
       "version_minor": 0
      },
      "text/plain": [
       "Generation 13:   0%|          | 0/64 [00:00<?, ?it/s]"
      ]
     },
     "metadata": {},
     "output_type": "display_data"
    },
    {
     "data": {
      "application/vnd.jupyter.widget-view+json": {
       "model_id": "b88d2b996fc14905a650162d167ee394",
       "version_major": 2,
       "version_minor": 0
      },
      "text/plain": [
       "Generation 14:   0%|          | 0/64 [00:00<?, ?it/s]"
      ]
     },
     "metadata": {},
     "output_type": "display_data"
    },
    {
     "data": {
      "application/vnd.jupyter.widget-view+json": {
       "model_id": "3ca54bd730c8424aa469dd16a4f17acd",
       "version_major": 2,
       "version_minor": 0
      },
      "text/plain": [
       "Generation 15:   0%|          | 0/64 [00:00<?, ?it/s]"
      ]
     },
     "metadata": {},
     "output_type": "display_data"
    },
    {
     "data": {
      "application/vnd.jupyter.widget-view+json": {
       "model_id": "e93867301d134000a5ced086eabcd46a",
       "version_major": 2,
       "version_minor": 0
      },
      "text/plain": [
       "Generation 16:   0%|          | 0/64 [00:00<?, ?it/s]"
      ]
     },
     "metadata": {},
     "output_type": "display_data"
    },
    {
     "data": {
      "application/vnd.jupyter.widget-view+json": {
       "model_id": "25c5edbae96e4489bf0b712bfdb44ed6",
       "version_major": 2,
       "version_minor": 0
      },
      "text/plain": [
       "Generation 17:   0%|          | 0/64 [00:00<?, ?it/s]"
      ]
     },
     "metadata": {},
     "output_type": "display_data"
    },
    {
     "data": {
      "application/vnd.jupyter.widget-view+json": {
       "model_id": "c2fc631f426244fdb2b8b5f51902914d",
       "version_major": 2,
       "version_minor": 0
      },
      "text/plain": [
       "Generation 18:   0%|          | 0/64 [00:00<?, ?it/s]"
      ]
     },
     "metadata": {},
     "output_type": "display_data"
    },
    {
     "data": {
      "application/vnd.jupyter.widget-view+json": {
       "model_id": "36868267111d4fb88ce94f79539ab414",
       "version_major": 2,
       "version_minor": 0
      },
      "text/plain": [
       "Generation 19:   0%|          | 0/64 [00:00<?, ?it/s]"
      ]
     },
     "metadata": {},
     "output_type": "display_data"
    }
   ],
   "source": [
    "pop_data = cnsga(executor=executor, vocs=VOCS, evaluate_f=evaluate_TNK,\n",
    "            max_generations = 20, population_size=64, output_path=None) "
   ]
  },
  {
   "cell_type": "code",
   "execution_count": 6,
   "metadata": {},
   "outputs": [
    {
     "data": {
      "application/vnd.jupyter.widget-view+json": {
       "model_id": "4b8a11e73e2c4ebdabb9686d4e2d2f3d",
       "version_major": 2,
       "version_minor": 0
      },
      "text/plain": [
       "Generation 21:   0%|          | 0/64 [00:00<?, ?it/s]"
      ]
     },
     "metadata": {},
     "output_type": "display_data"
    },
    {
     "data": {
      "application/vnd.jupyter.widget-view+json": {
       "model_id": "39850a2fdeb54b3280769c2be2815987",
       "version_major": 2,
       "version_minor": 0
      },
      "text/plain": [
       "Generation 22:   0%|          | 0/64 [00:00<?, ?it/s]"
      ]
     },
     "metadata": {},
     "output_type": "display_data"
    },
    {
     "data": {
      "application/vnd.jupyter.widget-view+json": {
       "model_id": "b88b4e91ee7f4af582fb67b9b0ccb754",
       "version_major": 2,
       "version_minor": 0
      },
      "text/plain": [
       "Generation 23:   0%|          | 0/64 [00:00<?, ?it/s]"
      ]
     },
     "metadata": {},
     "output_type": "display_data"
    },
    {
     "data": {
      "application/vnd.jupyter.widget-view+json": {
       "model_id": "56cb62f37d924bd99cbe47561d511fc3",
       "version_major": 2,
       "version_minor": 0
      },
      "text/plain": [
       "Generation 24:   0%|          | 0/64 [00:00<?, ?it/s]"
      ]
     },
     "metadata": {},
     "output_type": "display_data"
    },
    {
     "data": {
      "application/vnd.jupyter.widget-view+json": {
       "model_id": "679d595505404e658ab178177b72d1f8",
       "version_major": 2,
       "version_minor": 0
      },
      "text/plain": [
       "Generation 25:   0%|          | 0/64 [00:00<?, ?it/s]"
      ]
     },
     "metadata": {},
     "output_type": "display_data"
    },
    {
     "data": {
      "application/vnd.jupyter.widget-view+json": {
       "model_id": "d4407daeb88040f8b9889febe9cd6eb3",
       "version_major": 2,
       "version_minor": 0
      },
      "text/plain": [
       "Generation 26:   0%|          | 0/64 [00:00<?, ?it/s]"
      ]
     },
     "metadata": {},
     "output_type": "display_data"
    },
    {
     "data": {
      "application/vnd.jupyter.widget-view+json": {
       "model_id": "965894b03d89411d86b196657cfe6a9c",
       "version_major": 2,
       "version_minor": 0
      },
      "text/plain": [
       "Generation 27:   0%|          | 0/64 [00:00<?, ?it/s]"
      ]
     },
     "metadata": {},
     "output_type": "display_data"
    },
    {
     "data": {
      "application/vnd.jupyter.widget-view+json": {
       "model_id": "2eb7c954bd804ab5b2b4db454634eaa5",
       "version_major": 2,
       "version_minor": 0
      },
      "text/plain": [
       "Generation 28:   0%|          | 0/64 [00:00<?, ?it/s]"
      ]
     },
     "metadata": {},
     "output_type": "display_data"
    },
    {
     "data": {
      "application/vnd.jupyter.widget-view+json": {
       "model_id": "13d37f7b3a8c4cf78748bf699555d9cc",
       "version_major": 2,
       "version_minor": 0
      },
      "text/plain": [
       "Generation 29:   0%|          | 0/64 [00:00<?, ?it/s]"
      ]
     },
     "metadata": {},
     "output_type": "display_data"
    },
    {
     "data": {
      "application/vnd.jupyter.widget-view+json": {
       "model_id": "72d3082565ee4453b7fff44032e7d848",
       "version_major": 2,
       "version_minor": 0
      },
      "text/plain": [
       "Generation 30:   0%|          | 0/64 [00:00<?, ?it/s]"
      ]
     },
     "metadata": {},
     "output_type": "display_data"
    },
    {
     "data": {
      "application/vnd.jupyter.widget-view+json": {
       "model_id": "b6e74e17593a4b778256695eb7c07985",
       "version_major": 2,
       "version_minor": 0
      },
      "text/plain": [
       "Generation 31:   0%|          | 0/64 [00:00<?, ?it/s]"
      ]
     },
     "metadata": {},
     "output_type": "display_data"
    },
    {
     "data": {
      "application/vnd.jupyter.widget-view+json": {
       "model_id": "d88bbf41576c498f8bf425d0d2803f2b",
       "version_major": 2,
       "version_minor": 0
      },
      "text/plain": [
       "Generation 32:   0%|          | 0/64 [00:00<?, ?it/s]"
      ]
     },
     "metadata": {},
     "output_type": "display_data"
    },
    {
     "data": {
      "application/vnd.jupyter.widget-view+json": {
       "model_id": "0c9e8eee7aba4da9be10224059aba287",
       "version_major": 2,
       "version_minor": 0
      },
      "text/plain": [
       "Generation 33:   0%|          | 0/64 [00:00<?, ?it/s]"
      ]
     },
     "metadata": {},
     "output_type": "display_data"
    },
    {
     "data": {
      "application/vnd.jupyter.widget-view+json": {
       "model_id": "5bb18e4607df4ca6b6f81176cf09fc1d",
       "version_major": 2,
       "version_minor": 0
      },
      "text/plain": [
       "Generation 34:   0%|          | 0/64 [00:00<?, ?it/s]"
      ]
     },
     "metadata": {},
     "output_type": "display_data"
    },
    {
     "data": {
      "application/vnd.jupyter.widget-view+json": {
       "model_id": "a951dd2bc7de4ec593ba43a99527eab4",
       "version_major": 2,
       "version_minor": 0
      },
      "text/plain": [
       "Generation 35:   0%|          | 0/64 [00:00<?, ?it/s]"
      ]
     },
     "metadata": {},
     "output_type": "display_data"
    },
    {
     "data": {
      "application/vnd.jupyter.widget-view+json": {
       "model_id": "e23a2546522e481bb1b92ffd16978541",
       "version_major": 2,
       "version_minor": 0
      },
      "text/plain": [
       "Generation 36:   0%|          | 0/64 [00:00<?, ?it/s]"
      ]
     },
     "metadata": {},
     "output_type": "display_data"
    },
    {
     "data": {
      "application/vnd.jupyter.widget-view+json": {
       "model_id": "6cfa61bc84794725b24f78762b0c8321",
       "version_major": 2,
       "version_minor": 0
      },
      "text/plain": [
       "Generation 37:   0%|          | 0/64 [00:00<?, ?it/s]"
      ]
     },
     "metadata": {},
     "output_type": "display_data"
    },
    {
     "data": {
      "application/vnd.jupyter.widget-view+json": {
       "model_id": "0737f1640c994f03a6cbdb132c04d5da",
       "version_major": 2,
       "version_minor": 0
      },
      "text/plain": [
       "Generation 38:   0%|          | 0/64 [00:00<?, ?it/s]"
      ]
     },
     "metadata": {},
     "output_type": "display_data"
    },
    {
     "data": {
      "application/vnd.jupyter.widget-view+json": {
       "model_id": "0e8e41bfbef446e6b530cd0169beeb2c",
       "version_major": 2,
       "version_minor": 0
      },
      "text/plain": [
       "Generation 39:   0%|          | 0/64 [00:00<?, ?it/s]"
      ]
     },
     "metadata": {},
     "output_type": "display_data"
    },
    {
     "data": {
      "application/vnd.jupyter.widget-view+json": {
       "model_id": "ed7a17a2b4dd481ea7c79de5b0569344",
       "version_major": 2,
       "version_minor": 0
      },
      "text/plain": [
       "Generation 40:   0%|          | 0/64 [00:00<?, ?it/s]"
      ]
     },
     "metadata": {},
     "output_type": "display_data"
    },
    {
     "data": {
      "application/vnd.jupyter.widget-view+json": {
       "model_id": "356c03255f174d33960d1af3e17ada36",
       "version_major": 2,
       "version_minor": 0
      },
      "text/plain": [
       "Generation 41:   0%|          | 0/64 [00:00<?, ?it/s]"
      ]
     },
     "metadata": {},
     "output_type": "display_data"
    },
    {
     "data": {
      "application/vnd.jupyter.widget-view+json": {
       "model_id": "86af3c1bd64a4579a7dbf34561cb4a80",
       "version_major": 2,
       "version_minor": 0
      },
      "text/plain": [
       "Generation 42:   0%|          | 0/64 [00:00<?, ?it/s]"
      ]
     },
     "metadata": {},
     "output_type": "display_data"
    },
    {
     "data": {
      "application/vnd.jupyter.widget-view+json": {
       "model_id": "c14ceb583c154a5abd07e0d43ee36d9c",
       "version_major": 2,
       "version_minor": 0
      },
      "text/plain": [
       "Generation 43:   0%|          | 0/64 [00:00<?, ?it/s]"
      ]
     },
     "metadata": {},
     "output_type": "display_data"
    },
    {
     "data": {
      "application/vnd.jupyter.widget-view+json": {
       "model_id": "c1d509b018e0439ca6e9d377b54ddca1",
       "version_major": 2,
       "version_minor": 0
      },
      "text/plain": [
       "Generation 44:   0%|          | 0/64 [00:00<?, ?it/s]"
      ]
     },
     "metadata": {},
     "output_type": "display_data"
    },
    {
     "data": {
      "application/vnd.jupyter.widget-view+json": {
       "model_id": "cb2db5f9c1944f8ab6f04b32af9932ca",
       "version_major": 2,
       "version_minor": 0
      },
      "text/plain": [
       "Generation 45:   0%|          | 0/64 [00:00<?, ?it/s]"
      ]
     },
     "metadata": {},
     "output_type": "display_data"
    },
    {
     "data": {
      "application/vnd.jupyter.widget-view+json": {
       "model_id": "ad44a461bac1456b899e201b0f394355",
       "version_major": 2,
       "version_minor": 0
      },
      "text/plain": [
       "Generation 46:   0%|          | 0/64 [00:00<?, ?it/s]"
      ]
     },
     "metadata": {},
     "output_type": "display_data"
    },
    {
     "data": {
      "application/vnd.jupyter.widget-view+json": {
       "model_id": "d8efd077a3a2445e8744f021771b37bf",
       "version_major": 2,
       "version_minor": 0
      },
      "text/plain": [
       "Generation 47:   0%|          | 0/64 [00:00<?, ?it/s]"
      ]
     },
     "metadata": {},
     "output_type": "display_data"
    },
    {
     "data": {
      "application/vnd.jupyter.widget-view+json": {
       "model_id": "1bb5f5c877be40e3bfe3821b0d9cea55",
       "version_major": 2,
       "version_minor": 0
      },
      "text/plain": [
       "Generation 48:   0%|          | 0/64 [00:00<?, ?it/s]"
      ]
     },
     "metadata": {},
     "output_type": "display_data"
    },
    {
     "data": {
      "application/vnd.jupyter.widget-view+json": {
       "model_id": "279f1344e4bf498592d51651cab9b033",
       "version_major": 2,
       "version_minor": 0
      },
      "text/plain": [
       "Generation 49:   0%|          | 0/64 [00:00<?, ?it/s]"
      ]
     },
     "metadata": {},
     "output_type": "display_data"
    },
    {
     "data": {
      "application/vnd.jupyter.widget-view+json": {
       "model_id": "fb5e3ed03cd648228817663480fa43d3",
       "version_major": 2,
       "version_minor": 0
      },
      "text/plain": [
       "Generation 50:   0%|          | 0/64 [00:00<?, ?it/s]"
      ]
     },
     "metadata": {},
     "output_type": "display_data"
    },
    {
     "data": {
      "application/vnd.jupyter.widget-view+json": {
       "model_id": "492ff9dd2c4b493aa842076c84083723",
       "version_major": 2,
       "version_minor": 0
      },
      "text/plain": [
       "Generation 51:   0%|          | 0/64 [00:00<?, ?it/s]"
      ]
     },
     "metadata": {},
     "output_type": "display_data"
    },
    {
     "data": {
      "application/vnd.jupyter.widget-view+json": {
       "model_id": "e290e6dc16304642bd033ca88ba91667",
       "version_major": 2,
       "version_minor": 0
      },
      "text/plain": [
       "Generation 52:   0%|          | 0/64 [00:00<?, ?it/s]"
      ]
     },
     "metadata": {},
     "output_type": "display_data"
    },
    {
     "data": {
      "application/vnd.jupyter.widget-view+json": {
       "model_id": "6a1cf1c11f9945418f1109dd78f99d48",
       "version_major": 2,
       "version_minor": 0
      },
      "text/plain": [
       "Generation 53:   0%|          | 0/64 [00:00<?, ?it/s]"
      ]
     },
     "metadata": {},
     "output_type": "display_data"
    },
    {
     "data": {
      "application/vnd.jupyter.widget-view+json": {
       "model_id": "038b51bc6faa437291743bdd6870e480",
       "version_major": 2,
       "version_minor": 0
      },
      "text/plain": [
       "Generation 54:   0%|          | 0/64 [00:00<?, ?it/s]"
      ]
     },
     "metadata": {},
     "output_type": "display_data"
    },
    {
     "data": {
      "application/vnd.jupyter.widget-view+json": {
       "model_id": "29e08065fcc44a0d9327cbe73600b830",
       "version_major": 2,
       "version_minor": 0
      },
      "text/plain": [
       "Generation 55:   0%|          | 0/64 [00:00<?, ?it/s]"
      ]
     },
     "metadata": {},
     "output_type": "display_data"
    },
    {
     "data": {
      "application/vnd.jupyter.widget-view+json": {
       "model_id": "5611c9b169204759af7e5d18672b5cb9",
       "version_major": 2,
       "version_minor": 0
      },
      "text/plain": [
       "Generation 56:   0%|          | 0/64 [00:00<?, ?it/s]"
      ]
     },
     "metadata": {},
     "output_type": "display_data"
    },
    {
     "data": {
      "application/vnd.jupyter.widget-view+json": {
       "model_id": "5188380bb0b8452a8b948db9c6c248c3",
       "version_major": 2,
       "version_minor": 0
      },
      "text/plain": [
       "Generation 57:   0%|          | 0/64 [00:00<?, ?it/s]"
      ]
     },
     "metadata": {},
     "output_type": "display_data"
    },
    {
     "data": {
      "application/vnd.jupyter.widget-view+json": {
       "model_id": "7a81c7ec2ba049bdbfb7d07c3a45fde7",
       "version_major": 2,
       "version_minor": 0
      },
      "text/plain": [
       "Generation 58:   0%|          | 0/64 [00:00<?, ?it/s]"
      ]
     },
     "metadata": {},
     "output_type": "display_data"
    },
    {
     "data": {
      "application/vnd.jupyter.widget-view+json": {
       "model_id": "6f5c84adf4424a018a5fd67526f76f7a",
       "version_major": 2,
       "version_minor": 0
      },
      "text/plain": [
       "Generation 59:   0%|          | 0/64 [00:00<?, ?it/s]"
      ]
     },
     "metadata": {},
     "output_type": "display_data"
    },
    {
     "data": {
      "application/vnd.jupyter.widget-view+json": {
       "model_id": "e4a910f02d4b480f826da9cc66ee15f9",
       "version_major": 2,
       "version_minor": 0
      },
      "text/plain": [
       "Generation 60:   0%|          | 0/64 [00:00<?, ?it/s]"
      ]
     },
     "metadata": {},
     "output_type": "display_data"
    }
   ],
   "source": [
    "pop_data2 = cnsga(executor=executor, vocs=VOCS, population=pop_data, evaluate_f=evaluate_TNK,\n",
    "            max_generations = 40, population_size=64, output_path=None) "
   ]
  },
  {
   "cell_type": "code",
   "execution_count": 7,
   "metadata": {},
   "outputs": [
    {
     "data": {
      "text/plain": [
       "dict_keys(['variables', 'generation', 'vocs', 'error', 'inputs', 'outputs'])"
      ]
     },
     "execution_count": 7,
     "metadata": {},
     "output_type": "execute_result"
    }
   ],
   "source": [
    "pop_data2.keys()"
   ]
  },
  {
   "cell_type": "markdown",
   "metadata": {},
   "source": [
    "# Plot "
   ]
  },
  {
   "cell_type": "code",
   "execution_count": 8,
   "metadata": {},
   "outputs": [
    {
     "data": {
      "image/png": "[encoded data removed]",
      "text/plain": [
       "<Figure size 360x360 with 1 Axes>"
      ]
     },
     "metadata": {
      "needs_background": "light"
     },
     "output_type": "display_data"
    }
   ],
   "source": [
    "# Extract objectives from output\n",
    "key1, key2 = list(VOCS['objectives'])\n",
    "\n",
    "x = [o[key1] for o in pop_data2['outputs']]\n",
    "y = [o[key2] for o in pop_data2['outputs']]\n",
    "\n",
    "import matplotlib.pyplot as plt\n",
    "%matplotlib inline\n",
    "\n",
    "fig, ax = plt.subplots(figsize=(5,5))\n",
    "\n",
    "ax.scatter(x, y, color='blue')\n",
    "#ax.set_xlim(X_RANGE)\n",
    "#ax.set_ylim(Y_RANGE)\n",
    "ax.set_xlabel(key1)\n",
    "ax.set_ylabel(key2)\n",
    "ax.set_aspect('auto')\n",
    "#ax.set_title(NAME)"
   ]
  }
 ],
 "metadata": {
  "kernelspec": {
   "display_name": "Python 3 (ipykernel)",
   "language": "python",
   "name": "python3"
  },
  "language_info": {
   "codemirror_mode": {
    "name": "ipython",
    "version": 3
   },
   "file_extension": ".py",
   "mimetype": "text/x-python",
   "name": "python",
   "nbconvert_exporter": "python",
   "pygments_lexer": "ipython3",
   "version": "3.9.12"
  }
 },
 "nbformat": 4,
 "nbformat_minor": 4
}
