{
 "cells": [
  {
   "cell_type": "code",
   "execution_count": 1,
   "metadata": {},
   "outputs": [],
   "source": [
    "# Useful for debugging\n",
    "%load_ext autoreload\n",
    "%autoreload 2"
   ]
  },
  {
   "cell_type": "markdown",
   "metadata": {},
   "source": [
    " # Xopt CNSGA algorithm"
   ]
  },
  {
   "cell_type": "code",
   "execution_count": 2,
   "metadata": {},
   "outputs": [],
   "source": [
    "from xopt.cnsga import cnsga\n",
    "import json\n",
    "import numpy as np\n",
    "import matplotlib.pyplot as plt"
   ]
  },
  {
   "cell_type": "code",
   "execution_count": 3,
   "metadata": {},
   "outputs": [
    {
     "data": {
      "text/plain": [
       "((0, 0), (-1.1, 0.5))"
      ]
     },
     "execution_count": 3,
     "metadata": {},
     "output_type": "execute_result"
    }
   ],
   "source": [
    "NAME = 'TNK'\n",
    "BOUND_LOW, BOUND_UP = [0.0, 0.0], [3.14159, 3.14159]  \n",
    "\n",
    "\n",
    "X_RANGE = [0, 1.4]\n",
    "Y_RANGE = [0, 1.4]\n",
    "\n",
    "# Pure number version\n",
    "def TNK(individual):    \n",
    "    x1=individual[0]\n",
    "    x2=individual[1]\n",
    "    objectives =  (x1, x2)\n",
    "    constraints = (x1**2+x2**2-1.0 - 0.1*np.cos(16*np.arctan2(x1, x2)), (x1-0.5)**2+(x2-0.5)**2 )\n",
    "    return objectives, constraints\n",
    "\n",
    "# labeled version\n",
    "def evaluate_TNK(inputs):\n",
    "    \n",
    "    info = {'some':'info', 'about':['the', 'run']}\n",
    "    ind = [inputs['x1'], inputs['x2']]\n",
    "    objectives, constraints = TNK(ind)    \n",
    "    outputs = {'y1':objectives[0], 'y2':objectives[1], 'c1':constraints[0], 'c2':constraints[1]}\n",
    "    \n",
    "    return outputs\n",
    "\n",
    "VOCS = {\n",
    "    'name':'TNK_test',\n",
    "    \n",
    "    'variables': {\n",
    "        'x1':[0, 3.14159],\n",
    "        'x2':[0, 3.14159]\n",
    "    },\n",
    "    'objectives':{\n",
    "        'y1':'MINIMIZE',\n",
    "        'y2':'MINIMIZE'\n",
    "        \n",
    "    },\n",
    "    'constraints':{\n",
    "        'c1': ['GREATER_THAN', 0],\n",
    "        'c2': ['LESS_THAN', 0.5]\n",
    "        \n",
    "    },\n",
    "    'constants':{'a':'dummy_constant'},\n",
    "    'linked_variables':{'x9':'x1'}\n",
    "    \n",
    "    \n",
    "}\n",
    "TNK([0,0])"
   ]
  },
  {
   "cell_type": "code",
   "execution_count": 4,
   "metadata": {},
   "outputs": [],
   "source": [
    "# Pick a parallel method\n",
    "\n",
    "\n",
    "#from concurrent.futures import ProcessPoolExecutor as PoolExecutor\n",
    "from concurrent.futures import ThreadPoolExecutor as PoolExecutor\n",
    "executor = PoolExecutor()"
   ]
  },
  {
   "cell_type": "code",
   "execution_count": 5,
   "metadata": {},
   "outputs": [
    {
     "name": "stderr",
     "output_type": "stream",
     "text": [
      "Generation 0: 100%|██████████| 64/64 [00:00<00:00, 3168.95it/s]\n",
      "Generation 1: 100%|██████████| 64/64 [00:00<00:00, 3210.87it/s]\n",
      "Generation 2: 100%|██████████| 64/64 [00:00<00:00, 3295.59it/s]\n",
      "Generation 3: 100%|██████████| 64/64 [00:00<00:00, 3500.31it/s]\n",
      "Generation 4: 100%|██████████| 64/64 [00:00<00:00, 3864.22it/s]\n",
      "Generation 5: 100%|██████████| 64/64 [00:00<00:00, 4123.94it/s]\n",
      "Generation 6: 100%|██████████| 64/64 [00:00<00:00, 4169.87it/s]\n",
      "Generation 7: 100%|██████████| 64/64 [00:00<00:00, 3702.25it/s]\n",
      "Generation 8: 100%|██████████| 64/64 [00:00<00:00, 3929.78it/s]\n",
      "Generation 9: 100%|██████████| 64/64 [00:00<00:00, 3859.10it/s]\n",
      "Generation 10: 100%|██████████| 64/64 [00:00<00:00, 4043.98it/s]\n",
      "Generation 11: 100%|██████████| 64/64 [00:00<00:00, 4077.46it/s]\n",
      "Generation 12: 100%|██████████| 64/64 [00:00<00:00, 3608.68it/s]\n",
      "Generation 13: 100%|██████████| 64/64 [00:00<00:00, 3758.28it/s]\n",
      "Generation 14: 100%|██████████| 64/64 [00:00<00:00, 4030.50it/s]\n",
      "Generation 15: 100%|██████████| 64/64 [00:00<00:00, 4082.42it/s]\n",
      "Generation 16: 100%|██████████| 64/64 [00:00<00:00, 3994.75it/s]\n",
      "Generation 17: 100%|██████████| 64/64 [00:00<00:00, 3961.80it/s]\n",
      "Generation 18: 100%|██████████| 64/64 [00:00<00:00, 4452.40it/s]\n",
      "Generation 19: 127it [00:00, 8847.13it/s]            \n"
     ]
    }
   ],
   "source": [
    "pop_data = cnsga(executor=executor, vocs=VOCS, evaluate_f=evaluate_TNK,\n",
    "            max_generations = 20, population_size=64, output_path=None) "
   ]
  },
  {
   "cell_type": "code",
   "execution_count": 6,
   "metadata": {},
   "outputs": [
    {
     "name": "stderr",
     "output_type": "stream",
     "text": [
      "Generation 21: 100%|██████████| 64/64 [00:00<00:00, 4180.07it/s]\n",
      "Generation 22: 100%|██████████| 64/64 [00:00<00:00, 4027.60it/s]\n",
      "Generation 23: 100%|██████████| 64/64 [00:00<00:00, 3695.52it/s]\n",
      "Generation 24: 100%|██████████| 64/64 [00:00<00:00, 4093.69it/s]\n",
      "Generation 25: 100%|██████████| 64/64 [00:00<00:00, 4096.44it/s]\n",
      "Generation 26: 100%|██████████| 64/64 [00:00<00:00, 4217.77it/s]\n",
      "Generation 27: 100%|██████████| 64/64 [00:00<00:00, 4303.44it/s]\n",
      "Generation 28: 100%|██████████| 64/64 [00:00<00:00, 5267.16it/s]\n",
      "Generation 29: 100%|██████████| 64/64 [00:00<00:00, 5552.27it/s]\n",
      "Generation 30: 100%|██████████| 64/64 [00:00<00:00, 5313.34it/s]\n",
      "Generation 31: 100%|██████████| 64/64 [00:00<00:00, 4463.66it/s]\n",
      "Generation 32: 100%|██████████| 64/64 [00:00<00:00, 5494.08it/s]\n",
      "Generation 33: 100%|██████████| 64/64 [00:00<00:00, 5884.03it/s]\n",
      "Generation 34: 100%|██████████| 64/64 [00:00<00:00, 5975.19it/s]\n",
      "Generation 35: 100%|██████████| 64/64 [00:00<00:00, 5531.10it/s]\n",
      "Generation 36: 100%|██████████| 64/64 [00:00<00:00, 5662.60it/s]\n",
      "Generation 37: 100%|██████████| 64/64 [00:00<00:00, 6075.40it/s]\n",
      "Generation 38: 100%|██████████| 64/64 [00:00<00:00, 5432.93it/s]\n",
      "Generation 39: 100%|██████████| 64/64 [00:00<00:00, 5724.42it/s]\n",
      "Generation 40: 100%|██████████| 64/64 [00:00<00:00, 6006.61it/s]\n",
      "Generation 41: 100%|██████████| 64/64 [00:00<00:00, 6006.48it/s]\n",
      "Generation 42: 100%|██████████| 64/64 [00:00<00:00, 5251.60it/s]\n",
      "Generation 43: 100%|██████████| 64/64 [00:00<00:00, 5265.40it/s]\n",
      "Generation 44: 100%|██████████| 64/64 [00:00<00:00, 4846.72it/s]\n",
      "Generation 45: 100%|██████████| 64/64 [00:00<00:00, 4830.23it/s]\n",
      "Generation 46: 100%|██████████| 64/64 [00:00<00:00, 4916.22it/s]\n",
      "Generation 47: 100%|██████████| 64/64 [00:00<00:00, 4976.28it/s]\n",
      "Generation 48: 100%|██████████| 64/64 [00:00<00:00, 4679.35it/s]\n",
      "Generation 49: 100%|██████████| 64/64 [00:00<00:00, 4449.08it/s]\n",
      "Generation 50: 100%|██████████| 64/64 [00:00<00:00, 4450.04it/s]\n",
      "Generation 51: 100%|██████████| 64/64 [00:00<00:00, 4642.77it/s]\n",
      "Generation 52: 100%|██████████| 64/64 [00:00<00:00, 4673.16it/s]\n",
      "Generation 53: 100%|██████████| 64/64 [00:00<00:00, 4632.03it/s]\n",
      "Generation 54: 100%|██████████| 64/64 [00:00<00:00, 4509.17it/s]\n",
      "Generation 55: 100%|██████████| 64/64 [00:00<00:00, 4955.52it/s]\n",
      "Generation 56: 100%|██████████| 64/64 [00:00<00:00, 4384.12it/s]\n",
      "Generation 57: 100%|██████████| 64/64 [00:00<00:00, 4719.16it/s]\n",
      "Generation 58: 100%|██████████| 64/64 [00:00<00:00, 4357.93it/s]\n",
      "Generation 59: 100%|██████████| 64/64 [00:00<00:00, 4566.86it/s]\n",
      "Generation 60: 127it [00:00, 8696.19it/s]            \n"
     ]
    }
   ],
   "source": [
    "pop_data2 = cnsga(executor=executor, vocs=VOCS, population=pop_data, evaluate_f=evaluate_TNK,\n",
    "            max_generations = 40, population_size=64, output_path=None) "
   ]
  },
  {
   "cell_type": "code",
   "execution_count": 7,
   "metadata": {},
   "outputs": [
    {
     "data": {
      "text/plain": [
       "dict_keys(['variables', 'generation', 'vocs', 'error', 'inputs', 'outputs'])"
      ]
     },
     "execution_count": 7,
     "metadata": {},
     "output_type": "execute_result"
    }
   ],
   "source": [
    "pop_data2.keys()"
   ]
  },
  {
   "cell_type": "markdown",
   "metadata": {},
   "source": [
    "# Plot "
   ]
  },
  {
   "cell_type": "code",
   "execution_count": 8,
   "metadata": {},
   "outputs": [
    {
     "data": {
      "image/png": "[encoded data removed]",
      "text/plain": [
       "<Figure size 360x360 with 1 Axes>"
      ]
     },
     "metadata": {
      "needs_background": "light"
     },
     "output_type": "display_data"
    }
   ],
   "source": [
    "# Extract objectives from output\n",
    "key1, key2 = list(VOCS['objectives'])\n",
    "\n",
    "x = [o[key1] for o in pop_data2['outputs']]\n",
    "y = [o[key2] for o in pop_data2['outputs']]\n",
    "\n",
    "import matplotlib.pyplot as plt\n",
    "%matplotlib inline\n",
    "\n",
    "fig, ax = plt.subplots(figsize=(5,5))\n",
    "\n",
    "ax.scatter(x, y, color='blue')\n",
    "#ax.set_xlim(X_RANGE)\n",
    "#ax.set_ylim(Y_RANGE)\n",
    "ax.set_xlabel(key1)\n",
    "ax.set_ylabel(key2)\n",
    "ax.set_aspect('auto')\n",
    "#ax.set_title(NAME)"
   ]
  }
 ],
 "metadata": {
  "kernelspec": {
   "display_name": "Python 3 (ipykernel)",
   "language": "python",
   "name": "python3"
  },
  "language_info": {
   "codemirror_mode": {
    "name": "ipython",
    "version": 3
   },
   "file_extension": ".py",
   "mimetype": "text/x-python",
   "name": "python",
   "nbconvert_exporter": "python",
   "pygments_lexer": "ipython3",
   "version": "3.9.10"
  }
 },
 "nbformat": 4,
 "nbformat_minor": 4
}
