{
 "cells": [
  {
   "cell_type": "markdown",
   "metadata": {},
   "source": [
    "# Xopt basic example\n",
    "\n",
    "An Xopt problem can be described by a simple YAML file. Here we will demonstrate how this is used to optimize a well-known constrained multi-objective test function, TNK.\n",
    "\n",
    "## TNK test function\n",
    "\n",
    "The TNK function is defined with:\n",
    "\n",
    "$n=2$ variables:\n",
    "$x_i \\in [0, \\pi], i=1,2$\n",
    "\n",
    "Objectives:\n",
    "- $f_i(x) = x_i$\n",
    "\n",
    "Constraints:\n",
    "- $g_1(x) = -x_1^2 -x_2^2 + 1 + 0.1 \\cos\\left(16 \\arctan \\frac{x_1}{x_2}\\right) \\le 0$\n",
    "- $g_2(x) = (x_1 - 1/2)^2 + (x_2-1/2)^2 \\le 0.5$"
   ]
  },
  {
   "cell_type": "code",
   "execution_count": 1,
   "metadata": {},
   "outputs": [],
   "source": [
    "# Import the class\n",
    "from xopt import Xopt"
   ]
  },
  {
   "cell_type": "code",
   "execution_count": 2,
   "metadata": {},
   "outputs": [
    {
     "name": "stdout",
     "output_type": "stream",
     "text": [
      "mkdir: temp: File exists\n"
     ]
    }
   ],
   "source": [
    "!mkdir temp"
   ]
  },
  {
   "cell_type": "markdown",
   "metadata": {},
   "source": [
    "The `Xopt` object can be instantiated from a JSON or YAML file, or a dict, with the proper structure.\n",
    "\n",
    "Here we will make one"
   ]
  },
  {
   "cell_type": "code",
   "execution_count": 3,
   "metadata": {},
   "outputs": [],
   "source": [
    "# Make a proper input file. \n",
    "YAML=\"\"\"\n",
    "xopt:\n",
    "  output_path: temp\n",
    "  \n",
    "algorithm:\n",
    "  name: cnsga\n",
    "  options:\n",
    "    max_generations: 50\n",
    "    population_size: 128\n",
    "    show_progress: True\n",
    "  \n",
    "simulation: \n",
    "  name: test_TNK\n",
    "  evaluate: xopt.tests.evaluators.TNK.evaluate_TNK\n",
    "  \n",
    "vocs:\n",
    "  variables:\n",
    "    x1: [0, 3.14159]\n",
    "    x2: [0, 3.14159]\n",
    "  objectives: {y1: MINIMIZE, y2: MINIMIZE}\n",
    "  constraints:\n",
    "    c1: [GREATER_THAN, 0]\n",
    "    c2: [LESS_THAN, 0.5]\n",
    "  linked_variables: {x9: x1}\n",
    "  constants: {a: dummy_constant}\n",
    "\n",
    "\"\"\""
   ]
  },
  {
   "cell_type": "code",
   "execution_count": 4,
   "metadata": {},
   "outputs": [
    {
     "data": {
      "text/plain": [
       "\n",
       "            Xopt \n",
       "________________________________           \n",
       "Version: 0.5.1+0.gbb504cc.dirty\n",
       "Configured: True\n",
       "Config as YAML:\n",
       "xopt: {output_path: /Users/chrisonian/Code/GitHub/Xopt/examples/basic/temp}\n",
       "algorithm:\n",
       "  name: cnsga\n",
       "  options: {max_generations: 50, population_size: 128, show_progress: true, population: null,\n",
       "    crossover_probability: 0.9, mutation_probability: 1.0, selection: auto, verbose: null,\n",
       "    seed: null}\n",
       "  function: xopt.cnsga.cnsga\n",
       "simulation:\n",
       "  name: test_TNK\n",
       "  evaluate: xopt.tests.evaluators.TNK.evaluate_TNK\n",
       "  options: {extra_option: abc}\n",
       "vocs:\n",
       "  variables:\n",
       "    x1: [0.0, 3.14159]\n",
       "    x2: [0.0, 3.14159]\n",
       "  constraints:\n",
       "    c1: [GREATER_THAN, 0.0]\n",
       "    c2: [LESS_THAN, 0.5]\n",
       "  objectives: {y1: MINIMIZE, y2: MINIMIZE}\n",
       "  constants: {a: dummy_constant}\n",
       "  linked_variables: {x9: x1}"
      ]
     },
     "execution_count": 4,
     "metadata": {},
     "output_type": "execute_result"
    }
   ],
   "source": [
    "# Optional: Connect the function directly\n",
    "# from xopt.tests.evaluators.TNK import evaluate_TNK \n",
    "# config['simulation']['evaluate'] = evaluate_TNK \n",
    "\n",
    "X = Xopt(YAML)\n",
    "X"
   ]
  },
  {
   "cell_type": "code",
   "execution_count": 5,
   "metadata": {},
   "outputs": [
    {
     "data": {
      "text/plain": [
       "{'y1': 1.6213575042506483,\n",
       " 'y2': 1.0569607591410695,\n",
       " 'c1': 2.8443247373151306,\n",
       " 'c2': 1.5676479395622391,\n",
       " 'some_array': array([1, 2, 3])}"
      ]
     },
     "execution_count": 5,
     "metadata": {},
     "output_type": "execute_result"
    }
   ],
   "source": [
    "# Note that the repr string contains all of the config information\n",
    "X.random_evaluate()"
   ]
  },
  {
   "cell_type": "code",
   "execution_count": 6,
   "metadata": {},
   "outputs": [],
   "source": [
    "#Optional: Connect the function directly\n",
    "# from xopt.tests.evaluators.TNK import evaluate_TNK \n",
    "# X.config['simulation']['evaluate'] = evaluate_TNK \n",
    "# X.configure_simulation()"
   ]
  },
  {
   "cell_type": "markdown",
   "metadata": {},
   "source": [
    "By default, all messages go to the logger. This allows notebook printing without timestamps of those messages."
   ]
  },
  {
   "cell_type": "code",
   "execution_count": 7,
   "metadata": {},
   "outputs": [],
   "source": [
    "from xopt import output_notebook\n",
    "output_notebook()"
   ]
  },
  {
   "cell_type": "markdown",
   "metadata": {},
   "source": [
    "# Run CNSGA\n",
    "\n",
    "CNSGA is designed to run in parallel with an asynchronous executor as defined in PEP 3148"
   ]
  },
  {
   "cell_type": "code",
   "execution_count": 8,
   "metadata": {},
   "outputs": [],
   "source": [
    "# Pick one of these\n",
    "\n",
    "#from concurrent.futures import ThreadPoolExecutor as PoolExecutor\n",
    "from concurrent.futures import ProcessPoolExecutor as PoolExecutor\n",
    "\n",
    "executor = PoolExecutor()\n",
    "# This will also work. \n",
    "#executor=None"
   ]
  },
  {
   "cell_type": "code",
   "execution_count": 9,
   "metadata": {},
   "outputs": [
    {
     "name": "stdout",
     "output_type": "stream",
     "text": [
      "Starting at time 2022-05-02T07:17:23-07:00\n",
      "\n",
      "    \n",
      "    \n",
      "     ▄████▄   ███▄    █   ██████   ▄████  ▄▄▄      \n",
      "    ▒██▀ ▀█   ██ ▀█   █ ▒██    ▒  ██▒ ▀█▒▒████▄    \n",
      "    ▒▓█    ▄ ▓██  ▀█ ██▒░ ▓██▄   ▒██░▄▄▄░▒██  ▀█▄  \n",
      "    ▒▓▓▄ ▄██▒▓██▒  ▐▌██▒  ▒   ██▒░▓█  ██▓░██▄▄▄▄██ \n",
      "    ▒ ▓███▀ ░▒██░   ▓██░▒██████▒▒░▒▓███▀▒ ▓█   ▓██▒\n",
      "    ░ ░▒ ▒  ░░ ▒░   ▒ ▒ ▒ ▒▓▒ ▒ ░ ░▒   ▒  ▒▒   ▓▒█░\n",
      "      ░  ▒   ░ ░░   ░ ▒░░ ░▒  ░ ░  ░   ░   ▒   ▒▒ ░\n",
      "    ░           ░   ░ ░ ░  ░  ░  ░ ░   ░   ░   ▒   \n",
      "    ░ ░               ░       ░        ░       ░  ░\n",
      "    ░                                              \n",
      "    \n",
      "    \n",
      "    Continuous Non-dominated Sorting Genetic Algorithm\n",
      "    Version 0.5.1+0.gbb504cc.dirty\n",
      "    \n",
      "Creating toolbox from vocs.\n",
      "Created toolbox with 2 variables, 2 constraints, and 2 objectives.\n",
      "    Using selection algorithm: nsga2\n",
      "Initializing with a new population, size 128\n",
      "Maximum generations: 10\n",
      "____________________________________________________\n",
      "128 fitness calculations for initial generation\n",
      "done.\n",
      "Submitting first batch of children\n",
      "Pop written to  /Users/chrisonian/Code/GitHub/Xopt/examples/basic/temp/initial_pop_0.json\n"
     ]
    },
    {
     "data": {
      "application/vnd.jupyter.widget-view+json": {
       "model_id": "06302d52293b46bf9269a0b579e3b570",
       "version_major": 2,
       "version_minor": 0
      },
      "text/plain": [
       "  0%|          | 0/128 [00:00<?, ?it/s]"
      ]
     },
     "metadata": {},
     "output_type": "display_data"
    },
    {
     "data": {
      "application/vnd.jupyter.widget-view+json": {
       "model_id": "71cf76f4fbf843cb961b3448142667b0",
       "version_major": 2,
       "version_minor": 0
      },
      "text/plain": [
       "Generation 0:   0%|          | 0/128 [00:00<?, ?it/s]"
      ]
     },
     "metadata": {},
     "output_type": "display_data"
    },
    {
     "name": "stdout",
     "output_type": "stream",
     "text": [
      "Generation 0 completed in 0.00084 minutes\n",
      "Pop written to  /Users/chrisonian/Code/GitHub/Xopt/examples/basic/temp/gen_1.json\n",
      "Pop written to  /Users/chrisonian/Code/GitHub/Xopt/examples/basic/temp/pop_1.json\n"
     ]
    },
    {
     "data": {
      "application/vnd.jupyter.widget-view+json": {
       "model_id": "e59c5a372c9140ab8caa57c495e4fbe7",
       "version_major": 2,
       "version_minor": 0
      },
      "text/plain": [
       "Generation 1:   0%|          | 0/128 [00:00<?, ?it/s]"
      ]
     },
     "metadata": {},
     "output_type": "display_data"
    },
    {
     "name": "stdout",
     "output_type": "stream",
     "text": [
      "Generation 1 completed in 0.00186 minutes\n",
      "Pop written to  /Users/chrisonian/Code/GitHub/Xopt/examples/basic/temp/gen_2.json\n",
      "Pop written to  /Users/chrisonian/Code/GitHub/Xopt/examples/basic/temp/pop_2.json\n"
     ]
    },
    {
     "data": {
      "application/vnd.jupyter.widget-view+json": {
       "model_id": "d859205616d549429fa2496d09268201",
       "version_major": 2,
       "version_minor": 0
      },
      "text/plain": [
       "Generation 2:   0%|          | 0/128 [00:00<?, ?it/s]"
      ]
     },
     "metadata": {},
     "output_type": "display_data"
    },
    {
     "name": "stdout",
     "output_type": "stream",
     "text": [
      "Generation 2 completed in 0.00177 minutes\n",
      "Pop written to  /Users/chrisonian/Code/GitHub/Xopt/examples/basic/temp/gen_3.json\n",
      "Pop written to  /Users/chrisonian/Code/GitHub/Xopt/examples/basic/temp/pop_3.json\n"
     ]
    },
    {
     "data": {
      "application/vnd.jupyter.widget-view+json": {
       "model_id": "5e37d1d4d442428e84233de199e77918",
       "version_major": 2,
       "version_minor": 0
      },
      "text/plain": [
       "Generation 3:   0%|          | 0/128 [00:00<?, ?it/s]"
      ]
     },
     "metadata": {},
     "output_type": "display_data"
    },
    {
     "name": "stdout",
     "output_type": "stream",
     "text": [
      "Generation 3 completed in 0.00175 minutes\n",
      "Pop written to  /Users/chrisonian/Code/GitHub/Xopt/examples/basic/temp/gen_4.json\n",
      "Pop written to  /Users/chrisonian/Code/GitHub/Xopt/examples/basic/temp/pop_4.json\n"
     ]
    },
    {
     "data": {
      "application/vnd.jupyter.widget-view+json": {
       "model_id": "32eec36cd696444c9b983194b02addf3",
       "version_major": 2,
       "version_minor": 0
      },
      "text/plain": [
       "Generation 4:   0%|          | 0/128 [00:00<?, ?it/s]"
      ]
     },
     "metadata": {},
     "output_type": "display_data"
    },
    {
     "name": "stdout",
     "output_type": "stream",
     "text": [
      "Generation 4 completed in 0.00165 minutes\n",
      "Pop written to  /Users/chrisonian/Code/GitHub/Xopt/examples/basic/temp/gen_5.json\n",
      "Pop written to  /Users/chrisonian/Code/GitHub/Xopt/examples/basic/temp/pop_5.json\n"
     ]
    },
    {
     "data": {
      "application/vnd.jupyter.widget-view+json": {
       "model_id": "3da1c11fc005414f96b2ba753ea19cbf",
       "version_major": 2,
       "version_minor": 0
      },
      "text/plain": [
       "Generation 5:   0%|          | 0/128 [00:00<?, ?it/s]"
      ]
     },
     "metadata": {},
     "output_type": "display_data"
    },
    {
     "name": "stdout",
     "output_type": "stream",
     "text": [
      "Generation 5 completed in 0.00162 minutes\n",
      "Pop written to  /Users/chrisonian/Code/GitHub/Xopt/examples/basic/temp/gen_6.json\n",
      "Pop written to  /Users/chrisonian/Code/GitHub/Xopt/examples/basic/temp/pop_6.json\n"
     ]
    },
    {
     "data": {
      "application/vnd.jupyter.widget-view+json": {
       "model_id": "64fa689e77db4e25ae155d75bdb15bc3",
       "version_major": 2,
       "version_minor": 0
      },
      "text/plain": [
       "Generation 6:   0%|          | 0/128 [00:00<?, ?it/s]"
      ]
     },
     "metadata": {},
     "output_type": "display_data"
    },
    {
     "name": "stdout",
     "output_type": "stream",
     "text": [
      "Generation 6 completed in 0.00168 minutes\n",
      "Pop written to  /Users/chrisonian/Code/GitHub/Xopt/examples/basic/temp/gen_7.json\n",
      "Pop written to  /Users/chrisonian/Code/GitHub/Xopt/examples/basic/temp/pop_7.json\n"
     ]
    },
    {
     "data": {
      "application/vnd.jupyter.widget-view+json": {
       "model_id": "f01785fb00e54c92b9a8d9447d177d5d",
       "version_major": 2,
       "version_minor": 0
      },
      "text/plain": [
       "Generation 7:   0%|          | 0/128 [00:00<?, ?it/s]"
      ]
     },
     "metadata": {},
     "output_type": "display_data"
    },
    {
     "name": "stdout",
     "output_type": "stream",
     "text": [
      "Generation 7 completed in 0.00170 minutes\n",
      "Pop written to  /Users/chrisonian/Code/GitHub/Xopt/examples/basic/temp/gen_8.json\n",
      "Pop written to  /Users/chrisonian/Code/GitHub/Xopt/examples/basic/temp/pop_8.json\n"
     ]
    },
    {
     "data": {
      "application/vnd.jupyter.widget-view+json": {
       "model_id": "3ed6a4767e7c435d91c81ab427aa6d2d",
       "version_major": 2,
       "version_minor": 0
      },
      "text/plain": [
       "Generation 8:   0%|          | 0/128 [00:00<?, ?it/s]"
      ]
     },
     "metadata": {},
     "output_type": "display_data"
    },
    {
     "name": "stdout",
     "output_type": "stream",
     "text": [
      "Generation 8 completed in 0.00178 minutes\n",
      "Pop written to  /Users/chrisonian/Code/GitHub/Xopt/examples/basic/temp/gen_9.json\n",
      "Pop written to  /Users/chrisonian/Code/GitHub/Xopt/examples/basic/temp/pop_9.json\n"
     ]
    },
    {
     "data": {
      "application/vnd.jupyter.widget-view+json": {
       "model_id": "22f16b3b66ff4e97b481eb3ca12f24a0",
       "version_major": 2,
       "version_minor": 0
      },
      "text/plain": [
       "Generation 9:   0%|          | 0/128 [00:00<?, ?it/s]"
      ]
     },
     "metadata": {},
     "output_type": "display_data"
    },
    {
     "name": "stdout",
     "output_type": "stream",
     "text": [
      "Generation 9 completed in 0.00177 minutes\n",
      "Pop written to  /Users/chrisonian/Code/GitHub/Xopt/examples/basic/temp/gen_10.json\n",
      "Pop written to  /Users/chrisonian/Code/GitHub/Xopt/examples/basic/temp/pop_10.json\n"
     ]
    }
   ],
   "source": [
    "# Change max generations\n",
    "X.algorithm['options']['max_generations'] = 10\n",
    "X.run(executor=executor)"
   ]
  },
  {
   "cell_type": "code",
   "execution_count": 10,
   "metadata": {},
   "outputs": [
    {
     "data": {
      "text/plain": [
       "['variables', 'generation', 'vocs', 'error', 'inputs', 'outputs']"
      ]
     },
     "execution_count": 10,
     "metadata": {},
     "output_type": "execute_result"
    }
   ],
   "source": [
    "# The last population is saved internally:\n",
    "list(X.results)"
   ]
  },
  {
   "cell_type": "code",
   "execution_count": 11,
   "metadata": {},
   "outputs": [
    {
     "data": {
      "text/plain": [
       "[{'y1': 0.47706602956618605,\n",
       "  'y2': 0.8806649970302667,\n",
       "  'c1': 0.012084199343103756,\n",
       "  'c2': 0.14543180696391197,\n",
       "  'some_array': array([1, 2, 3])},\n",
       " {'y1': 0.47706602956618605,\n",
       "  'y2': 0.8806649970302667,\n",
       "  'c1': 0.012084199343103756,\n",
       "  'c2': 0.14543180696391197,\n",
       "  'some_array': array([1, 2, 3])},\n",
       " {'y1': 1.0133619605818973,\n",
       "  'y2': 0.1439093009169649,\n",
       "  'c1': 0.11098020653312693,\n",
       "  'c2': 0.3903410885459342,\n",
       "  'some_array': array([1, 2, 3])},\n",
       " {'y1': 0.2528744533355902,\n",
       "  'y2': 0.9487403354409942,\n",
       "  'c1': 0.015868746442520558,\n",
       "  'c2': 0.2624389244658794,\n",
       "  'some_array': array([1, 2, 3])},\n",
       " {'y1': 0.2528744533355902,\n",
       "  'y2': 0.9487403354409942,\n",
       "  'c1': 0.015868746442520558,\n",
       "  'c2': 0.2624389244658794,\n",
       "  'some_array': array([1, 2, 3])}]"
      ]
     },
     "execution_count": 11,
     "metadata": {},
     "output_type": "execute_result"
    }
   ],
   "source": [
    "X.results['outputs'][0:5]"
   ]
  },
  {
   "cell_type": "code",
   "execution_count": 12,
   "metadata": {},
   "outputs": [
    {
     "name": "stdout",
     "output_type": "stream",
     "text": [
      "Starting at time 2022-05-02T07:17:25-07:00\n",
      "\n",
      "    \n",
      "    \n",
      "     ▄████▄   ███▄    █   ██████   ▄████  ▄▄▄      \n",
      "    ▒██▀ ▀█   ██ ▀█   █ ▒██    ▒  ██▒ ▀█▒▒████▄    \n",
      "    ▒▓█    ▄ ▓██  ▀█ ██▒░ ▓██▄   ▒██░▄▄▄░▒██  ▀█▄  \n",
      "    ▒▓▓▄ ▄██▒▓██▒  ▐▌██▒  ▒   ██▒░▓█  ██▓░██▄▄▄▄██ \n",
      "    ▒ ▓███▀ ░▒██░   ▓██░▒██████▒▒░▒▓███▀▒ ▓█   ▓██▒\n",
      "    ░ ░▒ ▒  ░░ ▒░   ▒ ▒ ▒ ▒▓▒ ▒ ░ ░▒   ▒  ▒▒   ▓▒█░\n",
      "      ░  ▒   ░ ░░   ░ ▒░░ ░▒  ░ ░  ░   ░   ▒   ▒▒ ░\n",
      "    ░           ░   ░ ░ ░  ░  ░  ░ ░   ░   ░   ▒   \n",
      "    ░ ░               ░       ░        ░       ░  ░\n",
      "    ░                                              \n",
      "    \n",
      "    \n",
      "    Continuous Non-dominated Sorting Genetic Algorithm\n",
      "    Version 0.5.1+0.gbb504cc.dirty\n",
      "    \n",
      "Creating toolbox from vocs.\n",
      "Created toolbox with 2 variables, 2 constraints, and 2 objectives.\n",
      "    Using selection algorithm: nsga2\n",
      "Loading config from dict.\n",
      "Initializing with existing population, size 128\n",
      "Maximum generations: 31\n",
      "____________________________________________________\n",
      "128 fitness calculations for initial generation\n",
      "done.\n",
      "Submitting first batch of children\n",
      "Pop written to  /Users/chrisonian/Code/GitHub/Xopt/examples/basic/temp/initial_pop_11.json\n"
     ]
    },
    {
     "data": {
      "application/vnd.jupyter.widget-view+json": {
       "model_id": "0256312ee03946bc948955187e3f2eab",
       "version_major": 2,
       "version_minor": 0
      },
      "text/plain": [
       "  0%|          | 0/128 [00:00<?, ?it/s]"
      ]
     },
     "metadata": {},
     "output_type": "display_data"
    },
    {
     "data": {
      "application/vnd.jupyter.widget-view+json": {
       "model_id": "33957f80877245489725608280b3c488",
       "version_major": 2,
       "version_minor": 0
      },
      "text/plain": [
       "Generation 11:   0%|          | 0/128 [00:00<?, ?it/s]"
      ]
     },
     "metadata": {},
     "output_type": "display_data"
    },
    {
     "name": "stdout",
     "output_type": "stream",
     "text": [
      "Generation 11 completed in 0.00334 minutes\n",
      "Pop written to  /Users/chrisonian/Code/GitHub/Xopt/examples/basic/temp/gen_12.json\n",
      "Pop written to  /Users/chrisonian/Code/GitHub/Xopt/examples/basic/temp/pop_12.json\n"
     ]
    },
    {
     "data": {
      "application/vnd.jupyter.widget-view+json": {
       "model_id": "a8a97c4475434d0db8ae58761c4a83ef",
       "version_major": 2,
       "version_minor": 0
      },
      "text/plain": [
       "Generation 12:   0%|          | 0/128 [00:00<?, ?it/s]"
      ]
     },
     "metadata": {},
     "output_type": "display_data"
    },
    {
     "name": "stdout",
     "output_type": "stream",
     "text": [
      "Generation 12 completed in 0.00301 minutes\n",
      "Pop written to  /Users/chrisonian/Code/GitHub/Xopt/examples/basic/temp/gen_13.json\n",
      "Pop written to  /Users/chrisonian/Code/GitHub/Xopt/examples/basic/temp/pop_13.json\n"
     ]
    },
    {
     "data": {
      "application/vnd.jupyter.widget-view+json": {
       "model_id": "64291204a968445c80d09f1c59508f7c",
       "version_major": 2,
       "version_minor": 0
      },
      "text/plain": [
       "Generation 13:   0%|          | 0/128 [00:00<?, ?it/s]"
      ]
     },
     "metadata": {},
     "output_type": "display_data"
    },
    {
     "name": "stdout",
     "output_type": "stream",
     "text": [
      "Generation 13 completed in 0.00294 minutes\n",
      "Pop written to  /Users/chrisonian/Code/GitHub/Xopt/examples/basic/temp/gen_14.json\n",
      "Pop written to  /Users/chrisonian/Code/GitHub/Xopt/examples/basic/temp/pop_14.json\n"
     ]
    },
    {
     "data": {
      "application/vnd.jupyter.widget-view+json": {
       "model_id": "709f7d12f29046dfa235bc30df85ab86",
       "version_major": 2,
       "version_minor": 0
      },
      "text/plain": [
       "Generation 14:   0%|          | 0/128 [00:00<?, ?it/s]"
      ]
     },
     "metadata": {},
     "output_type": "display_data"
    },
    {
     "name": "stdout",
     "output_type": "stream",
     "text": [
      "Generation 14 completed in 0.00300 minutes\n",
      "Pop written to  /Users/chrisonian/Code/GitHub/Xopt/examples/basic/temp/gen_15.json\n",
      "Pop written to  /Users/chrisonian/Code/GitHub/Xopt/examples/basic/temp/pop_15.json\n"
     ]
    },
    {
     "data": {
      "application/vnd.jupyter.widget-view+json": {
       "model_id": "1cd7f7d0714d428f9f1bdfa36461d2ae",
       "version_major": 2,
       "version_minor": 0
      },
      "text/plain": [
       "Generation 15:   0%|          | 0/128 [00:00<?, ?it/s]"
      ]
     },
     "metadata": {},
     "output_type": "display_data"
    },
    {
     "name": "stdout",
     "output_type": "stream",
     "text": [
      "Generation 15 completed in 0.00295 minutes\n",
      "Pop written to  /Users/chrisonian/Code/GitHub/Xopt/examples/basic/temp/gen_16.json\n",
      "Pop written to  /Users/chrisonian/Code/GitHub/Xopt/examples/basic/temp/pop_16.json\n"
     ]
    },
    {
     "data": {
      "application/vnd.jupyter.widget-view+json": {
       "model_id": "0ad27ac623f44cbd8762cbd05ea13379",
       "version_major": 2,
       "version_minor": 0
      },
      "text/plain": [
       "Generation 16:   0%|          | 0/128 [00:00<?, ?it/s]"
      ]
     },
     "metadata": {},
     "output_type": "display_data"
    },
    {
     "name": "stdout",
     "output_type": "stream",
     "text": [
      "Generation 16 completed in 0.00294 minutes\n",
      "Pop written to  /Users/chrisonian/Code/GitHub/Xopt/examples/basic/temp/gen_17.json\n",
      "Pop written to  /Users/chrisonian/Code/GitHub/Xopt/examples/basic/temp/pop_17.json\n"
     ]
    },
    {
     "data": {
      "application/vnd.jupyter.widget-view+json": {
       "model_id": "72c7f7ab68214ffc91b822279dcb8978",
       "version_major": 2,
       "version_minor": 0
      },
      "text/plain": [
       "Generation 17:   0%|          | 0/128 [00:00<?, ?it/s]"
      ]
     },
     "metadata": {},
     "output_type": "display_data"
    },
    {
     "name": "stdout",
     "output_type": "stream",
     "text": [
      "Generation 17 completed in 0.00288 minutes\n",
      "Pop written to  /Users/chrisonian/Code/GitHub/Xopt/examples/basic/temp/gen_18.json\n",
      "Pop written to  /Users/chrisonian/Code/GitHub/Xopt/examples/basic/temp/pop_18.json\n"
     ]
    },
    {
     "data": {
      "application/vnd.jupyter.widget-view+json": {
       "model_id": "40e4136a48504960b084f5edecf2b05a",
       "version_major": 2,
       "version_minor": 0
      },
      "text/plain": [
       "Generation 18:   0%|          | 0/128 [00:00<?, ?it/s]"
      ]
     },
     "metadata": {},
     "output_type": "display_data"
    },
    {
     "name": "stdout",
     "output_type": "stream",
     "text": [
      "Generation 18 completed in 0.00278 minutes\n",
      "Pop written to  /Users/chrisonian/Code/GitHub/Xopt/examples/basic/temp/gen_19.json\n",
      "Pop written to  /Users/chrisonian/Code/GitHub/Xopt/examples/basic/temp/pop_19.json\n"
     ]
    },
    {
     "data": {
      "application/vnd.jupyter.widget-view+json": {
       "model_id": "3366719075c145989ee2b6af3e61f95b",
       "version_major": 2,
       "version_minor": 0
      },
      "text/plain": [
       "Generation 19:   0%|          | 0/128 [00:00<?, ?it/s]"
      ]
     },
     "metadata": {},
     "output_type": "display_data"
    },
    {
     "name": "stdout",
     "output_type": "stream",
     "text": [
      "Generation 19 completed in 0.00272 minutes\n",
      "Pop written to  /Users/chrisonian/Code/GitHub/Xopt/examples/basic/temp/gen_20.json\n",
      "Pop written to  /Users/chrisonian/Code/GitHub/Xopt/examples/basic/temp/pop_20.json\n"
     ]
    },
    {
     "data": {
      "application/vnd.jupyter.widget-view+json": {
       "model_id": "427bdff02cd342aca2a4ea5056db0989",
       "version_major": 2,
       "version_minor": 0
      },
      "text/plain": [
       "Generation 20:   0%|          | 0/128 [00:00<?, ?it/s]"
      ]
     },
     "metadata": {},
     "output_type": "display_data"
    },
    {
     "name": "stdout",
     "output_type": "stream",
     "text": [
      "Generation 20 completed in 0.00273 minutes\n",
      "Pop written to  /Users/chrisonian/Code/GitHub/Xopt/examples/basic/temp/gen_21.json\n",
      "Pop written to  /Users/chrisonian/Code/GitHub/Xopt/examples/basic/temp/pop_21.json\n"
     ]
    },
    {
     "data": {
      "application/vnd.jupyter.widget-view+json": {
       "model_id": "725a5aa8fd914db99d8b85ba001a9838",
       "version_major": 2,
       "version_minor": 0
      },
      "text/plain": [
       "Generation 21:   0%|          | 0/128 [00:00<?, ?it/s]"
      ]
     },
     "metadata": {},
     "output_type": "display_data"
    },
    {
     "name": "stdout",
     "output_type": "stream",
     "text": [
      "Generation 21 completed in 0.00278 minutes\n",
      "Pop written to  /Users/chrisonian/Code/GitHub/Xopt/examples/basic/temp/gen_22.json\n",
      "Pop written to  /Users/chrisonian/Code/GitHub/Xopt/examples/basic/temp/pop_22.json\n"
     ]
    },
    {
     "data": {
      "application/vnd.jupyter.widget-view+json": {
       "model_id": "67e91fb6260140b49344fadd1cf2942c",
       "version_major": 2,
       "version_minor": 0
      },
      "text/plain": [
       "Generation 22:   0%|          | 0/128 [00:00<?, ?it/s]"
      ]
     },
     "metadata": {},
     "output_type": "display_data"
    },
    {
     "name": "stdout",
     "output_type": "stream",
     "text": [
      "Generation 22 completed in 0.00282 minutes\n",
      "Pop written to  /Users/chrisonian/Code/GitHub/Xopt/examples/basic/temp/gen_23.json\n",
      "Pop written to  /Users/chrisonian/Code/GitHub/Xopt/examples/basic/temp/pop_23.json\n"
     ]
    },
    {
     "data": {
      "application/vnd.jupyter.widget-view+json": {
       "model_id": "a3efd53f91f8486a90ed9cfe91034fbe",
       "version_major": 2,
       "version_minor": 0
      },
      "text/plain": [
       "Generation 23:   0%|          | 0/128 [00:00<?, ?it/s]"
      ]
     },
     "metadata": {},
     "output_type": "display_data"
    },
    {
     "name": "stdout",
     "output_type": "stream",
     "text": [
      "Generation 23 completed in 0.00296 minutes\n",
      "Pop written to  /Users/chrisonian/Code/GitHub/Xopt/examples/basic/temp/gen_24.json\n",
      "Pop written to  /Users/chrisonian/Code/GitHub/Xopt/examples/basic/temp/pop_24.json\n"
     ]
    },
    {
     "data": {
      "application/vnd.jupyter.widget-view+json": {
       "model_id": "cd3fb70acbf54b5ea9157a493650aaa9",
       "version_major": 2,
       "version_minor": 0
      },
      "text/plain": [
       "Generation 24:   0%|          | 0/128 [00:00<?, ?it/s]"
      ]
     },
     "metadata": {},
     "output_type": "display_data"
    },
    {
     "name": "stdout",
     "output_type": "stream",
     "text": [
      "Generation 24 completed in 0.00300 minutes\n",
      "Pop written to  /Users/chrisonian/Code/GitHub/Xopt/examples/basic/temp/gen_25.json\n",
      "Pop written to  /Users/chrisonian/Code/GitHub/Xopt/examples/basic/temp/pop_25.json\n"
     ]
    },
    {
     "data": {
      "application/vnd.jupyter.widget-view+json": {
       "model_id": "dff616586e994a07932362ba882c33bd",
       "version_major": 2,
       "version_minor": 0
      },
      "text/plain": [
       "Generation 25:   0%|          | 0/128 [00:00<?, ?it/s]"
      ]
     },
     "metadata": {},
     "output_type": "display_data"
    },
    {
     "name": "stdout",
     "output_type": "stream",
     "text": [
      "Generation 25 completed in 0.00300 minutes\n",
      "Pop written to  /Users/chrisonian/Code/GitHub/Xopt/examples/basic/temp/gen_26.json\n",
      "Pop written to  /Users/chrisonian/Code/GitHub/Xopt/examples/basic/temp/pop_26.json\n"
     ]
    },
    {
     "data": {
      "application/vnd.jupyter.widget-view+json": {
       "model_id": "0da45f02e24e4f1da4e73edf9c0592af",
       "version_major": 2,
       "version_minor": 0
      },
      "text/plain": [
       "Generation 26:   0%|          | 0/128 [00:00<?, ?it/s]"
      ]
     },
     "metadata": {},
     "output_type": "display_data"
    },
    {
     "name": "stdout",
     "output_type": "stream",
     "text": [
      "Generation 26 completed in 0.00296 minutes\n",
      "Pop written to  /Users/chrisonian/Code/GitHub/Xopt/examples/basic/temp/gen_27.json\n",
      "Pop written to  /Users/chrisonian/Code/GitHub/Xopt/examples/basic/temp/pop_27.json\n"
     ]
    },
    {
     "data": {
      "application/vnd.jupyter.widget-view+json": {
       "model_id": "aee24705f29b45fbb7e735db24658161",
       "version_major": 2,
       "version_minor": 0
      },
      "text/plain": [
       "Generation 27:   0%|          | 0/128 [00:00<?, ?it/s]"
      ]
     },
     "metadata": {},
     "output_type": "display_data"
    },
    {
     "name": "stdout",
     "output_type": "stream",
     "text": [
      "Generation 27 completed in 0.00291 minutes\n",
      "Pop written to  /Users/chrisonian/Code/GitHub/Xopt/examples/basic/temp/gen_28.json\n",
      "Pop written to  /Users/chrisonian/Code/GitHub/Xopt/examples/basic/temp/pop_28.json\n"
     ]
    },
    {
     "data": {
      "application/vnd.jupyter.widget-view+json": {
       "model_id": "9a90f71e321b4609b53880f14cd107b2",
       "version_major": 2,
       "version_minor": 0
      },
      "text/plain": [
       "Generation 28:   0%|          | 0/128 [00:00<?, ?it/s]"
      ]
     },
     "metadata": {},
     "output_type": "display_data"
    },
    {
     "name": "stdout",
     "output_type": "stream",
     "text": [
      "Generation 28 completed in 0.00285 minutes\n",
      "Pop written to  /Users/chrisonian/Code/GitHub/Xopt/examples/basic/temp/gen_29.json\n",
      "Pop written to  /Users/chrisonian/Code/GitHub/Xopt/examples/basic/temp/pop_29.json\n"
     ]
    },
    {
     "data": {
      "application/vnd.jupyter.widget-view+json": {
       "model_id": "94fd02df9dc840748588e4e2449f9a8d",
       "version_major": 2,
       "version_minor": 0
      },
      "text/plain": [
       "Generation 29:   0%|          | 0/128 [00:00<?, ?it/s]"
      ]
     },
     "metadata": {},
     "output_type": "display_data"
    },
    {
     "name": "stdout",
     "output_type": "stream",
     "text": [
      "Generation 29 completed in 0.00273 minutes\n",
      "Pop written to  /Users/chrisonian/Code/GitHub/Xopt/examples/basic/temp/gen_30.json\n",
      "Pop written to  /Users/chrisonian/Code/GitHub/Xopt/examples/basic/temp/pop_30.json\n"
     ]
    },
    {
     "data": {
      "application/vnd.jupyter.widget-view+json": {
       "model_id": "8589f321520c46c68409dfd9e349f68f",
       "version_major": 2,
       "version_minor": 0
      },
      "text/plain": [
       "Generation 30:   0%|          | 0/128 [00:00<?, ?it/s]"
      ]
     },
     "metadata": {},
     "output_type": "display_data"
    },
    {
     "name": "stdout",
     "output_type": "stream",
     "text": [
      "Generation 30 completed in 0.00250 minutes\n",
      "Pop written to  /Users/chrisonian/Code/GitHub/Xopt/examples/basic/temp/gen_31.json\n",
      "Pop written to  /Users/chrisonian/Code/GitHub/Xopt/examples/basic/temp/pop_31.json\n"
     ]
    }
   ],
   "source": [
    "# Increase the max_generations, and it will continue where it left off\n",
    "X.algorithm['options']['max_generations'] = 20\n",
    "X.run(executor=executor)"
   ]
  },
  {
   "cell_type": "markdown",
   "metadata": {},
   "source": [
    "# Run with MPI"
   ]
  },
  {
   "cell_type": "code",
   "execution_count": 13,
   "metadata": {},
   "outputs": [],
   "source": [
    "#X.save('test.json')\n",
    "#!mpirun -n 4 python -m mpi4py.futures -m xopt.mpi.run -vv --logfile xopt.log test.json "
   ]
  },
  {
   "cell_type": "markdown",
   "metadata": {},
   "source": [
    "# Plot"
   ]
  },
  {
   "cell_type": "code",
   "execution_count": 14,
   "metadata": {},
   "outputs": [
    {
     "data": {
      "text/plain": [
       "Text(0.5, 1.0, 'test_TNK')"
      ]
     },
     "execution_count": 14,
     "metadata": {},
     "output_type": "execute_result"
    },
    {
     "data": {
      "image/png": "[encoded data removed]",
      "text/plain": [
       "<Figure size 360x360 with 1 Axes>"
      ]
     },
     "metadata": {
      "needs_background": "light"
     },
     "output_type": "display_data"
    }
   ],
   "source": [
    "# Extract objectives from output\n",
    "key1, key2 = list(X.vocs.objectives)\n",
    "\n",
    "x = [o[key1] for o in X.results['outputs']]\n",
    "y = [o[key2] for o in X.results['outputs']]\n",
    "\n",
    "import matplotlib.pyplot as plt\n",
    "%matplotlib inline\n",
    "\n",
    "fig, ax = plt.subplots(figsize=(5,5))\n",
    "\n",
    "ax.scatter(x, y, color='blue')\n",
    "ax.set_xlabel(key1)\n",
    "ax.set_ylabel(key2)\n",
    "ax.set_aspect('auto')\n",
    "ax.set_title(X.simulation['name'])"
   ]
  },
  {
   "cell_type": "code",
   "execution_count": 15,
   "metadata": {},
   "outputs": [],
   "source": [
    "# Cleanup\n",
    "!rm -r temp"
   ]
  }
 ],
 "metadata": {
  "kernelspec": {
   "display_name": "Python 3 (ipykernel)",
   "language": "python",
   "name": "python3"
  },
  "language_info": {
   "codemirror_mode": {
    "name": "ipython",
    "version": 3
   },
   "file_extension": ".py",
   "mimetype": "text/x-python",
   "name": "python",
   "nbconvert_exporter": "python",
   "pygments_lexer": "ipython3",
   "version": "3.9.12"
  }
 },
 "nbformat": 4,
 "nbformat_minor": 4
}
