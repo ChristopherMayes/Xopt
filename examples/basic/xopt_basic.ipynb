{
 "cells": [
  {
   "cell_type": "markdown",
   "metadata": {},
   "source": [
    "# Xopt basic example\n",
    "\n",
    "An Xopt problem can be described by a simple YAML file. Here we will demonstrate how this is used to optimize a well-known constrained multi-objective test function, TNK.\n",
    "\n",
    "## TNK test function\n",
    "\n",
    "The TNK function is defined with:\n",
    "\n",
    "$n=2$ variables:\n",
    "$x_i \\in [0, \\pi], i=1,2$\n",
    "\n",
    "Objectives:\n",
    "- $f_i(x) = x_i$\n",
    "\n",
    "Constraints:\n",
    "- $g_1(x) = -x_1^2 -x_2^2 + 1 + 0.1 \\cos\\left(16 \\arctan \\frac{x_1}{x_2}\\right) \\le 0$\n",
    "- $g_2(x) = (x_1 - 1/2)^2 + (x_2-1/2)^2 \\le 0.5$"
   ]
  },
  {
   "cell_type": "code",
   "execution_count": 1,
   "metadata": {},
   "outputs": [],
   "source": [
    "# Import the class\n",
    "from xopt import Xopt"
   ]
  },
  {
   "cell_type": "code",
   "execution_count": 2,
   "metadata": {},
   "outputs": [
    {
     "name": "stdout",
     "output_type": "stream",
     "text": [
      "mkdir: temp: File exists\n"
     ]
    }
   ],
   "source": [
    "!mkdir temp"
   ]
  },
  {
   "cell_type": "markdown",
   "metadata": {},
   "source": [
    "The `Xopt` object can be instantiated from a JSON or YAML file, or a dict, with the proper structure.\n",
    "\n",
    "Here we will make one"
   ]
  },
  {
   "cell_type": "code",
   "execution_count": 3,
   "metadata": {},
   "outputs": [],
   "source": [
    "# Make a proper input file. \n",
    "YAML=\"\"\"\n",
    "xopt:\n",
    "  output_path: temp\n",
    "  \n",
    "algorithm:\n",
    "  name: cnsga\n",
    "  options:\n",
    "    max_generations: 50\n",
    "    population_size: 128\n",
    "    show_progress: True\n",
    "  \n",
    "simulation: \n",
    "  name: test_TNK\n",
    "  evaluate: xopt.tests.evaluators.TNK.evaluate_TNK\n",
    "  \n",
    "vocs:\n",
    "  variables:\n",
    "    x1: [0, 3.14159]\n",
    "    x2: [0, 3.14159]\n",
    "  objectives: {y1: MINIMIZE, y2: MINIMIZE}\n",
    "  constraints:\n",
    "    c1: [GREATER_THAN, 0]\n",
    "    c2: [LESS_THAN, 0.5]\n",
    "  linked_variables: {x9: x1}\n",
    "  constants: {a: dummy_constant}\n",
    "\n",
    "\"\"\""
   ]
  },
  {
   "cell_type": "code",
   "execution_count": 4,
   "metadata": {},
   "outputs": [
    {
     "data": {
      "text/plain": [
       "\n",
       "            Xopt \n",
       "________________________________           \n",
       "Version: 0.5.0+7.g47ae31b.dirty\n",
       "Configured: True\n",
       "Config as YAML:\n",
       "xopt: {output_path: /Users/chrisonian/Code/GitHub/Xopt/examples/basic/temp}\n",
       "algorithm:\n",
       "  name: cnsga\n",
       "  options: {max_generations: 50, population_size: 128, show_progress: true, population: null,\n",
       "    crossover_probability: 0.9, mutation_probability: 1.0, selection: auto, verbose: null,\n",
       "    seed: null}\n",
       "  function: xopt.cnsga.cnsga\n",
       "simulation:\n",
       "  name: test_TNK\n",
       "  evaluate: xopt.tests.evaluators.TNK.evaluate_TNK\n",
       "  options: {extra_option: abc}\n",
       "vocs: !!python/object:xopt.vocs.VOCS\n",
       "  __dict__:\n",
       "    variables:\n",
       "      x1: [0.0, 3.14159]\n",
       "      x2: [0.0, 3.14159]\n",
       "    constraints:\n",
       "      c1: [GREATER_THAN, 0.0]\n",
       "      c2: [LESS_THAN, 0.5]\n",
       "    objectives: {y1: MINIMIZE, y2: MINIMIZE}\n",
       "    constants: {a: dummy_constant}\n",
       "    linked_variables: {x9: x1}\n",
       "  __fields_set__: !!set {constraints: null, variables: null, objectives: null, constants: null,\n",
       "    linked_variables: null}\n",
       "  __private_attribute_values__: {}"
      ]
     },
     "execution_count": 4,
     "metadata": {},
     "output_type": "execute_result"
    }
   ],
   "source": [
    "# Optional: Connect the function directly\n",
    "# from xopt.tests.evaluators.TNK import evaluate_TNK \n",
    "# config['simulation']['evaluate'] = evaluate_TNK \n",
    "\n",
    "X = Xopt(YAML)\n",
    "X"
   ]
  },
  {
   "cell_type": "code",
   "execution_count": 5,
   "metadata": {},
   "outputs": [
    {
     "data": {
      "text/plain": [
       "{'y1': 2.3153060523464934,\n",
       " 'y2': 1.4222195644036715,\n",
       " 'c1': 6.4652433079109235,\n",
       " 'c2': 4.145824988654708,\n",
       " 'some_array': array([1, 2, 3])}"
      ]
     },
     "execution_count": 5,
     "metadata": {},
     "output_type": "execute_result"
    }
   ],
   "source": [
    "# Note that the repr string contains all of the config information\n",
    "X.random_evaluate()"
   ]
  },
  {
   "cell_type": "code",
   "execution_count": 6,
   "metadata": {},
   "outputs": [],
   "source": [
    "#Optional: Connect the function directly\n",
    "# from xopt.tests.evaluators.TNK import evaluate_TNK \n",
    "# X.config['simulation']['evaluate'] = evaluate_TNK \n",
    "# X.configure_simulation()"
   ]
  },
  {
   "cell_type": "markdown",
   "metadata": {},
   "source": [
    "By default, all messages go to the logger. This allows notebook printing without timestamps of those messages."
   ]
  },
  {
   "cell_type": "code",
   "execution_count": 7,
   "metadata": {},
   "outputs": [],
   "source": [
    "from xopt import output_notebook\n",
    "output_notebook()"
   ]
  },
  {
   "cell_type": "markdown",
   "metadata": {},
   "source": [
    "# Run CNSGA\n",
    "\n",
    "CNSGA is designed to run in parallel with an asynchronous executor as defined in PEP 3148"
   ]
  },
  {
   "cell_type": "code",
   "execution_count": 8,
   "metadata": {},
   "outputs": [],
   "source": [
    "# Pick one of these\n",
    "\n",
    "#from concurrent.futures import ThreadPoolExecutor as PoolExecutor\n",
    "from concurrent.futures import ProcessPoolExecutor as PoolExecutor\n",
    "\n",
    "executor = PoolExecutor()\n",
    "# This will also work. \n",
    "#executor=None"
   ]
  },
  {
   "cell_type": "code",
   "execution_count": 9,
   "metadata": {},
   "outputs": [
    {
     "name": "stdout",
     "output_type": "stream",
     "text": [
      "Starting at time 2022-03-02T15:45:37-08:00\n",
      "\n",
      "    \n",
      "    \n",
      "     ▄████▄   ███▄    █   ██████   ▄████  ▄▄▄      \n",
      "    ▒██▀ ▀█   ██ ▀█   █ ▒██    ▒  ██▒ ▀█▒▒████▄    \n",
      "    ▒▓█    ▄ ▓██  ▀█ ██▒░ ▓██▄   ▒██░▄▄▄░▒██  ▀█▄  \n",
      "    ▒▓▓▄ ▄██▒▓██▒  ▐▌██▒  ▒   ██▒░▓█  ██▓░██▄▄▄▄██ \n",
      "    ▒ ▓███▀ ░▒██░   ▓██░▒██████▒▒░▒▓███▀▒ ▓█   ▓██▒\n",
      "    ░ ░▒ ▒  ░░ ▒░   ▒ ▒ ▒ ▒▓▒ ▒ ░ ░▒   ▒  ▒▒   ▓▒█░\n",
      "      ░  ▒   ░ ░░   ░ ▒░░ ░▒  ░ ░  ░   ░   ▒   ▒▒ ░\n",
      "    ░           ░   ░ ░ ░  ░  ░  ░ ░   ░   ░   ▒   \n",
      "    ░ ░               ░       ░        ░       ░  ░\n",
      "    ░                                              \n",
      "    \n",
      "    \n",
      "    Continuous Non-dominated Sorting Genetic Algorithm\n",
      "    Version 0.5.0+7.g47ae31b.dirty\n",
      "    \n",
      "Creating toolbox from vocs.\n",
      "Created toolbox with 2 variables, 2 constraints, and 2 objectives.\n",
      "    Using selection algorithm: nsga2\n",
      "Initializing with a new population, size 128\n",
      "Maximum generations: 10\n",
      "____________________________________________________\n",
      "128 fitness calculations for initial generation\n",
      "done.\n",
      "Submitting first batch of children\n",
      "Pop written to  /Users/chrisonian/Code/GitHub/Xopt/examples/basic/temp/initial_pop_0.json\n"
     ]
    },
    {
     "name": "stderr",
     "output_type": "stream",
     "text": [
      "129it [00:00, 4824.09it/s]             \n",
      "Generation 0:   0%|          | 0/128 [00:00<?, ?it/s]"
     ]
    },
    {
     "name": "stdout",
     "output_type": "stream",
     "text": [
      "Generation 0 completed in 0.00051 minutes\n",
      "Pop written to  /Users/chrisonian/Code/GitHub/Xopt/examples/basic/temp/gen_1.json\n",
      "Pop written to  /Users/chrisonian/Code/GitHub/Xopt/examples/basic/temp/pop_1.json\n"
     ]
    },
    {
     "name": "stderr",
     "output_type": "stream",
     "text": [
      "Generation 0: 100%|██████████| 128/128 [00:00<00:00, 1347.50it/s]\n",
      "Generation 1:   0%|          | 0/128 [00:00<?, ?it/s]"
     ]
    },
    {
     "name": "stdout",
     "output_type": "stream",
     "text": [
      "Generation 1 completed in 0.00161 minutes\n",
      "Pop written to  /Users/chrisonian/Code/GitHub/Xopt/examples/basic/temp/gen_2.json\n",
      "Pop written to  /Users/chrisonian/Code/GitHub/Xopt/examples/basic/temp/pop_2.json\n"
     ]
    },
    {
     "name": "stderr",
     "output_type": "stream",
     "text": [
      "Generation 1: 100%|██████████| 128/128 [00:00<00:00, 1401.02it/s]\n",
      "Generation 2:   0%|          | 0/128 [00:00<?, ?it/s]"
     ]
    },
    {
     "name": "stdout",
     "output_type": "stream",
     "text": [
      "Generation 2 completed in 0.00155 minutes\n",
      "Pop written to  /Users/chrisonian/Code/GitHub/Xopt/examples/basic/temp/gen_3.json\n",
      "Pop written to  /Users/chrisonian/Code/GitHub/Xopt/examples/basic/temp/pop_3.json\n"
     ]
    },
    {
     "name": "stderr",
     "output_type": "stream",
     "text": [
      "Generation 2: 100%|██████████| 128/128 [00:00<00:00, 1429.61it/s]\n",
      "Generation 3:   0%|          | 0/128 [00:00<?, ?it/s]"
     ]
    },
    {
     "name": "stdout",
     "output_type": "stream",
     "text": [
      "Generation 3 completed in 0.00152 minutes\n",
      "Pop written to  /Users/chrisonian/Code/GitHub/Xopt/examples/basic/temp/gen_4.json\n",
      "Pop written to  /Users/chrisonian/Code/GitHub/Xopt/examples/basic/temp/pop_4.json\n"
     ]
    },
    {
     "name": "stderr",
     "output_type": "stream",
     "text": [
      "Generation 3: 100%|██████████| 128/128 [00:00<00:00, 1554.64it/s]\n",
      "Generation 4:   0%|          | 0/128 [00:00<?, ?it/s]"
     ]
    },
    {
     "name": "stdout",
     "output_type": "stream",
     "text": [
      "Generation 4 completed in 0.00141 minutes\n",
      "Pop written to  /Users/chrisonian/Code/GitHub/Xopt/examples/basic/temp/gen_5.json\n",
      "Pop written to  /Users/chrisonian/Code/GitHub/Xopt/examples/basic/temp/pop_5.json\n"
     ]
    },
    {
     "name": "stderr",
     "output_type": "stream",
     "text": [
      "Generation 4: 100%|██████████| 128/128 [00:00<00:00, 1552.31it/s]\n",
      "Generation 5:   0%|          | 0/128 [00:00<?, ?it/s]"
     ]
    },
    {
     "name": "stdout",
     "output_type": "stream",
     "text": [
      "Generation 5 completed in 0.00141 minutes\n",
      "Pop written to  /Users/chrisonian/Code/GitHub/Xopt/examples/basic/temp/gen_6.json\n",
      "Pop written to  /Users/chrisonian/Code/GitHub/Xopt/examples/basic/temp/pop_6.json\n"
     ]
    },
    {
     "name": "stderr",
     "output_type": "stream",
     "text": [
      "Generation 5: 100%|██████████| 128/128 [00:00<00:00, 1611.50it/s]\n",
      "Generation 6:   0%|          | 0/128 [00:00<?, ?it/s]"
     ]
    },
    {
     "name": "stdout",
     "output_type": "stream",
     "text": [
      "Generation 6 completed in 0.00136 minutes\n",
      "Pop written to  /Users/chrisonian/Code/GitHub/Xopt/examples/basic/temp/gen_7.json\n",
      "Pop written to  /Users/chrisonian/Code/GitHub/Xopt/examples/basic/temp/pop_7.json\n"
     ]
    },
    {
     "name": "stderr",
     "output_type": "stream",
     "text": [
      "Generation 6: 100%|██████████| 128/128 [00:00<00:00, 1577.85it/s]\n",
      "Generation 7:   0%|          | 0/128 [00:00<?, ?it/s]"
     ]
    },
    {
     "name": "stdout",
     "output_type": "stream",
     "text": [
      "Generation 7 completed in 0.00138 minutes\n",
      "Pop written to  /Users/chrisonian/Code/GitHub/Xopt/examples/basic/temp/gen_8.json\n",
      "Pop written to  /Users/chrisonian/Code/GitHub/Xopt/examples/basic/temp/pop_8.json\n"
     ]
    },
    {
     "name": "stderr",
     "output_type": "stream",
     "text": [
      "Generation 7: 100%|██████████| 128/128 [00:00<00:00, 1610.75it/s]\n",
      "Generation 8:   0%|          | 0/128 [00:00<?, ?it/s]"
     ]
    },
    {
     "name": "stdout",
     "output_type": "stream",
     "text": [
      "Generation 8 completed in 0.00136 minutes\n",
      "Pop written to  /Users/chrisonian/Code/GitHub/Xopt/examples/basic/temp/gen_9.json\n",
      "Pop written to  /Users/chrisonian/Code/GitHub/Xopt/examples/basic/temp/pop_9.json\n"
     ]
    },
    {
     "name": "stderr",
     "output_type": "stream",
     "text": [
      "Generation 8: 100%|██████████| 128/128 [00:00<00:00, 1685.87it/s]\n",
      "Generation 9:   0%|          | 0/128 [00:00<?, ?it/s]"
     ]
    },
    {
     "name": "stdout",
     "output_type": "stream",
     "text": [
      "Generation 9 completed in 0.00130 minutes\n",
      "Pop written to  /Users/chrisonian/Code/GitHub/Xopt/examples/basic/temp/gen_10.json\n",
      "Pop written to  /Users/chrisonian/Code/GitHub/Xopt/examples/basic/temp/pop_10.json\n"
     ]
    },
    {
     "name": "stderr",
     "output_type": "stream",
     "text": [
      "Generation 9: 135it [00:00, 2205.20it/s]             \n"
     ]
    }
   ],
   "source": [
    "# Change max generations\n",
    "X.algorithm['options']['max_generations'] = 10\n",
    "X.run(executor=executor)"
   ]
  },
  {
   "cell_type": "code",
   "execution_count": 10,
   "metadata": {},
   "outputs": [
    {
     "data": {
      "text/plain": [
       "['variables', 'generation', 'vocs', 'error', 'inputs', 'outputs']"
      ]
     },
     "execution_count": 10,
     "metadata": {},
     "output_type": "execute_result"
    }
   ],
   "source": [
    "# The last population is saved internally:\n",
    "list(X.results)"
   ]
  },
  {
   "cell_type": "code",
   "execution_count": 11,
   "metadata": {},
   "outputs": [
    {
     "data": {
      "text/plain": [
       "[{'y1': 0.18081154840074684,\n",
       "  'y2': 0.9801490057354638,\n",
       "  'c1': 0.09091248684579845,\n",
       "  'c2': 0.33242433534308324,\n",
       "  'some_array': array([1, 2, 3])},\n",
       " {'y1': 0.18081154840074684,\n",
       "  'y2': 0.9801490057354638,\n",
       "  'c1': 0.09091248684579845,\n",
       "  'c2': 0.33242433534308324,\n",
       "  'some_array': array([1, 2, 3])},\n",
       " {'y1': 0.18081154840074684,\n",
       "  'y2': 0.9801490057354638,\n",
       "  'c1': 0.09091248684579845,\n",
       "  'c2': 0.33242433534308324,\n",
       "  'some_array': array([1, 2, 3])},\n",
       " {'y1': 0.8641512016502181,\n",
       "  'y2': 0.5003278583425761,\n",
       "  'c1': 0.04876997443840452,\n",
       "  'c2': 0.1326062051543906,\n",
       "  'some_array': array([1, 2, 3])},\n",
       " {'y1': 0.16020622115975142,\n",
       "  'y2': 0.9866598635746939,\n",
       "  'c1': 0.08356293472221309,\n",
       "  'c2': 0.3522976349530755,\n",
       "  'some_array': array([1, 2, 3])}]"
      ]
     },
     "execution_count": 11,
     "metadata": {},
     "output_type": "execute_result"
    }
   ],
   "source": [
    "X.results['outputs'][0:5]"
   ]
  },
  {
   "cell_type": "code",
   "execution_count": 12,
   "metadata": {},
   "outputs": [
    {
     "name": "stdout",
     "output_type": "stream",
     "text": [
      "Starting at time 2022-03-02T15:45:40-08:00\n",
      "\n",
      "    \n",
      "    \n",
      "     ▄████▄   ███▄    █   ██████   ▄████  ▄▄▄      \n",
      "    ▒██▀ ▀█   ██ ▀█   █ ▒██    ▒  ██▒ ▀█▒▒████▄    \n",
      "    ▒▓█    ▄ ▓██  ▀█ ██▒░ ▓██▄   ▒██░▄▄▄░▒██  ▀█▄  \n",
      "    ▒▓▓▄ ▄██▒▓██▒  ▐▌██▒  ▒   ██▒░▓█  ██▓░██▄▄▄▄██ \n",
      "    ▒ ▓███▀ ░▒██░   ▓██░▒██████▒▒░▒▓███▀▒ ▓█   ▓██▒\n",
      "    ░ ░▒ ▒  ░░ ▒░   ▒ ▒ ▒ ▒▓▒ ▒ ░ ░▒   ▒  ▒▒   ▓▒█░\n",
      "      ░  ▒   ░ ░░   ░ ▒░░ ░▒  ░ ░  ░   ░   ▒   ▒▒ ░\n",
      "    ░           ░   ░ ░ ░  ░  ░  ░ ░   ░   ░   ▒   \n",
      "    ░ ░               ░       ░        ░       ░  ░\n",
      "    ░                                              \n",
      "    \n",
      "    \n",
      "    Continuous Non-dominated Sorting Genetic Algorithm\n",
      "    Version 0.5.0+7.g47ae31b.dirty\n",
      "    \n",
      "Creating toolbox from vocs.\n",
      "Created toolbox with 2 variables, 2 constraints, and 2 objectives.\n",
      "    Using selection algorithm: nsga2\n",
      "Loading config from dict.\n",
      "Initializing with existing population, size 128\n",
      "Maximum generations: 31\n",
      "____________________________________________________\n",
      "128 fitness calculations for initial generation\n",
      "done.\n",
      "Submitting first batch of children\n",
      "Pop written to  /Users/chrisonian/Code/GitHub/Xopt/examples/basic/temp/initial_pop_11.json\n"
     ]
    },
    {
     "name": "stderr",
     "output_type": "stream",
     "text": [
      "129it [00:00, 783.73it/s]                        \n",
      "Generation 11:   0%|          | 0/128 [00:00<?, ?it/s]"
     ]
    },
    {
     "name": "stdout",
     "output_type": "stream",
     "text": [
      "Generation 11 completed in 0.00281 minutes\n",
      "Pop written to  /Users/chrisonian/Code/GitHub/Xopt/examples/basic/temp/gen_12.json\n",
      "Pop written to  /Users/chrisonian/Code/GitHub/Xopt/examples/basic/temp/pop_12.json\n"
     ]
    },
    {
     "name": "stderr",
     "output_type": "stream",
     "text": [
      "Generation 11: 100%|██████████| 128/128 [00:00<00:00, 875.15it/s]\n",
      "Generation 12:   0%|          | 0/128 [00:00<?, ?it/s]"
     ]
    },
    {
     "name": "stdout",
     "output_type": "stream",
     "text": [
      "Generation 12 completed in 0.00249 minutes\n",
      "Pop written to  /Users/chrisonian/Code/GitHub/Xopt/examples/basic/temp/gen_13.json\n",
      "Pop written to  /Users/chrisonian/Code/GitHub/Xopt/examples/basic/temp/pop_13.json\n"
     ]
    },
    {
     "name": "stderr",
     "output_type": "stream",
     "text": [
      "Generation 12: 100%|██████████| 128/128 [00:00<00:00, 886.75it/s]\n",
      "Generation 13:   0%|          | 0/128 [00:00<?, ?it/s]"
     ]
    },
    {
     "name": "stdout",
     "output_type": "stream",
     "text": [
      "Generation 13 completed in 0.00247 minutes\n",
      "Pop written to  /Users/chrisonian/Code/GitHub/Xopt/examples/basic/temp/gen_14.json\n",
      "Pop written to  /Users/chrisonian/Code/GitHub/Xopt/examples/basic/temp/pop_14.json\n"
     ]
    },
    {
     "name": "stderr",
     "output_type": "stream",
     "text": [
      "Generation 13: 100%|██████████| 128/128 [00:00<00:00, 849.97it/s]\n",
      "Generation 14:   0%|          | 0/128 [00:00<?, ?it/s]"
     ]
    },
    {
     "name": "stdout",
     "output_type": "stream",
     "text": [
      "Generation 14 completed in 0.00259 minutes\n",
      "Pop written to  /Users/chrisonian/Code/GitHub/Xopt/examples/basic/temp/gen_15.json\n",
      "Pop written to  /Users/chrisonian/Code/GitHub/Xopt/examples/basic/temp/pop_15.json\n"
     ]
    },
    {
     "name": "stderr",
     "output_type": "stream",
     "text": [
      "Generation 14: 100%|██████████| 128/128 [00:00<00:00, 877.97it/s]\n",
      "Generation 15:   0%|          | 0/128 [00:00<?, ?it/s]"
     ]
    },
    {
     "name": "stdout",
     "output_type": "stream",
     "text": [
      "Generation 15 completed in 0.00249 minutes\n",
      "Pop written to  /Users/chrisonian/Code/GitHub/Xopt/examples/basic/temp/gen_16.json\n",
      "Pop written to  /Users/chrisonian/Code/GitHub/Xopt/examples/basic/temp/pop_16.json\n"
     ]
    },
    {
     "name": "stderr",
     "output_type": "stream",
     "text": [
      "Generation 15: 100%|██████████| 128/128 [00:00<00:00, 909.64it/s]\n",
      "Generation 16:   0%|          | 0/128 [00:00<?, ?it/s]"
     ]
    },
    {
     "name": "stdout",
     "output_type": "stream",
     "text": [
      "Generation 16 completed in 0.00243 minutes\n",
      "Pop written to  /Users/chrisonian/Code/GitHub/Xopt/examples/basic/temp/gen_17.json\n",
      "Pop written to  /Users/chrisonian/Code/GitHub/Xopt/examples/basic/temp/pop_17.json\n"
     ]
    },
    {
     "name": "stderr",
     "output_type": "stream",
     "text": [
      "Generation 16: 100%|██████████| 128/128 [00:00<00:00, 884.43it/s]\n",
      "Generation 17:   0%|          | 0/128 [00:00<?, ?it/s]"
     ]
    },
    {
     "name": "stdout",
     "output_type": "stream",
     "text": [
      "Generation 17 completed in 0.00249 minutes\n",
      "Pop written to  /Users/chrisonian/Code/GitHub/Xopt/examples/basic/temp/gen_18.json\n",
      "Pop written to  /Users/chrisonian/Code/GitHub/Xopt/examples/basic/temp/pop_18.json\n"
     ]
    },
    {
     "name": "stderr",
     "output_type": "stream",
     "text": [
      "Generation 17: 100%|██████████| 128/128 [00:00<00:00, 883.31it/s]\n",
      "Generation 18:   0%|          | 0/128 [00:00<?, ?it/s]"
     ]
    },
    {
     "name": "stdout",
     "output_type": "stream",
     "text": [
      "Generation 18 completed in 0.00247 minutes\n",
      "Pop written to  /Users/chrisonian/Code/GitHub/Xopt/examples/basic/temp/gen_19.json\n",
      "Pop written to  /Users/chrisonian/Code/GitHub/Xopt/examples/basic/temp/pop_19.json\n"
     ]
    },
    {
     "name": "stderr",
     "output_type": "stream",
     "text": [
      "Generation 18: 100%|██████████| 128/128 [00:00<00:00, 920.97it/s]\n",
      "Generation 19:   0%|          | 0/128 [00:00<?, ?it/s]"
     ]
    },
    {
     "name": "stdout",
     "output_type": "stream",
     "text": [
      "Generation 19 completed in 0.00239 minutes\n",
      "Pop written to  /Users/chrisonian/Code/GitHub/Xopt/examples/basic/temp/gen_20.json\n",
      "Pop written to  /Users/chrisonian/Code/GitHub/Xopt/examples/basic/temp/pop_20.json\n"
     ]
    },
    {
     "name": "stderr",
     "output_type": "stream",
     "text": [
      "Generation 19: 100%|██████████| 128/128 [00:00<00:00, 940.61it/s]\n",
      "Generation 20:   0%|          | 0/128 [00:00<?, ?it/s]"
     ]
    },
    {
     "name": "stdout",
     "output_type": "stream",
     "text": [
      "Generation 20 completed in 0.00234 minutes\n",
      "Pop written to  /Users/chrisonian/Code/GitHub/Xopt/examples/basic/temp/gen_21.json\n",
      "Pop written to  /Users/chrisonian/Code/GitHub/Xopt/examples/basic/temp/pop_21.json\n"
     ]
    },
    {
     "name": "stderr",
     "output_type": "stream",
     "text": [
      "Generation 20: 100%|██████████| 128/128 [00:00<00:00, 922.21it/s]\n",
      "Generation 21:   0%|          | 0/128 [00:00<?, ?it/s]"
     ]
    },
    {
     "name": "stdout",
     "output_type": "stream",
     "text": [
      "Generation 21 completed in 0.00239 minutes\n",
      "Pop written to  /Users/chrisonian/Code/GitHub/Xopt/examples/basic/temp/gen_22.json\n",
      "Pop written to  /Users/chrisonian/Code/GitHub/Xopt/examples/basic/temp/pop_22.json\n"
     ]
    },
    {
     "name": "stderr",
     "output_type": "stream",
     "text": [
      "Generation 21: 100%|██████████| 128/128 [00:00<00:00, 915.48it/s]\n",
      "Generation 22:   0%|          | 0/128 [00:00<?, ?it/s]"
     ]
    },
    {
     "name": "stdout",
     "output_type": "stream",
     "text": [
      "Generation 22 completed in 0.00240 minutes\n",
      "Pop written to  /Users/chrisonian/Code/GitHub/Xopt/examples/basic/temp/gen_23.json\n",
      "Pop written to  /Users/chrisonian/Code/GitHub/Xopt/examples/basic/temp/pop_23.json\n"
     ]
    },
    {
     "name": "stderr",
     "output_type": "stream",
     "text": [
      "Generation 22: 100%|██████████| 128/128 [00:00<00:00, 931.11it/s]\n",
      "Generation 23:   0%|          | 0/128 [00:00<?, ?it/s]"
     ]
    },
    {
     "name": "stdout",
     "output_type": "stream",
     "text": [
      "Generation 23 completed in 0.00234 minutes\n",
      "Pop written to  /Users/chrisonian/Code/GitHub/Xopt/examples/basic/temp/gen_24.json\n",
      "Pop written to  /Users/chrisonian/Code/GitHub/Xopt/examples/basic/temp/pop_24.json\n"
     ]
    },
    {
     "name": "stderr",
     "output_type": "stream",
     "text": [
      "Generation 23: 100%|██████████| 128/128 [00:00<00:00, 931.42it/s]\n",
      "Generation 24:   0%|          | 0/128 [00:00<?, ?it/s]"
     ]
    },
    {
     "name": "stdout",
     "output_type": "stream",
     "text": [
      "Generation 24 completed in 0.00237 minutes\n",
      "Pop written to  /Users/chrisonian/Code/GitHub/Xopt/examples/basic/temp/gen_25.json\n",
      "Pop written to  /Users/chrisonian/Code/GitHub/Xopt/examples/basic/temp/pop_25.json\n"
     ]
    },
    {
     "name": "stderr",
     "output_type": "stream",
     "text": [
      "Generation 24: 100%|██████████| 128/128 [00:00<00:00, 904.00it/s]\n",
      "Generation 25:   0%|          | 0/128 [00:00<?, ?it/s]"
     ]
    },
    {
     "name": "stdout",
     "output_type": "stream",
     "text": [
      "Generation 25 completed in 0.00246 minutes\n",
      "Pop written to  /Users/chrisonian/Code/GitHub/Xopt/examples/basic/temp/gen_26.json\n",
      "Pop written to  /Users/chrisonian/Code/GitHub/Xopt/examples/basic/temp/pop_26.json\n"
     ]
    },
    {
     "name": "stderr",
     "output_type": "stream",
     "text": [
      "Generation 25: 100%|██████████| 128/128 [00:00<00:00, 907.08it/s]\n",
      "Generation 26:   0%|          | 0/128 [00:00<?, ?it/s]"
     ]
    },
    {
     "name": "stdout",
     "output_type": "stream",
     "text": [
      "Generation 26 completed in 0.00244 minutes\n",
      "Pop written to  /Users/chrisonian/Code/GitHub/Xopt/examples/basic/temp/gen_27.json\n",
      "Pop written to  /Users/chrisonian/Code/GitHub/Xopt/examples/basic/temp/pop_27.json\n"
     ]
    },
    {
     "name": "stderr",
     "output_type": "stream",
     "text": [
      "Generation 26: 100%|██████████| 128/128 [00:00<00:00, 929.81it/s]\n",
      "Generation 27:   0%|          | 0/128 [00:00<?, ?it/s]"
     ]
    },
    {
     "name": "stdout",
     "output_type": "stream",
     "text": [
      "Generation 27 completed in 0.00237 minutes\n",
      "Pop written to  /Users/chrisonian/Code/GitHub/Xopt/examples/basic/temp/gen_28.json\n",
      "Pop written to  /Users/chrisonian/Code/GitHub/Xopt/examples/basic/temp/pop_28.json\n"
     ]
    },
    {
     "name": "stderr",
     "output_type": "stream",
     "text": [
      "Generation 27: 100%|██████████| 128/128 [00:00<00:00, 926.13it/s]\n",
      "Generation 28:   0%|          | 0/128 [00:00<?, ?it/s]"
     ]
    },
    {
     "name": "stdout",
     "output_type": "stream",
     "text": [
      "Generation 28 completed in 0.00239 minutes\n",
      "Pop written to  /Users/chrisonian/Code/GitHub/Xopt/examples/basic/temp/gen_29.json\n",
      "Pop written to  /Users/chrisonian/Code/GitHub/Xopt/examples/basic/temp/pop_29.json\n"
     ]
    },
    {
     "name": "stderr",
     "output_type": "stream",
     "text": [
      "Generation 28: 100%|██████████| 128/128 [00:00<00:00, 932.96it/s]\n",
      "Generation 29:   0%|          | 0/128 [00:00<?, ?it/s]"
     ]
    },
    {
     "name": "stdout",
     "output_type": "stream",
     "text": [
      "Generation 29 completed in 0.00236 minutes\n",
      "Pop written to  /Users/chrisonian/Code/GitHub/Xopt/examples/basic/temp/gen_30.json\n",
      "Pop written to  /Users/chrisonian/Code/GitHub/Xopt/examples/basic/temp/pop_30.json\n"
     ]
    },
    {
     "name": "stderr",
     "output_type": "stream",
     "text": [
      "Generation 29: 100%|██████████| 128/128 [00:00<00:00, 915.87it/s]\n",
      "Generation 30:   0%|          | 0/128 [00:00<?, ?it/s]"
     ]
    },
    {
     "name": "stdout",
     "output_type": "stream",
     "text": [
      "Generation 30 completed in 0.00240 minutes\n",
      "Pop written to  /Users/chrisonian/Code/GitHub/Xopt/examples/basic/temp/gen_31.json\n",
      "Pop written to  /Users/chrisonian/Code/GitHub/Xopt/examples/basic/temp/pop_31.json\n"
     ]
    },
    {
     "name": "stderr",
     "output_type": "stream",
     "text": [
      "Generation 30: 131it [00:00, 2327.77it/s]             \n"
     ]
    }
   ],
   "source": [
    "# Increase the max_generations, and it will continue where it left off\n",
    "X.algorithm['options']['max_generations'] = 20\n",
    "X.run(executor=executor)"
   ]
  },
  {
   "cell_type": "markdown",
   "metadata": {},
   "source": [
    "# Run with MPI"
   ]
  },
  {
   "cell_type": "code",
   "execution_count": 13,
   "metadata": {},
   "outputs": [],
   "source": [
    "#X.save('test.json')\n",
    "#!mpirun -n 4 python -m mpi4py.futures -m xopt.mpi.run -vv --logfile xopt.log test.json "
   ]
  },
  {
   "cell_type": "markdown",
   "metadata": {},
   "source": [
    "# Plot"
   ]
  },
  {
   "cell_type": "code",
   "execution_count": 15,
   "metadata": {},
   "outputs": [
    {
     "data": {
      "text/plain": [
       "Text(0.5, 1.0, 'test_TNK')"
      ]
     },
     "execution_count": 15,
     "metadata": {},
     "output_type": "execute_result"
    },
    {
     "data": {
      "image/png": "[encoded data removed]",
      "text/plain": [
       "<Figure size 360x360 with 1 Axes>"
      ]
     },
     "metadata": {
      "needs_background": "light"
     },
     "output_type": "display_data"
    }
   ],
   "source": [
    "# Extract objectives from output\n",
    "key1, key2 = list(X.vocs.objectives)\n",
    "\n",
    "x = [o[key1] for o in X.results['outputs']]\n",
    "y = [o[key2] for o in X.results['outputs']]\n",
    "\n",
    "import matplotlib.pyplot as plt\n",
    "%matplotlib inline\n",
    "\n",
    "fig, ax = plt.subplots(figsize=(5,5))\n",
    "\n",
    "ax.scatter(x, y, color='blue')\n",
    "ax.set_xlabel(key1)\n",
    "ax.set_ylabel(key2)\n",
    "ax.set_aspect('auto')\n",
    "ax.set_title(X.simulation['name'])"
   ]
  },
  {
   "cell_type": "code",
   "execution_count": 16,
   "metadata": {},
   "outputs": [],
   "source": [
    "# Cleanup\n",
    "!rm -r temp"
   ]
  }
 ],
 "metadata": {
  "kernelspec": {
   "display_name": "Python 3 (ipykernel)",
   "language": "python",
   "name": "python3"
  },
  "language_info": {
   "codemirror_mode": {
    "name": "ipython",
    "version": 3
   },
   "file_extension": ".py",
   "mimetype": "text/x-python",
   "name": "python",
   "nbconvert_exporter": "python",
   "pygments_lexer": "ipython3",
   "version": "3.9.10"
  }
 },
 "nbformat": 4,
 "nbformat_minor": 4
}
