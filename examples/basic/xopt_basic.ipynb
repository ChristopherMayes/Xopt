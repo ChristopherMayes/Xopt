{
 "cells": [
  {
   "cell_type": "markdown",
   "metadata": {},
   "source": [
    "# Xopt basic example\n",
    "\n",
    "An Xopt problem can be described by a simple YAML file. Here we will demonstrate how this is used to optimize a well-known constrained multi-objective test function, TNK.\n",
    "\n",
    "## TNK test function\n",
    "\n",
    "The TNK function is defined with:\n",
    "\n",
    "$n=2$ variables:\n",
    "$x_i \\in [0, \\pi], i=1,2$\n",
    "\n",
    "Objectives:\n",
    "- $f_i(x) = x_i$\n",
    "\n",
    "Constraints:\n",
    "- $g_1(x) = -x_1^2 -x_2^2 + 1 + 0.1 \\cos\\left(16 \\arctan \\frac{x_1}{x_2}\\right) \\le 0$\n",
    "- $g_2(x) = (x_1 - 1/2)^2 + (x_2-1/2)^2 \\le 0.5$"
   ]
  },
  {
   "cell_type": "code",
   "execution_count": 1,
   "metadata": {},
   "outputs": [],
   "source": [
    "# Import the class\n",
    "from xopt import Xopt"
   ]
  },
  {
   "cell_type": "code",
   "execution_count": 2,
   "metadata": {},
   "outputs": [
    {
     "name": "stdout",
     "output_type": "stream",
     "text": [
      "mkdir: temp: File exists\n"
     ]
    }
   ],
   "source": [
    "!mkdir temp"
   ]
  },
  {
   "cell_type": "markdown",
   "metadata": {},
   "source": [
    "The `Xopt` object can be instantiated from a JSON or YAML file, or a dict, with the proper structure.\n",
    "\n",
    "Here we will make one"
   ]
  },
  {
   "cell_type": "code",
   "execution_count": 3,
   "metadata": {},
   "outputs": [],
   "source": [
    "# Make a proper input file. \n",
    "YAML=\"\"\"\n",
    "xopt:\n",
    "  output_path: temp\n",
    "  \n",
    "algorithm:\n",
    "  name: cnsga\n",
    "  options:\n",
    "    max_generations: 50\n",
    "    population_size: 128\n",
    "    show_progress: True\n",
    "  \n",
    "simulation: \n",
    "  name: test_TNK\n",
    "  evaluate: xopt.tests.evaluators.TNK.evaluate_TNK\n",
    "  \n",
    "vocs:\n",
    "  variables:\n",
    "    x1: [0, 3.14159]\n",
    "    x2: [0, 3.14159]\n",
    "  objectives: {y1: MINIMIZE, y2: MINIMIZE}\n",
    "  constraints:\n",
    "    c1: [GREATER_THAN, 0]\n",
    "    c2: [LESS_THAN, 0.5]\n",
    "  linked_variables: {x9: x1}\n",
    "  constants: {a: dummy_constant}\n",
    "\n",
    "\"\"\""
   ]
  },
  {
   "cell_type": "code",
   "execution_count": 4,
   "metadata": {},
   "outputs": [
    {
     "data": {
      "text/plain": [
       "\n",
       "            Xopt \n",
       "________________________________           \n",
       "Version: 0.5.0+15.gaf87815.dirty\n",
       "Configured: True\n",
       "Config as YAML:\n",
       "xopt: {output_path: /Users/chrisonian/Code/GitHub/xopt/examples/basic/temp}\n",
       "algorithm:\n",
       "  name: cnsga\n",
       "  options: {max_generations: 50, population_size: 128, show_progress: true, population: null,\n",
       "    crossover_probability: 0.9, mutation_probability: 1.0, selection: auto, verbose: null,\n",
       "    seed: null}\n",
       "  function: xopt.cnsga.cnsga\n",
       "simulation:\n",
       "  name: test_TNK\n",
       "  evaluate: xopt.tests.evaluators.TNK.evaluate_TNK\n",
       "  options: {extra_option: abc}\n",
       "vocs:\n",
       "  variables:\n",
       "    x1: [0.0, 3.14159]\n",
       "    x2: [0.0, 3.14159]\n",
       "  constraints:\n",
       "    c1: [GREATER_THAN, 0.0]\n",
       "    c2: [LESS_THAN, 0.5]\n",
       "  objectives: {y1: MINIMIZE, y2: MINIMIZE}\n",
       "  constants: {a: dummy_constant}\n",
       "  linked_variables: {x9: x1}"
      ]
     },
     "execution_count": 4,
     "metadata": {},
     "output_type": "execute_result"
    }
   ],
   "source": [
    "# Optional: Connect the function directly\n",
    "# from xopt.tests.evaluators.TNK import evaluate_TNK \n",
    "# config['simulation']['evaluate'] = evaluate_TNK \n",
    "\n",
    "X = Xopt(YAML)\n",
    "X"
   ]
  },
  {
   "cell_type": "code",
   "execution_count": 5,
   "metadata": {},
   "outputs": [
    {
     "data": {
      "text/plain": [
       "{'y1': 0.23049823177972398,\n",
       " 'y2': 1.4225920131749787,\n",
       " 'c1': 1.1610066934876004,\n",
       " 'c2': 0.9238072258481156,\n",
       " 'some_array': array([1, 2, 3])}"
      ]
     },
     "execution_count": 5,
     "metadata": {},
     "output_type": "execute_result"
    }
   ],
   "source": [
    "# Note that the repr string contains all of the config information\n",
    "X.random_evaluate()"
   ]
  },
  {
   "cell_type": "code",
   "execution_count": 6,
   "metadata": {},
   "outputs": [],
   "source": [
    "#Optional: Connect the function directly\n",
    "# from xopt.tests.evaluators.TNK import evaluate_TNK \n",
    "# X.config['simulation']['evaluate'] = evaluate_TNK \n",
    "# X.configure_simulation()"
   ]
  },
  {
   "cell_type": "markdown",
   "metadata": {},
   "source": [
    "By default, all messages go to the logger. This allows notebook printing without timestamps of those messages."
   ]
  },
  {
   "cell_type": "code",
   "execution_count": 7,
   "metadata": {},
   "outputs": [],
   "source": [
    "from xopt import output_notebook\n",
    "output_notebook()"
   ]
  },
  {
   "cell_type": "markdown",
   "metadata": {},
   "source": [
    "# Run CNSGA\n",
    "\n",
    "CNSGA is designed to run in parallel with an asynchronous executor as defined in PEP 3148"
   ]
  },
  {
   "cell_type": "code",
   "execution_count": 8,
   "metadata": {},
   "outputs": [],
   "source": [
    "# Pick one of these\n",
    "\n",
    "#from concurrent.futures import ThreadPoolExecutor as PoolExecutor\n",
    "from concurrent.futures import ProcessPoolExecutor as PoolExecutor\n",
    "\n",
    "executor = PoolExecutor()\n",
    "# This will also work. \n",
    "#executor=None"
   ]
  },
  {
   "cell_type": "code",
   "execution_count": 9,
   "metadata": {},
   "outputs": [
    {
     "name": "stdout",
     "output_type": "stream",
     "text": [
      "Starting at time 2022-03-03T15:02:03-08:00\n",
      "\n",
      "    \n",
      "    \n",
      "     ▄████▄   ███▄    █   ██████   ▄████  ▄▄▄      \n",
      "    ▒██▀ ▀█   ██ ▀█   █ ▒██    ▒  ██▒ ▀█▒▒████▄    \n",
      "    ▒▓█    ▄ ▓██  ▀█ ██▒░ ▓██▄   ▒██░▄▄▄░▒██  ▀█▄  \n",
      "    ▒▓▓▄ ▄██▒▓██▒  ▐▌██▒  ▒   ██▒░▓█  ██▓░██▄▄▄▄██ \n",
      "    ▒ ▓███▀ ░▒██░   ▓██░▒██████▒▒░▒▓███▀▒ ▓█   ▓██▒\n",
      "    ░ ░▒ ▒  ░░ ▒░   ▒ ▒ ▒ ▒▓▒ ▒ ░ ░▒   ▒  ▒▒   ▓▒█░\n",
      "      ░  ▒   ░ ░░   ░ ▒░░ ░▒  ░ ░  ░   ░   ▒   ▒▒ ░\n",
      "    ░           ░   ░ ░ ░  ░  ░  ░ ░   ░   ░   ▒   \n",
      "    ░ ░               ░       ░        ░       ░  ░\n",
      "    ░                                              \n",
      "    \n",
      "    \n",
      "    Continuous Non-dominated Sorting Genetic Algorithm\n",
      "    Version 0.5.0+15.gaf87815.dirty\n",
      "    \n",
      "Creating toolbox from vocs.\n",
      "Created toolbox with 2 variables, 2 constraints, and 2 objectives.\n",
      "    Using selection algorithm: nsga2\n",
      "Initializing with a new population, size 128\n",
      "Maximum generations: 10\n",
      "____________________________________________________\n",
      "128 fitness calculations for initial generation\n",
      "done.\n",
      "Submitting first batch of children\n",
      "Pop written to  /Users/chrisonian/Code/GitHub/xopt/examples/basic/temp/initial_pop_0.json\n"
     ]
    },
    {
     "data": {
      "application/vnd.jupyter.widget-view+json": {
       "model_id": "de2cfc869e0a4cf69441a0eebe3f73e3",
       "version_major": 2,
       "version_minor": 0
      },
      "text/plain": [
       "  0%|          | 0/128 [00:00<?, ?it/s]"
      ]
     },
     "metadata": {},
     "output_type": "display_data"
    },
    {
     "data": {
      "application/vnd.jupyter.widget-view+json": {
       "model_id": "333b9f7d3780445fa07eb08a7626b6d5",
       "version_major": 2,
       "version_minor": 0
      },
      "text/plain": [
       "Generation 0:   0%|          | 0/128 [00:00<?, ?it/s]"
      ]
     },
     "metadata": {},
     "output_type": "display_data"
    },
    {
     "name": "stdout",
     "output_type": "stream",
     "text": [
      "Generation 0 completed in 0.00213 minutes\n",
      "Pop written to  /Users/chrisonian/Code/GitHub/xopt/examples/basic/temp/gen_1.json\n",
      "Pop written to  /Users/chrisonian/Code/GitHub/xopt/examples/basic/temp/pop_1.json\n"
     ]
    },
    {
     "data": {
      "application/vnd.jupyter.widget-view+json": {
       "model_id": "d14c3ec651174790803a8d198e632b15",
       "version_major": 2,
       "version_minor": 0
      },
      "text/plain": [
       "Generation 1:   0%|          | 0/128 [00:00<?, ?it/s]"
      ]
     },
     "metadata": {},
     "output_type": "display_data"
    },
    {
     "name": "stdout",
     "output_type": "stream",
     "text": [
      "Generation 1 completed in 0.00401 minutes\n",
      "Pop written to  /Users/chrisonian/Code/GitHub/xopt/examples/basic/temp/gen_2.json\n",
      "Pop written to  /Users/chrisonian/Code/GitHub/xopt/examples/basic/temp/pop_2.json\n"
     ]
    },
    {
     "data": {
      "application/vnd.jupyter.widget-view+json": {
       "model_id": "136f5ad1a1b6478299a9baadbc9108eb",
       "version_major": 2,
       "version_minor": 0
      },
      "text/plain": [
       "Generation 2:   0%|          | 0/128 [00:00<?, ?it/s]"
      ]
     },
     "metadata": {},
     "output_type": "display_data"
    },
    {
     "name": "stdout",
     "output_type": "stream",
     "text": [
      "Generation 2 completed in 0.00401 minutes\n",
      "Pop written to  /Users/chrisonian/Code/GitHub/xopt/examples/basic/temp/gen_3.json\n",
      "Pop written to  /Users/chrisonian/Code/GitHub/xopt/examples/basic/temp/pop_3.json\n"
     ]
    },
    {
     "data": {
      "application/vnd.jupyter.widget-view+json": {
       "model_id": "6cd4b4eca008402195918c795276cfea",
       "version_major": 2,
       "version_minor": 0
      },
      "text/plain": [
       "Generation 3:   0%|          | 0/128 [00:00<?, ?it/s]"
      ]
     },
     "metadata": {},
     "output_type": "display_data"
    },
    {
     "name": "stdout",
     "output_type": "stream",
     "text": [
      "Generation 3 completed in 0.00393 minutes\n",
      "Pop written to  /Users/chrisonian/Code/GitHub/xopt/examples/basic/temp/gen_4.json\n",
      "Pop written to  /Users/chrisonian/Code/GitHub/xopt/examples/basic/temp/pop_4.json\n"
     ]
    },
    {
     "data": {
      "application/vnd.jupyter.widget-view+json": {
       "model_id": "f14b985bf58e406081631a3c6599f261",
       "version_major": 2,
       "version_minor": 0
      },
      "text/plain": [
       "Generation 4:   0%|          | 0/128 [00:00<?, ?it/s]"
      ]
     },
     "metadata": {},
     "output_type": "display_data"
    },
    {
     "name": "stdout",
     "output_type": "stream",
     "text": [
      "Generation 4 completed in 0.00408 minutes\n",
      "Pop written to  /Users/chrisonian/Code/GitHub/xopt/examples/basic/temp/gen_5.json\n",
      "Pop written to  /Users/chrisonian/Code/GitHub/xopt/examples/basic/temp/pop_5.json\n"
     ]
    },
    {
     "data": {
      "application/vnd.jupyter.widget-view+json": {
       "model_id": "6f7774a0044743419fd32f3c7fc66c4a",
       "version_major": 2,
       "version_minor": 0
      },
      "text/plain": [
       "Generation 5:   0%|          | 0/128 [00:00<?, ?it/s]"
      ]
     },
     "metadata": {},
     "output_type": "display_data"
    },
    {
     "name": "stdout",
     "output_type": "stream",
     "text": [
      "Generation 5 completed in 0.00375 minutes\n",
      "Pop written to  /Users/chrisonian/Code/GitHub/xopt/examples/basic/temp/gen_6.json\n",
      "Pop written to  /Users/chrisonian/Code/GitHub/xopt/examples/basic/temp/pop_6.json\n"
     ]
    },
    {
     "data": {
      "application/vnd.jupyter.widget-view+json": {
       "model_id": "6f27c8c7bea04ddf8194b523b860a6f7",
       "version_major": 2,
       "version_minor": 0
      },
      "text/plain": [
       "Generation 6:   0%|          | 0/128 [00:00<?, ?it/s]"
      ]
     },
     "metadata": {},
     "output_type": "display_data"
    },
    {
     "name": "stdout",
     "output_type": "stream",
     "text": [
      "Generation 6 completed in 0.00361 minutes\n",
      "Pop written to  /Users/chrisonian/Code/GitHub/xopt/examples/basic/temp/gen_7.json\n",
      "Pop written to  /Users/chrisonian/Code/GitHub/xopt/examples/basic/temp/pop_7.json\n"
     ]
    },
    {
     "data": {
      "application/vnd.jupyter.widget-view+json": {
       "model_id": "be206205ab9e4c72a7402ba44d9e5a68",
       "version_major": 2,
       "version_minor": 0
      },
      "text/plain": [
       "Generation 7:   0%|          | 0/128 [00:00<?, ?it/s]"
      ]
     },
     "metadata": {},
     "output_type": "display_data"
    },
    {
     "name": "stdout",
     "output_type": "stream",
     "text": [
      "Generation 7 completed in 0.00449 minutes\n",
      "Pop written to  /Users/chrisonian/Code/GitHub/xopt/examples/basic/temp/gen_8.json\n",
      "Pop written to  /Users/chrisonian/Code/GitHub/xopt/examples/basic/temp/pop_8.json\n"
     ]
    },
    {
     "data": {
      "application/vnd.jupyter.widget-view+json": {
       "model_id": "00e97b6869af4b7197c68836a98cfcc8",
       "version_major": 2,
       "version_minor": 0
      },
      "text/plain": [
       "Generation 8:   0%|          | 0/128 [00:00<?, ?it/s]"
      ]
     },
     "metadata": {},
     "output_type": "display_data"
    },
    {
     "name": "stdout",
     "output_type": "stream",
     "text": [
      "Generation 8 completed in 0.00362 minutes\n",
      "Pop written to  /Users/chrisonian/Code/GitHub/xopt/examples/basic/temp/gen_9.json\n",
      "Pop written to  /Users/chrisonian/Code/GitHub/xopt/examples/basic/temp/pop_9.json\n"
     ]
    },
    {
     "data": {
      "application/vnd.jupyter.widget-view+json": {
       "model_id": "c427495cf09e4ba9bf50e15afc13d253",
       "version_major": 2,
       "version_minor": 0
      },
      "text/plain": [
       "Generation 9:   0%|          | 0/128 [00:00<?, ?it/s]"
      ]
     },
     "metadata": {},
     "output_type": "display_data"
    },
    {
     "name": "stdout",
     "output_type": "stream",
     "text": [
      "Generation 9 completed in 0.00414 minutes\n",
      "Pop written to  /Users/chrisonian/Code/GitHub/xopt/examples/basic/temp/gen_10.json\n",
      "Pop written to  /Users/chrisonian/Code/GitHub/xopt/examples/basic/temp/pop_10.json\n"
     ]
    }
   ],
   "source": [
    "# Change max generations\n",
    "X.algorithm['options']['max_generations'] = 10\n",
    "X.run(executor=executor)"
   ]
  },
  {
   "cell_type": "code",
   "execution_count": 10,
   "metadata": {},
   "outputs": [
    {
     "data": {
      "text/plain": [
       "['variables', 'generation', 'vocs', 'error', 'inputs', 'outputs']"
      ]
     },
     "execution_count": 10,
     "metadata": {},
     "output_type": "execute_result"
    }
   ],
   "source": [
    "# The last population is saved internally:\n",
    "list(X.results)"
   ]
  },
  {
   "cell_type": "code",
   "execution_count": 11,
   "metadata": {},
   "outputs": [
    {
     "data": {
      "text/plain": [
       "[{'y1': 0.5449373882796896,\n",
       "  'y2': 0.785553686892886,\n",
       "  'c1': 0.010185323766681617,\n",
       "  'c2': 0.08356027696351995,\n",
       "  'some_array': array([1, 2, 3])},\n",
       " {'y1': 0.49410159006248117,\n",
       "  'y2': 0.8999294189317123,\n",
       "  'c1': 0.07188982321549647,\n",
       "  'c2': 0.15997833136684805,\n",
       "  'some_array': array([1, 2, 3])},\n",
       " {'y1': 0.4601675509704135,\n",
       "  'y2': 0.9387154839434921,\n",
       "  'c1': 0.039701699811686794,\n",
       "  'c2': 0.19405789984746713,\n",
       "  'some_array': array([1, 2, 3])},\n",
       " {'y1': 0.4630453623962739,\n",
       "  'y2': 0.9009818822925499,\n",
       "  'c1': 0.0006396343030070188,\n",
       "  'c2': 0.1621521151672991,\n",
       "  'some_array': array([1, 2, 3])},\n",
       " {'y1': 0.527121699082565,\n",
       "  'y2': 0.7989192572381145,\n",
       "  'c1': 0.015696085949530383,\n",
       "  'c2': 0.0900883089089113,\n",
       "  'some_array': array([1, 2, 3])}]"
      ]
     },
     "execution_count": 11,
     "metadata": {},
     "output_type": "execute_result"
    }
   ],
   "source": [
    "X.results['outputs'][0:5]"
   ]
  },
  {
   "cell_type": "code",
   "execution_count": 12,
   "metadata": {},
   "outputs": [
    {
     "name": "stdout",
     "output_type": "stream",
     "text": [
      "Starting at time 2022-03-03T15:02:07-08:00\n",
      "\n",
      "    \n",
      "    \n",
      "     ▄████▄   ███▄    █   ██████   ▄████  ▄▄▄      \n",
      "    ▒██▀ ▀█   ██ ▀█   █ ▒██    ▒  ██▒ ▀█▒▒████▄    \n",
      "    ▒▓█    ▄ ▓██  ▀█ ██▒░ ▓██▄   ▒██░▄▄▄░▒██  ▀█▄  \n",
      "    ▒▓▓▄ ▄██▒▓██▒  ▐▌██▒  ▒   ██▒░▓█  ██▓░██▄▄▄▄██ \n",
      "    ▒ ▓███▀ ░▒██░   ▓██░▒██████▒▒░▒▓███▀▒ ▓█   ▓██▒\n",
      "    ░ ░▒ ▒  ░░ ▒░   ▒ ▒ ▒ ▒▓▒ ▒ ░ ░▒   ▒  ▒▒   ▓▒█░\n",
      "      ░  ▒   ░ ░░   ░ ▒░░ ░▒  ░ ░  ░   ░   ▒   ▒▒ ░\n",
      "    ░           ░   ░ ░ ░  ░  ░  ░ ░   ░   ░   ▒   \n",
      "    ░ ░               ░       ░        ░       ░  ░\n",
      "    ░                                              \n",
      "    \n",
      "    \n",
      "    Continuous Non-dominated Sorting Genetic Algorithm\n",
      "    Version 0.5.0+15.gaf87815.dirty\n",
      "    \n",
      "Creating toolbox from vocs.\n",
      "Created toolbox with 2 variables, 2 constraints, and 2 objectives.\n",
      "    Using selection algorithm: nsga2\n",
      "Loading config from dict.\n",
      "Initializing with existing population, size 128\n",
      "Maximum generations: 31\n",
      "____________________________________________________\n",
      "128 fitness calculations for initial generation\n",
      "done.\n",
      "Submitting first batch of children\n",
      "Pop written to  /Users/chrisonian/Code/GitHub/xopt/examples/basic/temp/initial_pop_11.json\n"
     ]
    },
    {
     "data": {
      "application/vnd.jupyter.widget-view+json": {
       "model_id": "3ec740b65f2944fd828336e0763643cf",
       "version_major": 2,
       "version_minor": 0
      },
      "text/plain": [
       "  0%|          | 0/128 [00:00<?, ?it/s]"
      ]
     },
     "metadata": {},
     "output_type": "display_data"
    },
    {
     "data": {
      "application/vnd.jupyter.widget-view+json": {
       "model_id": "e24b4983b0294a80b994e2437fa7ab16",
       "version_major": 2,
       "version_minor": 0
      },
      "text/plain": [
       "Generation 11:   0%|          | 0/128 [00:00<?, ?it/s]"
      ]
     },
     "metadata": {},
     "output_type": "display_data"
    },
    {
     "name": "stdout",
     "output_type": "stream",
     "text": [
      "Generation 11 completed in 0.00902 minutes\n",
      "Pop written to  /Users/chrisonian/Code/GitHub/xopt/examples/basic/temp/gen_12.json\n",
      "Pop written to  /Users/chrisonian/Code/GitHub/xopt/examples/basic/temp/pop_12.json\n"
     ]
    },
    {
     "data": {
      "application/vnd.jupyter.widget-view+json": {
       "model_id": "96530327cbf74d93bc8d84849391e344",
       "version_major": 2,
       "version_minor": 0
      },
      "text/plain": [
       "Generation 12:   0%|          | 0/128 [00:00<?, ?it/s]"
      ]
     },
     "metadata": {},
     "output_type": "display_data"
    },
    {
     "name": "stdout",
     "output_type": "stream",
     "text": [
      "Generation 12 completed in 0.00789 minutes\n",
      "Pop written to  /Users/chrisonian/Code/GitHub/xopt/examples/basic/temp/gen_13.json\n",
      "Pop written to  /Users/chrisonian/Code/GitHub/xopt/examples/basic/temp/pop_13.json\n"
     ]
    },
    {
     "data": {
      "application/vnd.jupyter.widget-view+json": {
       "model_id": "44d98bba84f74d0d868a196f90a49063",
       "version_major": 2,
       "version_minor": 0
      },
      "text/plain": [
       "Generation 13:   0%|          | 0/128 [00:00<?, ?it/s]"
      ]
     },
     "metadata": {},
     "output_type": "display_data"
    },
    {
     "name": "stdout",
     "output_type": "stream",
     "text": [
      "Generation 13 completed in 0.00767 minutes\n",
      "Pop written to  /Users/chrisonian/Code/GitHub/xopt/examples/basic/temp/gen_14.json\n",
      "Pop written to  /Users/chrisonian/Code/GitHub/xopt/examples/basic/temp/pop_14.json\n"
     ]
    },
    {
     "data": {
      "application/vnd.jupyter.widget-view+json": {
       "model_id": "16c7c34875ef42b5bfc48fec7904f114",
       "version_major": 2,
       "version_minor": 0
      },
      "text/plain": [
       "Generation 14:   0%|          | 0/128 [00:00<?, ?it/s]"
      ]
     },
     "metadata": {},
     "output_type": "display_data"
    },
    {
     "name": "stdout",
     "output_type": "stream",
     "text": [
      "Generation 14 completed in 0.00619 minutes\n",
      "Pop written to  /Users/chrisonian/Code/GitHub/xopt/examples/basic/temp/gen_15.json\n",
      "Pop written to  /Users/chrisonian/Code/GitHub/xopt/examples/basic/temp/pop_15.json\n"
     ]
    },
    {
     "data": {
      "application/vnd.jupyter.widget-view+json": {
       "model_id": "3310de5ca6574d1a9c4b9f3cf06c046f",
       "version_major": 2,
       "version_minor": 0
      },
      "text/plain": [
       "Generation 15:   0%|          | 0/128 [00:00<?, ?it/s]"
      ]
     },
     "metadata": {},
     "output_type": "display_data"
    },
    {
     "name": "stdout",
     "output_type": "stream",
     "text": [
      "Generation 15 completed in 0.00613 minutes\n",
      "Pop written to  /Users/chrisonian/Code/GitHub/xopt/examples/basic/temp/gen_16.json\n",
      "Pop written to  /Users/chrisonian/Code/GitHub/xopt/examples/basic/temp/pop_16.json\n"
     ]
    },
    {
     "data": {
      "application/vnd.jupyter.widget-view+json": {
       "model_id": "3699a34b44d1439d8c293330a4fbbcc6",
       "version_major": 2,
       "version_minor": 0
      },
      "text/plain": [
       "Generation 16:   0%|          | 0/128 [00:00<?, ?it/s]"
      ]
     },
     "metadata": {},
     "output_type": "display_data"
    },
    {
     "name": "stdout",
     "output_type": "stream",
     "text": [
      "Generation 16 completed in 0.00687 minutes\n",
      "Pop written to  /Users/chrisonian/Code/GitHub/xopt/examples/basic/temp/gen_17.json\n",
      "Pop written to  /Users/chrisonian/Code/GitHub/xopt/examples/basic/temp/pop_17.json\n"
     ]
    },
    {
     "data": {
      "application/vnd.jupyter.widget-view+json": {
       "model_id": "bdc24fc0d2c3445cbc93e08ad867d3f4",
       "version_major": 2,
       "version_minor": 0
      },
      "text/plain": [
       "Generation 17:   0%|          | 0/128 [00:00<?, ?it/s]"
      ]
     },
     "metadata": {},
     "output_type": "display_data"
    },
    {
     "name": "stdout",
     "output_type": "stream",
     "text": [
      "Generation 17 completed in 0.00685 minutes\n",
      "Pop written to  /Users/chrisonian/Code/GitHub/xopt/examples/basic/temp/gen_18.json\n",
      "Pop written to  /Users/chrisonian/Code/GitHub/xopt/examples/basic/temp/pop_18.json\n"
     ]
    },
    {
     "data": {
      "application/vnd.jupyter.widget-view+json": {
       "model_id": "525e6eeab32a496b9682d805e3971271",
       "version_major": 2,
       "version_minor": 0
      },
      "text/plain": [
       "Generation 18:   0%|          | 0/128 [00:00<?, ?it/s]"
      ]
     },
     "metadata": {},
     "output_type": "display_data"
    },
    {
     "name": "stdout",
     "output_type": "stream",
     "text": [
      "Generation 18 completed in 0.00783 minutes\n",
      "Pop written to  /Users/chrisonian/Code/GitHub/xopt/examples/basic/temp/gen_19.json\n",
      "Pop written to  /Users/chrisonian/Code/GitHub/xopt/examples/basic/temp/pop_19.json\n"
     ]
    },
    {
     "data": {
      "application/vnd.jupyter.widget-view+json": {
       "model_id": "2d58431f35bf4f20852c7d7cbdffa23c",
       "version_major": 2,
       "version_minor": 0
      },
      "text/plain": [
       "Generation 19:   0%|          | 0/128 [00:00<?, ?it/s]"
      ]
     },
     "metadata": {},
     "output_type": "display_data"
    },
    {
     "name": "stdout",
     "output_type": "stream",
     "text": [
      "Generation 19 completed in 0.00784 minutes\n",
      "Pop written to  /Users/chrisonian/Code/GitHub/xopt/examples/basic/temp/gen_20.json\n",
      "Pop written to  /Users/chrisonian/Code/GitHub/xopt/examples/basic/temp/pop_20.json\n"
     ]
    },
    {
     "data": {
      "application/vnd.jupyter.widget-view+json": {
       "model_id": "94683c34d5c44865a9fada0f7b8ac455",
       "version_major": 2,
       "version_minor": 0
      },
      "text/plain": [
       "Generation 20:   0%|          | 0/128 [00:00<?, ?it/s]"
      ]
     },
     "metadata": {},
     "output_type": "display_data"
    },
    {
     "name": "stdout",
     "output_type": "stream",
     "text": [
      "Generation 20 completed in 0.00702 minutes\n",
      "Pop written to  /Users/chrisonian/Code/GitHub/xopt/examples/basic/temp/gen_21.json\n",
      "Pop written to  /Users/chrisonian/Code/GitHub/xopt/examples/basic/temp/pop_21.json\n"
     ]
    },
    {
     "data": {
      "application/vnd.jupyter.widget-view+json": {
       "model_id": "5d13bfb6bfe243e38bca751efd2abe56",
       "version_major": 2,
       "version_minor": 0
      },
      "text/plain": [
       "Generation 21:   0%|          | 0/128 [00:00<?, ?it/s]"
      ]
     },
     "metadata": {},
     "output_type": "display_data"
    },
    {
     "name": "stdout",
     "output_type": "stream",
     "text": [
      "Generation 21 completed in 0.00695 minutes\n",
      "Pop written to  /Users/chrisonian/Code/GitHub/xopt/examples/basic/temp/gen_22.json\n",
      "Pop written to  /Users/chrisonian/Code/GitHub/xopt/examples/basic/temp/pop_22.json\n"
     ]
    },
    {
     "data": {
      "application/vnd.jupyter.widget-view+json": {
       "model_id": "7a337b1e564b4481be873d50c40de6f6",
       "version_major": 2,
       "version_minor": 0
      },
      "text/plain": [
       "Generation 22:   0%|          | 0/128 [00:00<?, ?it/s]"
      ]
     },
     "metadata": {},
     "output_type": "display_data"
    },
    {
     "name": "stdout",
     "output_type": "stream",
     "text": [
      "Generation 22 completed in 0.00664 minutes\n",
      "Pop written to  /Users/chrisonian/Code/GitHub/xopt/examples/basic/temp/gen_23.json\n",
      "Pop written to  /Users/chrisonian/Code/GitHub/xopt/examples/basic/temp/pop_23.json\n"
     ]
    },
    {
     "data": {
      "application/vnd.jupyter.widget-view+json": {
       "model_id": "7a1ad4e2bc5240a59200d1f00b50e86a",
       "version_major": 2,
       "version_minor": 0
      },
      "text/plain": [
       "Generation 23:   0%|          | 0/128 [00:00<?, ?it/s]"
      ]
     },
     "metadata": {},
     "output_type": "display_data"
    },
    {
     "name": "stdout",
     "output_type": "stream",
     "text": [
      "Generation 23 completed in 0.00673 minutes\n",
      "Pop written to  /Users/chrisonian/Code/GitHub/xopt/examples/basic/temp/gen_24.json\n",
      "Pop written to  /Users/chrisonian/Code/GitHub/xopt/examples/basic/temp/pop_24.json\n"
     ]
    },
    {
     "data": {
      "application/vnd.jupyter.widget-view+json": {
       "model_id": "f7c9084380ad46f58f08944b5e438e78",
       "version_major": 2,
       "version_minor": 0
      },
      "text/plain": [
       "Generation 24:   0%|          | 0/128 [00:00<?, ?it/s]"
      ]
     },
     "metadata": {},
     "output_type": "display_data"
    },
    {
     "name": "stdout",
     "output_type": "stream",
     "text": [
      "Generation 24 completed in 0.00758 minutes\n",
      "Pop written to  /Users/chrisonian/Code/GitHub/xopt/examples/basic/temp/gen_25.json\n",
      "Pop written to  /Users/chrisonian/Code/GitHub/xopt/examples/basic/temp/pop_25.json\n"
     ]
    },
    {
     "data": {
      "application/vnd.jupyter.widget-view+json": {
       "model_id": "ba650223a3244da4aae287e33b0cdd00",
       "version_major": 2,
       "version_minor": 0
      },
      "text/plain": [
       "Generation 25:   0%|          | 0/128 [00:00<?, ?it/s]"
      ]
     },
     "metadata": {},
     "output_type": "display_data"
    },
    {
     "name": "stdout",
     "output_type": "stream",
     "text": [
      "Generation 25 completed in 0.00698 minutes\n",
      "Pop written to  /Users/chrisonian/Code/GitHub/xopt/examples/basic/temp/gen_26.json\n",
      "Pop written to  /Users/chrisonian/Code/GitHub/xopt/examples/basic/temp/pop_26.json\n"
     ]
    },
    {
     "data": {
      "application/vnd.jupyter.widget-view+json": {
       "model_id": "ec8355f23b994c558b0a41969ae22e41",
       "version_major": 2,
       "version_minor": 0
      },
      "text/plain": [
       "Generation 26:   0%|          | 0/128 [00:00<?, ?it/s]"
      ]
     },
     "metadata": {},
     "output_type": "display_data"
    },
    {
     "name": "stdout",
     "output_type": "stream",
     "text": [
      "Generation 26 completed in 0.00652 minutes\n",
      "Pop written to  /Users/chrisonian/Code/GitHub/xopt/examples/basic/temp/gen_27.json\n",
      "Pop written to  /Users/chrisonian/Code/GitHub/xopt/examples/basic/temp/pop_27.json\n"
     ]
    },
    {
     "data": {
      "application/vnd.jupyter.widget-view+json": {
       "model_id": "3fd9536c85cb4938a7829f446debe733",
       "version_major": 2,
       "version_minor": 0
      },
      "text/plain": [
       "Generation 27:   0%|          | 0/128 [00:00<?, ?it/s]"
      ]
     },
     "metadata": {},
     "output_type": "display_data"
    },
    {
     "name": "stdout",
     "output_type": "stream",
     "text": [
      "Generation 27 completed in 0.00640 minutes\n",
      "Pop written to  /Users/chrisonian/Code/GitHub/xopt/examples/basic/temp/gen_28.json\n",
      "Pop written to  /Users/chrisonian/Code/GitHub/xopt/examples/basic/temp/pop_28.json\n"
     ]
    },
    {
     "data": {
      "application/vnd.jupyter.widget-view+json": {
       "model_id": "ce5dffdd6e7c48068a385305ae5c89a5",
       "version_major": 2,
       "version_minor": 0
      },
      "text/plain": [
       "Generation 28:   0%|          | 0/128 [00:00<?, ?it/s]"
      ]
     },
     "metadata": {},
     "output_type": "display_data"
    },
    {
     "name": "stdout",
     "output_type": "stream",
     "text": [
      "Generation 28 completed in 0.00646 minutes\n",
      "Pop written to  /Users/chrisonian/Code/GitHub/xopt/examples/basic/temp/gen_29.json\n",
      "Pop written to  /Users/chrisonian/Code/GitHub/xopt/examples/basic/temp/pop_29.json\n"
     ]
    },
    {
     "data": {
      "application/vnd.jupyter.widget-view+json": {
       "model_id": "57696e43f4924d6586135b5eb97e2ef8",
       "version_major": 2,
       "version_minor": 0
      },
      "text/plain": [
       "Generation 29:   0%|          | 0/128 [00:00<?, ?it/s]"
      ]
     },
     "metadata": {},
     "output_type": "display_data"
    },
    {
     "name": "stdout",
     "output_type": "stream",
     "text": [
      "Generation 29 completed in 0.00659 minutes\n",
      "Pop written to  /Users/chrisonian/Code/GitHub/xopt/examples/basic/temp/gen_30.json\n",
      "Pop written to  /Users/chrisonian/Code/GitHub/xopt/examples/basic/temp/pop_30.json\n"
     ]
    },
    {
     "data": {
      "application/vnd.jupyter.widget-view+json": {
       "model_id": "59b91b62658845dc89de01f41af6c10a",
       "version_major": 2,
       "version_minor": 0
      },
      "text/plain": [
       "Generation 30:   0%|          | 0/128 [00:00<?, ?it/s]"
      ]
     },
     "metadata": {},
     "output_type": "display_data"
    },
    {
     "name": "stdout",
     "output_type": "stream",
     "text": [
      "Generation 30 completed in 0.00705 minutes\n",
      "Pop written to  /Users/chrisonian/Code/GitHub/xopt/examples/basic/temp/gen_31.json\n",
      "Pop written to  /Users/chrisonian/Code/GitHub/xopt/examples/basic/temp/pop_31.json\n"
     ]
    }
   ],
   "source": [
    "# Increase the max_generations, and it will continue where it left off\n",
    "X.algorithm['options']['max_generations'] = 20\n",
    "X.run(executor=executor)"
   ]
  },
  {
   "cell_type": "markdown",
   "metadata": {},
   "source": [
    "# Run with MPI"
   ]
  },
  {
   "cell_type": "code",
   "execution_count": 13,
   "metadata": {},
   "outputs": [],
   "source": [
    "#X.save('test.json')\n",
    "#!mpirun -n 4 python -m mpi4py.futures -m xopt.mpi.run -vv --logfile xopt.log test.json "
   ]
  },
  {
   "cell_type": "markdown",
   "metadata": {},
   "source": [
    "# Plot"
   ]
  },
  {
   "cell_type": "code",
   "execution_count": 14,
   "metadata": {},
   "outputs": [
    {
     "data": {
      "text/plain": [
       "Text(0.5, 1.0, 'test_TNK')"
      ]
     },
     "execution_count": 14,
     "metadata": {},
     "output_type": "execute_result"
    },
    {
     "data": {
      "image/png": "[encoded data removed]",
      "text/plain": [
       "<Figure size 360x360 with 1 Axes>"
      ]
     },
     "metadata": {
      "needs_background": "light"
     },
     "output_type": "display_data"
    }
   ],
   "source": [
    "# Extract objectives from output\n",
    "key1, key2 = list(X.vocs.objectives)\n",
    "\n",
    "x = [o[key1] for o in X.results['outputs']]\n",
    "y = [o[key2] for o in X.results['outputs']]\n",
    "\n",
    "import matplotlib.pyplot as plt\n",
    "%matplotlib inline\n",
    "\n",
    "fig, ax = plt.subplots(figsize=(5,5))\n",
    "\n",
    "ax.scatter(x, y, color='blue')\n",
    "ax.set_xlabel(key1)\n",
    "ax.set_ylabel(key2)\n",
    "ax.set_aspect('auto')\n",
    "ax.set_title(X.simulation['name'])"
   ]
  },
  {
   "cell_type": "code",
   "execution_count": 15,
   "metadata": {},
   "outputs": [],
   "source": [
    "# Cleanup\n",
    "!rm -r temp"
   ]
  }
 ],
 "metadata": {
  "kernelspec": {
   "display_name": "Python 3 (ipykernel)",
   "language": "python",
   "name": "python3"
  },
  "language_info": {
   "codemirror_mode": {
    "name": "ipython",
    "version": 3
   },
   "file_extension": ".py",
   "mimetype": "text/x-python",
   "name": "python",
   "nbconvert_exporter": "python",
   "pygments_lexer": "ipython3",
   "version": "3.9.10"
  }
 },
 "nbformat": 4,
 "nbformat_minor": 4
}
