{
 "cells": [
  {
   "cell_type": "markdown",
   "metadata": {},
   "source": [
    "# Xopt basic example\n",
    "\n",
    "An Xopt problem can be described by a simple YAML file. Here we will demonstrate how this is used to optimize a well-known constrained multi-objective test function, TNK.\n",
    "\n",
    "## TNK test function\n",
    "\n",
    "The TNK function is defined with:\n",
    "\n",
    "$n=2$ variables:\n",
    "$x_i \\in [0, \\pi], i=1,2$\n",
    "\n",
    "Objectives:\n",
    "- $f_i(x) = x_i$\n",
    "\n",
    "Constraints:\n",
    "- $g_1(x) = -x_1^2 -x_2^2 + 1 + 0.1 \\cos\\left(16 \\arctan \\frac{x_1}{x_2}\\right) \\le 0$\n",
    "- $g_2(x) = (x_1 - 1/2)^2 + (x_2-1/2)^2 \\le 0.5$"
   ]
  },
  {
   "cell_type": "code",
   "execution_count": 1,
   "metadata": {},
   "outputs": [],
   "source": [
    "# Import the class\n",
    "from xopt import Xopt"
   ]
  },
  {
   "cell_type": "code",
   "execution_count": 2,
   "metadata": {},
   "outputs": [],
   "source": [
    "!mkdir temp"
   ]
  },
  {
   "cell_type": "markdown",
   "metadata": {},
   "source": [
    "The `Xopt` object can be instantiated from a JSON or YAML file, or a dict, with the proper structure.\n",
    "\n",
    "Here we will make one"
   ]
  },
  {
   "cell_type": "code",
   "execution_count": 3,
   "metadata": {},
   "outputs": [],
   "source": [
    "# Make a proper input file. \n",
    "YAML=\"\"\"\n",
    "xopt:\n",
    "  output_path: temp\n",
    "  \n",
    "algorithm:\n",
    "  name: cnsga\n",
    "  options:\n",
    "    max_generations: 50\n",
    "    population_size: 128\n",
    "    show_progress: True\n",
    "  \n",
    "simulation: \n",
    "  name: test_TNK\n",
    "  evaluate: xopt.tests.evaluators.TNK.evaluate_TNK\n",
    "  \n",
    "vocs:\n",
    "  variables:\n",
    "    x1: [0, 3.14159]\n",
    "    x2: [0, 3.14159]\n",
    "  objectives: {y1: MINIMIZE, y2: MINIMIZE}\n",
    "  constraints:\n",
    "    c1: [GREATER_THAN, 0]\n",
    "    c2: [LESS_THAN, 0.5]\n",
    "  linked_variables: {x9: x1}\n",
    "  constants: {a: dummy_constant}\n",
    "\n",
    "\"\"\""
   ]
  },
  {
   "cell_type": "code",
   "execution_count": 4,
   "metadata": {},
   "outputs": [
    {
     "data": {
      "text/plain": [
       "\n",
       "            Xopt \n",
       "________________________________           \n",
       "Version: 0.5.0+19.gf3e9d66.dirty\n",
       "Configured: True\n",
       "Config as YAML:\n",
       "xopt: {output_path: /Users/chrisonian/Code/GitHub/xopt/examples/basic/temp}\n",
       "algorithm:\n",
       "  name: cnsga\n",
       "  options: {max_generations: 50, population_size: 128, show_progress: true, population: null,\n",
       "    crossover_probability: 0.9, mutation_probability: 1.0, selection: auto, verbose: null,\n",
       "    seed: null}\n",
       "  function: xopt.cnsga.cnsga\n",
       "simulation:\n",
       "  name: test_TNK\n",
       "  evaluate: xopt.tests.evaluators.TNK.evaluate_TNK\n",
       "  options: {extra_option: abc}\n",
       "vocs:\n",
       "  variables:\n",
       "    x1: [0.0, 3.14159]\n",
       "    x2: [0.0, 3.14159]\n",
       "  constraints:\n",
       "    c1: [GREATER_THAN, 0.0]\n",
       "    c2: [LESS_THAN, 0.5]\n",
       "  objectives: {y1: MINIMIZE, y2: MINIMIZE}\n",
       "  constants: {a: dummy_constant}\n",
       "  linked_variables: {x9: x1}"
      ]
     },
     "execution_count": 4,
     "metadata": {},
     "output_type": "execute_result"
    }
   ],
   "source": [
    "# Optional: Connect the function directly\n",
    "# from xopt.tests.evaluators.TNK import evaluate_TNK \n",
    "# config['simulation']['evaluate'] = evaluate_TNK \n",
    "\n",
    "X = Xopt(YAML)\n",
    "X"
   ]
  },
  {
   "cell_type": "code",
   "execution_count": 5,
   "metadata": {},
   "outputs": [
    {
     "data": {
      "text/plain": [
       "{'y1': 0.13931316393635856,\n",
       " 'y2': 2.526669350964239,\n",
       " 'c1': 5.339851370356902,\n",
       " 'c2': 4.237483651847411,\n",
       " 'some_array': array([1, 2, 3])}"
      ]
     },
     "execution_count": 5,
     "metadata": {},
     "output_type": "execute_result"
    }
   ],
   "source": [
    "# Note that the repr string contains all of the config information\n",
    "X.random_evaluate()"
   ]
  },
  {
   "cell_type": "code",
   "execution_count": 6,
   "metadata": {},
   "outputs": [],
   "source": [
    "#Optional: Connect the function directly\n",
    "# from xopt.tests.evaluators.TNK import evaluate_TNK \n",
    "# X.config['simulation']['evaluate'] = evaluate_TNK \n",
    "# X.configure_simulation()"
   ]
  },
  {
   "cell_type": "markdown",
   "metadata": {},
   "source": [
    "By default, all messages go to the logger. This allows notebook printing without timestamps of those messages."
   ]
  },
  {
   "cell_type": "code",
   "execution_count": 7,
   "metadata": {},
   "outputs": [],
   "source": [
    "from xopt import output_notebook\n",
    "output_notebook()"
   ]
  },
  {
   "cell_type": "markdown",
   "metadata": {},
   "source": [
    "# Run CNSGA\n",
    "\n",
    "CNSGA is designed to run in parallel with an asynchronous executor as defined in PEP 3148"
   ]
  },
  {
   "cell_type": "code",
   "execution_count": 8,
   "metadata": {},
   "outputs": [],
   "source": [
    "# Pick one of these\n",
    "\n",
    "#from concurrent.futures import ThreadPoolExecutor as PoolExecutor\n",
    "from concurrent.futures import ProcessPoolExecutor as PoolExecutor\n",
    "\n",
    "executor = PoolExecutor()\n",
    "# This will also work. \n",
    "#executor=None"
   ]
  },
  {
   "cell_type": "code",
   "execution_count": 9,
   "metadata": {},
   "outputs": [
    {
     "name": "stdout",
     "output_type": "stream",
     "text": [
      "Starting at time 2022-04-23T12:10:53-07:00\n",
      "\n",
      "    \n",
      "    \n",
      "     ▄████▄   ███▄    █   ██████   ▄████  ▄▄▄      \n",
      "    ▒██▀ ▀█   ██ ▀█   █ ▒██    ▒  ██▒ ▀█▒▒████▄    \n",
      "    ▒▓█    ▄ ▓██  ▀█ ██▒░ ▓██▄   ▒██░▄▄▄░▒██  ▀█▄  \n",
      "    ▒▓▓▄ ▄██▒▓██▒  ▐▌██▒  ▒   ██▒░▓█  ██▓░██▄▄▄▄██ \n",
      "    ▒ ▓███▀ ░▒██░   ▓██░▒██████▒▒░▒▓███▀▒ ▓█   ▓██▒\n",
      "    ░ ░▒ ▒  ░░ ▒░   ▒ ▒ ▒ ▒▓▒ ▒ ░ ░▒   ▒  ▒▒   ▓▒█░\n",
      "      ░  ▒   ░ ░░   ░ ▒░░ ░▒  ░ ░  ░   ░   ▒   ▒▒ ░\n",
      "    ░           ░   ░ ░ ░  ░  ░  ░ ░   ░   ░   ▒   \n",
      "    ░ ░               ░       ░        ░       ░  ░\n",
      "    ░                                              \n",
      "    \n",
      "    \n",
      "    Continuous Non-dominated Sorting Genetic Algorithm\n",
      "    Version 0.5.0+19.gf3e9d66.dirty\n",
      "    \n",
      "Creating toolbox from vocs.\n",
      "Created toolbox with 2 variables, 2 constraints, and 2 objectives.\n",
      "    Using selection algorithm: nsga2\n",
      "Initializing with a new population, size 128\n",
      "Maximum generations: 10\n",
      "____________________________________________________\n",
      "128 fitness calculations for initial generation\n",
      "done.\n",
      "Submitting first batch of children\n",
      "Pop written to  /Users/chrisonian/Code/GitHub/xopt/examples/basic/temp/initial_pop_0.json\n"
     ]
    },
    {
     "data": {
      "application/vnd.jupyter.widget-view+json": {
       "model_id": "a80682536ae3461bae9ed1e011884742",
       "version_major": 2,
       "version_minor": 0
      },
      "text/plain": [
       "  0%|          | 0/128 [00:00<?, ?it/s]"
      ]
     },
     "metadata": {},
     "output_type": "display_data"
    },
    {
     "data": {
      "application/vnd.jupyter.widget-view+json": {
       "model_id": "5b6091ae12714d84ba1415c922fc33db",
       "version_major": 2,
       "version_minor": 0
      },
      "text/plain": [
       "Generation 0:   0%|          | 0/128 [00:00<?, ?it/s]"
      ]
     },
     "metadata": {},
     "output_type": "display_data"
    },
    {
     "name": "stdout",
     "output_type": "stream",
     "text": [
      "Generation 0 completed in 0.00390 minutes\n",
      "Pop written to  /Users/chrisonian/Code/GitHub/xopt/examples/basic/temp/gen_1.json\n",
      "Pop written to  /Users/chrisonian/Code/GitHub/xopt/examples/basic/temp/pop_1.json\n"
     ]
    },
    {
     "data": {
      "application/vnd.jupyter.widget-view+json": {
       "model_id": "fa846f95b9b246ca9c966510e2d7391c",
       "version_major": 2,
       "version_minor": 0
      },
      "text/plain": [
       "Generation 1:   0%|          | 0/128 [00:00<?, ?it/s]"
      ]
     },
     "metadata": {},
     "output_type": "display_data"
    },
    {
     "name": "stdout",
     "output_type": "stream",
     "text": [
      "Generation 1 completed in 0.00659 minutes\n",
      "Pop written to  /Users/chrisonian/Code/GitHub/xopt/examples/basic/temp/gen_2.json\n",
      "Pop written to  /Users/chrisonian/Code/GitHub/xopt/examples/basic/temp/pop_2.json\n"
     ]
    },
    {
     "data": {
      "application/vnd.jupyter.widget-view+json": {
       "model_id": "a5fbc4d189194a0c9f769707c9bdd7b1",
       "version_major": 2,
       "version_minor": 0
      },
      "text/plain": [
       "Generation 2:   0%|          | 0/128 [00:00<?, ?it/s]"
      ]
     },
     "metadata": {},
     "output_type": "display_data"
    },
    {
     "name": "stdout",
     "output_type": "stream",
     "text": [
      "Generation 2 completed in 0.00739 minutes\n",
      "Pop written to  /Users/chrisonian/Code/GitHub/xopt/examples/basic/temp/gen_3.json\n",
      "Pop written to  /Users/chrisonian/Code/GitHub/xopt/examples/basic/temp/pop_3.json\n"
     ]
    },
    {
     "data": {
      "application/vnd.jupyter.widget-view+json": {
       "model_id": "48fa04bdbdbd4038a0ae8be3bafcd1a9",
       "version_major": 2,
       "version_minor": 0
      },
      "text/plain": [
       "Generation 3:   0%|          | 0/128 [00:00<?, ?it/s]"
      ]
     },
     "metadata": {},
     "output_type": "display_data"
    },
    {
     "name": "stdout",
     "output_type": "stream",
     "text": [
      "Generation 3 completed in 0.00683 minutes\n",
      "Pop written to  /Users/chrisonian/Code/GitHub/xopt/examples/basic/temp/gen_4.json\n",
      "Pop written to  /Users/chrisonian/Code/GitHub/xopt/examples/basic/temp/pop_4.json\n"
     ]
    },
    {
     "data": {
      "application/vnd.jupyter.widget-view+json": {
       "model_id": "d53de363a49843778f1f321edb632f37",
       "version_major": 2,
       "version_minor": 0
      },
      "text/plain": [
       "Generation 4:   0%|          | 0/128 [00:00<?, ?it/s]"
      ]
     },
     "metadata": {},
     "output_type": "display_data"
    },
    {
     "name": "stdout",
     "output_type": "stream",
     "text": [
      "Generation 4 completed in 0.00846 minutes\n",
      "Pop written to  /Users/chrisonian/Code/GitHub/xopt/examples/basic/temp/gen_5.json\n",
      "Pop written to  /Users/chrisonian/Code/GitHub/xopt/examples/basic/temp/pop_5.json\n"
     ]
    },
    {
     "data": {
      "application/vnd.jupyter.widget-view+json": {
       "model_id": "b934d1aeba58441db95eedb44ff42d63",
       "version_major": 2,
       "version_minor": 0
      },
      "text/plain": [
       "Generation 5:   0%|          | 0/128 [00:00<?, ?it/s]"
      ]
     },
     "metadata": {},
     "output_type": "display_data"
    },
    {
     "name": "stdout",
     "output_type": "stream",
     "text": [
      "Generation 5 completed in 0.00622 minutes\n",
      "Pop written to  /Users/chrisonian/Code/GitHub/xopt/examples/basic/temp/gen_6.json\n",
      "Pop written to  /Users/chrisonian/Code/GitHub/xopt/examples/basic/temp/pop_6.json\n"
     ]
    },
    {
     "data": {
      "application/vnd.jupyter.widget-view+json": {
       "model_id": "b8df2ca6d484466c84cc8ba2e58dfcc7",
       "version_major": 2,
       "version_minor": 0
      },
      "text/plain": [
       "Generation 6:   0%|          | 0/128 [00:00<?, ?it/s]"
      ]
     },
     "metadata": {},
     "output_type": "display_data"
    },
    {
     "name": "stdout",
     "output_type": "stream",
     "text": [
      "Generation 6 completed in 0.00585 minutes\n",
      "Pop written to  /Users/chrisonian/Code/GitHub/xopt/examples/basic/temp/gen_7.json\n",
      "Pop written to  /Users/chrisonian/Code/GitHub/xopt/examples/basic/temp/pop_7.json\n"
     ]
    },
    {
     "data": {
      "application/vnd.jupyter.widget-view+json": {
       "model_id": "2c416e264825434da90c4366b17ea37c",
       "version_major": 2,
       "version_minor": 0
      },
      "text/plain": [
       "Generation 7:   0%|          | 0/128 [00:00<?, ?it/s]"
      ]
     },
     "metadata": {},
     "output_type": "display_data"
    },
    {
     "name": "stdout",
     "output_type": "stream",
     "text": [
      "Generation 7 completed in 0.00685 minutes\n",
      "Pop written to  /Users/chrisonian/Code/GitHub/xopt/examples/basic/temp/gen_8.json\n",
      "Pop written to  /Users/chrisonian/Code/GitHub/xopt/examples/basic/temp/pop_8.json\n"
     ]
    },
    {
     "data": {
      "application/vnd.jupyter.widget-view+json": {
       "model_id": "b19d3ecf0a284d25b5b3d1183dd5c62d",
       "version_major": 2,
       "version_minor": 0
      },
      "text/plain": [
       "Generation 8:   0%|          | 0/128 [00:00<?, ?it/s]"
      ]
     },
     "metadata": {},
     "output_type": "display_data"
    },
    {
     "name": "stdout",
     "output_type": "stream",
     "text": [
      "Generation 8 completed in 0.00529 minutes\n",
      "Pop written to  /Users/chrisonian/Code/GitHub/xopt/examples/basic/temp/gen_9.json\n",
      "Pop written to  /Users/chrisonian/Code/GitHub/xopt/examples/basic/temp/pop_9.json\n"
     ]
    },
    {
     "data": {
      "application/vnd.jupyter.widget-view+json": {
       "model_id": "0fa60afa0e8e41c2bef5832999ca2906",
       "version_major": 2,
       "version_minor": 0
      },
      "text/plain": [
       "Generation 9:   0%|          | 0/128 [00:00<?, ?it/s]"
      ]
     },
     "metadata": {},
     "output_type": "display_data"
    },
    {
     "name": "stdout",
     "output_type": "stream",
     "text": [
      "Generation 9 completed in 0.00441 minutes\n",
      "Pop written to  /Users/chrisonian/Code/GitHub/xopt/examples/basic/temp/gen_10.json\n",
      "Pop written to  /Users/chrisonian/Code/GitHub/xopt/examples/basic/temp/pop_10.json\n"
     ]
    }
   ],
   "source": [
    "# Change max generations\n",
    "X.algorithm['options']['max_generations'] = 10\n",
    "X.run(executor=executor)"
   ]
  },
  {
   "cell_type": "code",
   "execution_count": 10,
   "metadata": {},
   "outputs": [
    {
     "data": {
      "text/plain": [
       "['variables', 'generation', 'vocs', 'error', 'inputs', 'outputs']"
      ]
     },
     "execution_count": 10,
     "metadata": {},
     "output_type": "execute_result"
    }
   ],
   "source": [
    "# The last population is saved internally:\n",
    "list(X.results)"
   ]
  },
  {
   "cell_type": "code",
   "execution_count": 11,
   "metadata": {},
   "outputs": [
    {
     "data": {
      "text/plain": [
       "[{'y1': 0.5300239372772467,\n",
       "  'y2': 0.8449534848043957,\n",
       "  'c1': 0.08443424863471019,\n",
       "  'c2': 0.1198943434883245,\n",
       "  'some_array': array([1, 2, 3])},\n",
       " {'y1': 0.5300239372772467,\n",
       "  'y2': 0.8449534848043957,\n",
       "  'c1': 0.08443424863471019,\n",
       "  'c2': 0.1198943434883245,\n",
       "  'some_array': array([1, 2, 3])},\n",
       " {'y1': 0.5300239372772467,\n",
       "  'y2': 0.8449534848043957,\n",
       "  'c1': 0.08443424863471019,\n",
       "  'c2': 0.1198943434883245,\n",
       "  'some_array': array([1, 2, 3])},\n",
       " {'y1': 0.20347556985530824,\n",
       "  'y2': 1.0088122840897975,\n",
       "  'c1': 0.1590127266442099,\n",
       "  'c2': 0.346816678113311,\n",
       "  'some_array': array([1, 2, 3])},\n",
       " {'y1': 0.8557981192874609,\n",
       "  'y2': 0.48697943784457853,\n",
       "  'c1': 0.010631240621743386,\n",
       "  'c2': 0.12676183672733743,\n",
       "  'some_array': array([1, 2, 3])}]"
      ]
     },
     "execution_count": 11,
     "metadata": {},
     "output_type": "execute_result"
    }
   ],
   "source": [
    "X.results['outputs'][0:5]"
   ]
  },
  {
   "cell_type": "code",
   "execution_count": 12,
   "metadata": {},
   "outputs": [
    {
     "name": "stdout",
     "output_type": "stream",
     "text": [
      "Starting at time 2022-04-23T12:10:59-07:00\n",
      "\n",
      "    \n",
      "    \n",
      "     ▄████▄   ███▄    █   ██████   ▄████  ▄▄▄      \n",
      "    ▒██▀ ▀█   ██ ▀█   █ ▒██    ▒  ██▒ ▀█▒▒████▄    \n",
      "    ▒▓█    ▄ ▓██  ▀█ ██▒░ ▓██▄   ▒██░▄▄▄░▒██  ▀█▄  \n",
      "    ▒▓▓▄ ▄██▒▓██▒  ▐▌██▒  ▒   ██▒░▓█  ██▓░██▄▄▄▄██ \n",
      "    ▒ ▓███▀ ░▒██░   ▓██░▒██████▒▒░▒▓███▀▒ ▓█   ▓██▒\n",
      "    ░ ░▒ ▒  ░░ ▒░   ▒ ▒ ▒ ▒▓▒ ▒ ░ ░▒   ▒  ▒▒   ▓▒█░\n",
      "      ░  ▒   ░ ░░   ░ ▒░░ ░▒  ░ ░  ░   ░   ▒   ▒▒ ░\n",
      "    ░           ░   ░ ░ ░  ░  ░  ░ ░   ░   ░   ▒   \n",
      "    ░ ░               ░       ░        ░       ░  ░\n",
      "    ░                                              \n",
      "    \n",
      "    \n",
      "    Continuous Non-dominated Sorting Genetic Algorithm\n",
      "    Version 0.5.0+19.gf3e9d66.dirty\n",
      "    \n",
      "Creating toolbox from vocs.\n",
      "Created toolbox with 2 variables, 2 constraints, and 2 objectives.\n",
      "    Using selection algorithm: nsga2\n",
      "Loading config from dict.\n",
      "Initializing with existing population, size 128\n",
      "Maximum generations: 31\n",
      "____________________________________________________\n",
      "128 fitness calculations for initial generation\n",
      "done.\n",
      "Submitting first batch of children\n",
      "Pop written to  /Users/chrisonian/Code/GitHub/xopt/examples/basic/temp/initial_pop_11.json\n"
     ]
    },
    {
     "data": {
      "application/vnd.jupyter.widget-view+json": {
       "model_id": "d60ddaa2ac9849ca915ce8f9bc7a23d5",
       "version_major": 2,
       "version_minor": 0
      },
      "text/plain": [
       "  0%|          | 0/128 [00:00<?, ?it/s]"
      ]
     },
     "metadata": {},
     "output_type": "display_data"
    },
    {
     "data": {
      "application/vnd.jupyter.widget-view+json": {
       "model_id": "a99887c8af2b42709efee416e5e46328",
       "version_major": 2,
       "version_minor": 0
      },
      "text/plain": [
       "Generation 11:   0%|          | 0/128 [00:00<?, ?it/s]"
      ]
     },
     "metadata": {},
     "output_type": "display_data"
    },
    {
     "name": "stdout",
     "output_type": "stream",
     "text": [
      "Generation 11 completed in 0.01084 minutes\n",
      "Pop written to  /Users/chrisonian/Code/GitHub/xopt/examples/basic/temp/gen_12.json\n",
      "Pop written to  /Users/chrisonian/Code/GitHub/xopt/examples/basic/temp/pop_12.json\n"
     ]
    },
    {
     "data": {
      "application/vnd.jupyter.widget-view+json": {
       "model_id": "2ad4f70335ce43f7b63404253d633f9c",
       "version_major": 2,
       "version_minor": 0
      },
      "text/plain": [
       "Generation 12:   0%|          | 0/128 [00:00<?, ?it/s]"
      ]
     },
     "metadata": {},
     "output_type": "display_data"
    },
    {
     "name": "stdout",
     "output_type": "stream",
     "text": [
      "Generation 12 completed in 0.00834 minutes\n",
      "Pop written to  /Users/chrisonian/Code/GitHub/xopt/examples/basic/temp/gen_13.json\n",
      "Pop written to  /Users/chrisonian/Code/GitHub/xopt/examples/basic/temp/pop_13.json\n"
     ]
    },
    {
     "data": {
      "application/vnd.jupyter.widget-view+json": {
       "model_id": "412cfd0b521747df9fea5d40ba0b3d30",
       "version_major": 2,
       "version_minor": 0
      },
      "text/plain": [
       "Generation 13:   0%|          | 0/128 [00:00<?, ?it/s]"
      ]
     },
     "metadata": {},
     "output_type": "display_data"
    },
    {
     "name": "stdout",
     "output_type": "stream",
     "text": [
      "Generation 13 completed in 0.00961 minutes\n",
      "Pop written to  /Users/chrisonian/Code/GitHub/xopt/examples/basic/temp/gen_14.json\n",
      "Pop written to  /Users/chrisonian/Code/GitHub/xopt/examples/basic/temp/pop_14.json\n"
     ]
    },
    {
     "data": {
      "application/vnd.jupyter.widget-view+json": {
       "model_id": "7fdbef0d69ae442ea86868775acdc469",
       "version_major": 2,
       "version_minor": 0
      },
      "text/plain": [
       "Generation 14:   0%|          | 0/128 [00:00<?, ?it/s]"
      ]
     },
     "metadata": {},
     "output_type": "display_data"
    },
    {
     "name": "stdout",
     "output_type": "stream",
     "text": [
      "Generation 14 completed in 0.00808 minutes\n",
      "Pop written to  /Users/chrisonian/Code/GitHub/xopt/examples/basic/temp/gen_15.json\n",
      "Pop written to  /Users/chrisonian/Code/GitHub/xopt/examples/basic/temp/pop_15.json\n"
     ]
    },
    {
     "data": {
      "application/vnd.jupyter.widget-view+json": {
       "model_id": "f76951f4b3db4f02b8c3ec0b02da61fb",
       "version_major": 2,
       "version_minor": 0
      },
      "text/plain": [
       "Generation 15:   0%|          | 0/128 [00:00<?, ?it/s]"
      ]
     },
     "metadata": {},
     "output_type": "display_data"
    },
    {
     "name": "stdout",
     "output_type": "stream",
     "text": [
      "Generation 15 completed in 0.00670 minutes\n",
      "Pop written to  /Users/chrisonian/Code/GitHub/xopt/examples/basic/temp/gen_16.json\n",
      "Pop written to  /Users/chrisonian/Code/GitHub/xopt/examples/basic/temp/pop_16.json\n"
     ]
    },
    {
     "data": {
      "application/vnd.jupyter.widget-view+json": {
       "model_id": "9d76a39feae4429ab6f56df9eda9c1b9",
       "version_major": 2,
       "version_minor": 0
      },
      "text/plain": [
       "Generation 16:   0%|          | 0/128 [00:00<?, ?it/s]"
      ]
     },
     "metadata": {},
     "output_type": "display_data"
    },
    {
     "name": "stdout",
     "output_type": "stream",
     "text": [
      "Generation 16 completed in 0.00659 minutes\n",
      "Pop written to  /Users/chrisonian/Code/GitHub/xopt/examples/basic/temp/gen_17.json\n",
      "Pop written to  /Users/chrisonian/Code/GitHub/xopt/examples/basic/temp/pop_17.json\n"
     ]
    },
    {
     "data": {
      "application/vnd.jupyter.widget-view+json": {
       "model_id": "b452b1a817e74dcaa957de026cc4a9a2",
       "version_major": 2,
       "version_minor": 0
      },
      "text/plain": [
       "Generation 17:   0%|          | 0/128 [00:00<?, ?it/s]"
      ]
     },
     "metadata": {},
     "output_type": "display_data"
    },
    {
     "name": "stdout",
     "output_type": "stream",
     "text": [
      "Generation 17 completed in 0.00837 minutes\n",
      "Pop written to  /Users/chrisonian/Code/GitHub/xopt/examples/basic/temp/gen_18.json\n",
      "Pop written to  /Users/chrisonian/Code/GitHub/xopt/examples/basic/temp/pop_18.json\n"
     ]
    },
    {
     "data": {
      "application/vnd.jupyter.widget-view+json": {
       "model_id": "65590c5c4d484ea2b8b2c5fa79c72ba5",
       "version_major": 2,
       "version_minor": 0
      },
      "text/plain": [
       "Generation 18:   0%|          | 0/128 [00:00<?, ?it/s]"
      ]
     },
     "metadata": {},
     "output_type": "display_data"
    },
    {
     "name": "stdout",
     "output_type": "stream",
     "text": [
      "Generation 18 completed in 0.00731 minutes\n",
      "Pop written to  /Users/chrisonian/Code/GitHub/xopt/examples/basic/temp/gen_19.json\n",
      "Pop written to  /Users/chrisonian/Code/GitHub/xopt/examples/basic/temp/pop_19.json\n"
     ]
    },
    {
     "data": {
      "application/vnd.jupyter.widget-view+json": {
       "model_id": "5b94e093f1524b399256e97760f00317",
       "version_major": 2,
       "version_minor": 0
      },
      "text/plain": [
       "Generation 19:   0%|          | 0/128 [00:00<?, ?it/s]"
      ]
     },
     "metadata": {},
     "output_type": "display_data"
    },
    {
     "name": "stdout",
     "output_type": "stream",
     "text": [
      "Generation 19 completed in 0.00745 minutes\n",
      "Pop written to  /Users/chrisonian/Code/GitHub/xopt/examples/basic/temp/gen_20.json\n",
      "Pop written to  /Users/chrisonian/Code/GitHub/xopt/examples/basic/temp/pop_20.json\n"
     ]
    },
    {
     "data": {
      "application/vnd.jupyter.widget-view+json": {
       "model_id": "f08957865ec84ceb8c8050bc28b88ab5",
       "version_major": 2,
       "version_minor": 0
      },
      "text/plain": [
       "Generation 20:   0%|          | 0/128 [00:00<?, ?it/s]"
      ]
     },
     "metadata": {},
     "output_type": "display_data"
    },
    {
     "name": "stdout",
     "output_type": "stream",
     "text": [
      "Generation 20 completed in 0.00925 minutes\n",
      "Pop written to  /Users/chrisonian/Code/GitHub/xopt/examples/basic/temp/gen_21.json\n",
      "Pop written to  /Users/chrisonian/Code/GitHub/xopt/examples/basic/temp/pop_21.json\n"
     ]
    },
    {
     "data": {
      "application/vnd.jupyter.widget-view+json": {
       "model_id": "0d2becfa4ff34e0a80d042cd90cba681",
       "version_major": 2,
       "version_minor": 0
      },
      "text/plain": [
       "Generation 21:   0%|          | 0/128 [00:00<?, ?it/s]"
      ]
     },
     "metadata": {},
     "output_type": "display_data"
    },
    {
     "name": "stdout",
     "output_type": "stream",
     "text": [
      "Generation 21 completed in 0.00935 minutes\n",
      "Pop written to  /Users/chrisonian/Code/GitHub/xopt/examples/basic/temp/gen_22.json\n",
      "Pop written to  /Users/chrisonian/Code/GitHub/xopt/examples/basic/temp/pop_22.json\n"
     ]
    },
    {
     "data": {
      "application/vnd.jupyter.widget-view+json": {
       "model_id": "e21f2e7a947b472d8a1bb4d8ac36a44b",
       "version_major": 2,
       "version_minor": 0
      },
      "text/plain": [
       "Generation 22:   0%|          | 0/128 [00:00<?, ?it/s]"
      ]
     },
     "metadata": {},
     "output_type": "display_data"
    },
    {
     "name": "stdout",
     "output_type": "stream",
     "text": [
      "Generation 22 completed in 0.00658 minutes\n",
      "Pop written to  /Users/chrisonian/Code/GitHub/xopt/examples/basic/temp/gen_23.json\n",
      "Pop written to  /Users/chrisonian/Code/GitHub/xopt/examples/basic/temp/pop_23.json\n"
     ]
    },
    {
     "data": {
      "application/vnd.jupyter.widget-view+json": {
       "model_id": "a2bddf0dee464ffba924029b504e8279",
       "version_major": 2,
       "version_minor": 0
      },
      "text/plain": [
       "Generation 23:   0%|          | 0/128 [00:00<?, ?it/s]"
      ]
     },
     "metadata": {},
     "output_type": "display_data"
    },
    {
     "name": "stdout",
     "output_type": "stream",
     "text": [
      "Generation 23 completed in 0.00764 minutes\n",
      "Pop written to  /Users/chrisonian/Code/GitHub/xopt/examples/basic/temp/gen_24.json\n",
      "Pop written to  /Users/chrisonian/Code/GitHub/xopt/examples/basic/temp/pop_24.json\n"
     ]
    },
    {
     "data": {
      "application/vnd.jupyter.widget-view+json": {
       "model_id": "f34419634424482189a2211de083b31a",
       "version_major": 2,
       "version_minor": 0
      },
      "text/plain": [
       "Generation 24:   0%|          | 0/128 [00:00<?, ?it/s]"
      ]
     },
     "metadata": {},
     "output_type": "display_data"
    },
    {
     "name": "stdout",
     "output_type": "stream",
     "text": [
      "Generation 24 completed in 0.00790 minutes\n",
      "Pop written to  /Users/chrisonian/Code/GitHub/xopt/examples/basic/temp/gen_25.json\n",
      "Pop written to  /Users/chrisonian/Code/GitHub/xopt/examples/basic/temp/pop_25.json\n"
     ]
    },
    {
     "data": {
      "application/vnd.jupyter.widget-view+json": {
       "model_id": "469c3dc25da74c4caa3b841e9749f5c8",
       "version_major": 2,
       "version_minor": 0
      },
      "text/plain": [
       "Generation 25:   0%|          | 0/128 [00:00<?, ?it/s]"
      ]
     },
     "metadata": {},
     "output_type": "display_data"
    },
    {
     "name": "stdout",
     "output_type": "stream",
     "text": [
      "Generation 25 completed in 0.00774 minutes\n",
      "Pop written to  /Users/chrisonian/Code/GitHub/xopt/examples/basic/temp/gen_26.json\n",
      "Pop written to  /Users/chrisonian/Code/GitHub/xopt/examples/basic/temp/pop_26.json\n"
     ]
    },
    {
     "data": {
      "application/vnd.jupyter.widget-view+json": {
       "model_id": "7961361d2e9044568752cb663026c38e",
       "version_major": 2,
       "version_minor": 0
      },
      "text/plain": [
       "Generation 26:   0%|          | 0/128 [00:00<?, ?it/s]"
      ]
     },
     "metadata": {},
     "output_type": "display_data"
    },
    {
     "name": "stdout",
     "output_type": "stream",
     "text": [
      "Generation 26 completed in 0.00684 minutes\n",
      "Pop written to  /Users/chrisonian/Code/GitHub/xopt/examples/basic/temp/gen_27.json\n",
      "Pop written to  /Users/chrisonian/Code/GitHub/xopt/examples/basic/temp/pop_27.json\n"
     ]
    },
    {
     "data": {
      "application/vnd.jupyter.widget-view+json": {
       "model_id": "532ea9db040f4fcabebceef78297ac5c",
       "version_major": 2,
       "version_minor": 0
      },
      "text/plain": [
       "Generation 27:   0%|          | 0/128 [00:00<?, ?it/s]"
      ]
     },
     "metadata": {},
     "output_type": "display_data"
    },
    {
     "name": "stdout",
     "output_type": "stream",
     "text": [
      "Generation 27 completed in 0.00616 minutes\n",
      "Pop written to  /Users/chrisonian/Code/GitHub/xopt/examples/basic/temp/gen_28.json\n",
      "Pop written to  /Users/chrisonian/Code/GitHub/xopt/examples/basic/temp/pop_28.json\n"
     ]
    },
    {
     "data": {
      "application/vnd.jupyter.widget-view+json": {
       "model_id": "7cdc0e43c6574d1e8cdf76fed2b26afd",
       "version_major": 2,
       "version_minor": 0
      },
      "text/plain": [
       "Generation 28:   0%|          | 0/128 [00:00<?, ?it/s]"
      ]
     },
     "metadata": {},
     "output_type": "display_data"
    },
    {
     "name": "stdout",
     "output_type": "stream",
     "text": [
      "Generation 28 completed in 0.00597 minutes\n",
      "Pop written to  /Users/chrisonian/Code/GitHub/xopt/examples/basic/temp/gen_29.json\n",
      "Pop written to  /Users/chrisonian/Code/GitHub/xopt/examples/basic/temp/pop_29.json\n"
     ]
    },
    {
     "data": {
      "application/vnd.jupyter.widget-view+json": {
       "model_id": "66d497474b0c4d65b75fb9a0efa34838",
       "version_major": 2,
       "version_minor": 0
      },
      "text/plain": [
       "Generation 29:   0%|          | 0/128 [00:00<?, ?it/s]"
      ]
     },
     "metadata": {},
     "output_type": "display_data"
    },
    {
     "name": "stdout",
     "output_type": "stream",
     "text": [
      "Generation 29 completed in 0.00623 minutes\n",
      "Pop written to  /Users/chrisonian/Code/GitHub/xopt/examples/basic/temp/gen_30.json\n",
      "Pop written to  /Users/chrisonian/Code/GitHub/xopt/examples/basic/temp/pop_30.json\n"
     ]
    },
    {
     "data": {
      "application/vnd.jupyter.widget-view+json": {
       "model_id": "ba9885d8066345adb542b945a53fcba5",
       "version_major": 2,
       "version_minor": 0
      },
      "text/plain": [
       "Generation 30:   0%|          | 0/128 [00:00<?, ?it/s]"
      ]
     },
     "metadata": {},
     "output_type": "display_data"
    },
    {
     "name": "stdout",
     "output_type": "stream",
     "text": [
      "Generation 30 completed in 0.00896 minutes\n",
      "Pop written to  /Users/chrisonian/Code/GitHub/xopt/examples/basic/temp/gen_31.json\n",
      "Pop written to  /Users/chrisonian/Code/GitHub/xopt/examples/basic/temp/pop_31.json\n"
     ]
    }
   ],
   "source": [
    "# Increase the max_generations, and it will continue where it left off\n",
    "X.algorithm['options']['max_generations'] = 20\n",
    "X.run(executor=executor)"
   ]
  },
  {
   "cell_type": "markdown",
   "metadata": {},
   "source": [
    "# Run with MPI"
   ]
  },
  {
   "cell_type": "code",
   "execution_count": 13,
   "metadata": {},
   "outputs": [],
   "source": [
    "#X.save('test.json')\n",
    "#!mpirun -n 4 python -m mpi4py.futures -m xopt.mpi.run -vv --logfile xopt.log test.json "
   ]
  },
  {
   "cell_type": "markdown",
   "metadata": {},
   "source": [
    "# Plot"
   ]
  },
  {
   "cell_type": "code",
   "execution_count": 14,
   "metadata": {},
   "outputs": [
    {
     "data": {
      "text/plain": [
       "Text(0.5, 1.0, 'test_TNK')"
      ]
     },
     "execution_count": 14,
     "metadata": {},
     "output_type": "execute_result"
    },
    {
     "data": {
      "image/png": "[encoded data removed]",
      "text/plain": [
       "<Figure size 360x360 with 1 Axes>"
      ]
     },
     "metadata": {
      "needs_background": "light"
     },
     "output_type": "display_data"
    }
   ],
   "source": [
    "# Extract objectives from output\n",
    "key1, key2 = list(X.vocs.objectives)\n",
    "\n",
    "x = [o[key1] for o in X.results['outputs']]\n",
    "y = [o[key2] for o in X.results['outputs']]\n",
    "\n",
    "import matplotlib.pyplot as plt\n",
    "%matplotlib inline\n",
    "\n",
    "fig, ax = plt.subplots(figsize=(5,5))\n",
    "\n",
    "ax.scatter(x, y, color='blue')\n",
    "ax.set_xlabel(key1)\n",
    "ax.set_ylabel(key2)\n",
    "ax.set_aspect('auto')\n",
    "ax.set_title(X.simulation['name'])"
   ]
  },
  {
   "cell_type": "code",
   "execution_count": 15,
   "metadata": {},
   "outputs": [],
   "source": [
    "# Cleanup\n",
    "!rm -r temp"
   ]
  }
 ],
 "metadata": {
  "kernelspec": {
   "display_name": "Python 3 (ipykernel)",
   "language": "python",
   "name": "python3"
  },
  "language_info": {
   "codemirror_mode": {
    "name": "ipython",
    "version": 3
   },
   "file_extension": ".py",
   "mimetype": "text/x-python",
   "name": "python",
   "nbconvert_exporter": "python",
   "pygments_lexer": "ipython3",
   "version": "3.9.12"
  }
 },
 "nbformat": 4,
 "nbformat_minor": 4
}
