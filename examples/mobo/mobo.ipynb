{
 "cells": [
  {
   "cell_type": "markdown",
   "metadata": {},
   "source": [
    "# Xopt class, TNK test function\n",
    "\n",
    "This is the class method for running Xopt.\n",
    "\n",
    "TNK function\n",
    "$n=2$ variables:\n",
    "$x_i \\in [0, \\pi], i=1,2$\n",
    "\n",
    "Objectives:\n",
    "- $f_i(x) = x_i$\n",
    "\n",
    "Constraints:\n",
    "- $g_1(x) = -x_1^2 -x_2^2 + 1 + 0.1 \\cos\\left(16 \\arctan \\frac{x_1}{x_2}\\right) \\le 0$\n",
    "- $g_2(x) = (x_1 - 1/2)^2 + (x_2-1/2)^2 \\le 0.5$"
   ]
  },
  {
   "cell_type": "code",
   "execution_count": 1,
   "metadata": {},
   "outputs": [],
   "source": [
    "from xopt import Xopt\n",
    "\n",
    "import matplotlib.pyplot as plt\n",
    "from botorch.utils.multi_objective.pareto import is_non_dominated\n",
    "%matplotlib inline\n",
    "\n",
    "import os\n",
    "SMOKE_TEST = os.environ.get('SMOKE_TEST')\n"
   ]
  },
  {
   "cell_type": "code",
   "execution_count": 2,
   "metadata": {},
   "outputs": [],
   "source": [
    "# To see log messages\n",
    "from xopt import output_notebook\n",
    "output_notebook()"
   ]
  },
  {
   "cell_type": "markdown",
   "metadata": {},
   "source": [
    "The `Xopt` object can be instantiated from a JSON or YAML file, or a dict, with the proper structure.\n",
    "\n",
    "Here we will make one"
   ]
  },
  {
   "cell_type": "code",
   "execution_count": 3,
   "metadata": {},
   "outputs": [],
   "source": [
    "import yaml\n",
    "# Make a proper input file. \n",
    "YAML=\"\"\"\n",
    "xopt: {output_path: null}\n",
    "\n",
    "algorithm:\n",
    "  name:  mobo\n",
    "  options: \n",
    "    ref: [1.4, 1.4]\n",
    "    n_initial_samples: 5\n",
    "    n_steps: 10\n",
    "    generator_options:\n",
    "        batch_size: 4\n",
    "  \n",
    "simulation: \n",
    "  name: test_TNK\n",
    "  evaluate: xopt.tests.evaluators.TNK.evaluate_TNK\n",
    "  \n",
    "vocs:\n",
    "  name: TNK_test\n",
    "  description: null\n",
    "  simulation: test_TNK\n",
    "  templates: null\n",
    "  variables:\n",
    "    x1: [0, 3.14159]\n",
    "    x2: [0, 3.14159]\n",
    "  objectives: {y1: MINIMIZE, y2: MINIMIZE}\n",
    "  constraints:\n",
    "    c1: [GREATER_THAN, 0]\n",
    "    c2: ['LESS_THAN', 0.5]\n",
    "  linked_variables: {}\n",
    "  constants: {a: dummy_constant}\n",
    "\n",
    "\"\"\"\n",
    "config = yaml.safe_load(YAML)"
   ]
  },
  {
   "cell_type": "code",
   "execution_count": 4,
   "metadata": {},
   "outputs": [
    {
     "name": "stdout",
     "output_type": "stream",
     "text": [
      "Loading config from dict.\n",
      "Loading config from dict.\n",
      "Loading config from dict.\n",
      "Loading config from dict.\n",
      "Loading config from dict.\n",
      "`name` keyword no longer allowed in vocs config, removing\n",
      "`description` keyword no longer allowed in vocs config, removing\n",
      "`simulation` keyword no longer allowed in vocs config, removing\n",
      "`templates` keyword no longer allowed in vocs config, moving to simulation `options`\n",
      "Warning: No path set for key xopt : output_path\n"
     ]
    },
    {
     "data": {
      "text/plain": [
       "\n",
       "            Xopt \n",
       "________________________________           \n",
       "Version: 0.5.0+15.gaf87815.dirty\n",
       "Configured: True\n",
       "Config as YAML:\n",
       "xopt: {output_path: null}\n",
       "algorithm:\n",
       "  name: mobo\n",
       "  options:\n",
       "    ref: [1.4, 1.4]\n",
       "    n_initial_samples: 5\n",
       "    n_steps: 10\n",
       "    generator_options: {batch_size: 4}\n",
       "  function: xopt.bayesian.algorithms.mobo\n",
       "simulation:\n",
       "  name: test_TNK\n",
       "  evaluate: xopt.tests.evaluators.TNK.evaluate_TNK\n",
       "  options: {templates: null, extra_option: abc}\n",
       "vocs:\n",
       "  variables:\n",
       "    x1: [0.0, 3.14159]\n",
       "    x2: [0.0, 3.14159]\n",
       "  constraints:\n",
       "    c1: [GREATER_THAN, 0.0]\n",
       "    c2: [LESS_THAN, 0.5]\n",
       "  objectives: {y1: MINIMIZE, y2: MINIMIZE}\n",
       "  constants: {a: dummy_constant}\n",
       "  linked_variables: {}"
      ]
     },
     "execution_count": 4,
     "metadata": {},
     "output_type": "execute_result"
    }
   ],
   "source": [
    "# Optional: Connect the function directly\n",
    "#from xopt.evaluators.test_TNK import evaluate_TNK \n",
    "#config['simulation']['evaluate'] = evaluate_TNK \n",
    "if SMOKE_TEST:\n",
    "    config['algorithm']['options']['n_steps'] = 3\n",
    "    config['algorithm']['options']['generator_options']['num_restarts'] = 2\n",
    "    config['algorithm']['options']['generator_options']['raw_samples'] = 2\n",
    "\n",
    "\n",
    "X = Xopt(config)\n",
    "X"
   ]
  },
  {
   "cell_type": "markdown",
   "metadata": {},
   "source": [
    "# Run MOBO\n",
    "\n",
    "MOBO is designed to run in serial or parallel"
   ]
  },
  {
   "cell_type": "code",
   "execution_count": 5,
   "metadata": {},
   "outputs": [],
   "source": [
    "# Pick one of these\n",
    "from concurrent.futures import ThreadPoolExecutor as PoolExecutor\n",
    "#from concurrent.futures import ProcessPoolExecutor as PoolExecutor\n",
    "\n",
    "executor = PoolExecutor()\n",
    "# This will also work. \n",
    "#executor=None"
   ]
  },
  {
   "cell_type": "code",
   "execution_count": 6,
   "metadata": {},
   "outputs": [
    {
     "name": "stdout",
     "output_type": "stream",
     "text": [
      "Starting at time 2022-03-03T15:10:38-08:00\n",
      "started running optimization with generator: <xopt.bayesian.generators.mobo.MOBOGenerator object at 0x11ec52f70>\n",
      "submitting initial candidates\n",
      "starting optimization loop\n",
      "submitting candidates\n",
      "submitting candidates\n",
      "submitting candidates\n",
      "submitting candidates\n",
      "submitting candidates\n",
      "submitting candidates\n",
      "submitting candidates\n",
      "submitting candidates\n",
      "submitting candidates\n",
      "submitting candidates\n",
      "CPU times: user 21min 31s, sys: 57.1 s, total: 22min 28s\n",
      "Wall time: 6min 2s\n"
     ]
    }
   ],
   "source": [
    "%%time\n",
    "X.run(executor=executor)"
   ]
  },
  {
   "cell_type": "markdown",
   "metadata": {},
   "source": [
    "# Plot"
   ]
  },
  {
   "cell_type": "code",
   "execution_count": 7,
   "metadata": {},
   "outputs": [
    {
     "data": {
      "image/png": "[encoded data removed]",
      "text/plain": [
       "<Figure size 432x288 with 1 Axes>"
      ]
     },
     "metadata": {
      "needs_background": "light"
     },
     "output_type": "display_data"
    }
   ],
   "source": [
    "fig, ax = plt.subplots()\n",
    "\n",
    "# get results and get valid observations\n",
    "results = X.results\n",
    "train_y = results['objectives']\n",
    "valid_y = train_y[results['feasibility'].flatten()]\n",
    "\n",
    "# plot results\n",
    "ax.plot(train_y[:, 0], train_y[:, 1], '.')\n",
    "ax.set_ylabel('$f_2$')\n",
    "ax.set_xlabel('$f_1$')\n",
    "\n",
    "# highlight Pareto front, ONLY using valid observations (note botorch assumes maximization when determing dominant points)\n",
    "non_dom = is_non_dominated(-valid_y)\n",
    "ax.plot(valid_y[:,0][non_dom],valid_y[:,1][non_dom],'C1o')\n",
    "\n",
    "plt.show()"
   ]
  },
  {
   "cell_type": "code",
   "execution_count": 8,
   "metadata": {},
   "outputs": [],
   "source": [
    "# Cleanup\n",
    "!rm results.json"
   ]
  }
 ],
 "metadata": {
  "kernelspec": {
   "display_name": "Python 3 (ipykernel)",
   "language": "python",
   "name": "python3"
  },
  "language_info": {
   "codemirror_mode": {
    "name": "ipython",
    "version": 3
   },
   "file_extension": ".py",
   "mimetype": "text/x-python",
   "name": "python",
   "nbconvert_exporter": "python",
   "pygments_lexer": "ipython3",
   "version": "3.9.10"
  }
 },
 "nbformat": 4,
 "nbformat_minor": 4
}
