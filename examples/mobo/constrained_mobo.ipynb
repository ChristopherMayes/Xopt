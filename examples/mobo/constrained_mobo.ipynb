{
 "cells": [
  {
   "cell_type": "markdown",
   "id": "0cc7de35-4dcf-4079-8a64-07b12c33a8c7",
   "metadata": {},
   "source": [
    "## Constrained multiobjective optimization using MOBO\n"
   ]
  },
  {
   "cell_type": "code",
   "execution_count": 1,
   "id": "4a9be9bf-b3c5-468d-84f6-c7b8cf25806e",
   "metadata": {},
   "outputs": [],
   "source": [
    "import numpy as np\n",
    "import torch\n",
    "import matplotlib.pyplot as plt\n",
    "%matplotlib inline\n",
    "\n",
    "\n",
    "from xopt.bayesian.algorithms import mobo\n",
    "from botorch.utils.multi_objective.pareto import is_non_dominated\n",
    "\n",
    "import os\n",
    "SMOKE_TEST = os.environ.get('SMOKE_TEST')\n",
    "\n",
    "# test function\n",
    "from xopt.tests.evaluators import TNK"
   ]
  },
  {
   "cell_type": "code",
   "execution_count": 2,
   "id": "8a792f48-03fd-4785-881d-94aa14bfd4a6",
   "metadata": {},
   "outputs": [],
   "source": [
    "# To see log messages\n",
    "from xopt import output_notebook\n",
    "output_notebook()"
   ]
  },
  {
   "cell_type": "code",
   "execution_count": 3,
   "id": "ecc8894b-b092-4fcd-867d-ce3a9809d27d",
   "metadata": {},
   "outputs": [
    {
     "data": {
      "text/plain": [
       "{'name': 'TNK_test',\n",
       " 'description': 'Constrainted test function TNK. See Table V in https://www.iitk.ac.in/kangal/Deb_NSGA-II.pdf',\n",
       " 'simulation': 'test_TNK',\n",
       " 'variables': {'x1': [0, 3.14159], 'x2': [0, 3.14159]},\n",
       " 'objectives': {'y1': 'MINIMIZE', 'y2': 'MINIMIZE'},\n",
       " 'constraints': {'c1': ['GREATER_THAN', 0], 'c2': ['LESS_THAN', 0.5]},\n",
       " 'constants': {'a': 'dummy_constant'}}"
      ]
     },
     "execution_count": 3,
     "metadata": {},
     "output_type": "execute_result"
    }
   ],
   "source": [
    "# Get VOCS\n",
    "VOCS = TNK.VOCS\n",
    "VOCS"
   ]
  },
  {
   "cell_type": "code",
   "execution_count": 4,
   "id": "d738f30f-6946-444f-a432-f29ce4eb5ee3",
   "metadata": {},
   "outputs": [],
   "source": [
    "# add reference point\n",
    "ref = [1.4, 1.4]\n",
    "\n",
    "# Get evaluate function\n",
    "EVALUATE = TNK.evaluate_TNK\n",
    "n_steps = 30\n",
    "\n",
    "gen_options = {'batch_size':4,                      ## Specify batched mobo\n",
    "               'use_gpu':False,                     ## Use GPU\n",
    "              }\n",
    "\n",
    "if SMOKE_TEST:\n",
    "    n_steps = 3\n",
    "    gen_options['batch_size'] = 1\n",
    "    #gen_options['num_restarts'] = 2\n",
    "    #gen_options['raw_samples'] = 2"
   ]
  },
  {
   "cell_type": "markdown",
   "id": "69b5b8c4-0ab8-44d4-814e-5bce9daee574",
   "metadata": {},
   "source": [
    "## Run the optimization"
   ]
  },
  {
   "cell_type": "code",
   "execution_count": 5,
   "id": "c749e16b-7ab7-4088-8995-53f854f867a8",
   "metadata": {},
   "outputs": [
    {
     "name": "stdout",
     "output_type": "stream",
     "text": [
      "started running optimization with generator: <xopt.bayesian.generators.mobo.MOBOGenerator object at 0x1116f6e50>\n",
      "submitting initial candidates\n",
      "starting optimization loop\n",
      "submitting candidates\n",
      "submitting candidates\n",
      "submitting candidates\n",
      "submitting candidates\n",
      "submitting candidates\n",
      "submitting candidates\n",
      "submitting candidates\n",
      "submitting candidates\n",
      "submitting candidates\n",
      "submitting candidates\n",
      "submitting candidates\n",
      "submitting candidates\n",
      "submitting candidates\n",
      "submitting candidates\n",
      "submitting candidates\n",
      "submitting candidates\n",
      "submitting candidates\n",
      "submitting candidates\n",
      "submitting candidates\n",
      "submitting candidates\n",
      "submitting candidates\n",
      "submitting candidates\n",
      "submitting candidates\n",
      "submitting candidates\n",
      "submitting candidates\n",
      "submitting candidates\n",
      "submitting candidates\n",
      "submitting candidates\n",
      "submitting candidates\n",
      "submitting candidates\n",
      "CPU times: user 52min 38s, sys: 2min 34s, total: 55min 13s\n",
      "Wall time: 14min 29s\n"
     ]
    }
   ],
   "source": [
    "%%time\n",
    "results = mobo(VOCS, EVALUATE,\n",
    "               ref = ref,\n",
    "               generator_options = gen_options,\n",
    "               n_initial_samples=20,                   ## Specify number of initial\n",
    "               # random samples\n",
    "               initial_x=None,                        ## Specify explicit initial sample locations (overwrites n_initial_samples)\n",
    "               n_steps=n_steps,                       ## number of optimization step\n",
    "               # restart_data_file = 'results.json',  ## restart optimization file\n",
    "               # custom_model = myCustomModel,        ## Specify custom model creation function (see examples/bayes_exp/serial_nans.ipynb)\n",
    "              )"
   ]
  },
  {
   "cell_type": "markdown",
   "id": "54aa8cde-38fe-40ff-b9cc-cbb1d5864f6c",
   "metadata": {},
   "source": [
    "# Plot "
   ]
  },
  {
   "cell_type": "code",
   "execution_count": 6,
   "id": "7d7b9312-17fe-438c-8120-c0fc458b6a3c",
   "metadata": {},
   "outputs": [
    {
     "name": "stdout",
     "output_type": "stream",
     "text": [
      "dict_keys(['variables', 'objectives', 'corrected_objectives', 'constraint_status', 'feasibility', 'model', 'constraints', 'corrected_constraints'])\n"
     ]
    },
    {
     "data": {
      "text/plain": [
       "[<matplotlib.lines.Line2D at 0x12abe3be0>]"
      ]
     },
     "execution_count": 6,
     "metadata": {},
     "output_type": "execute_result"
    },
    {
     "data": {
      "image/png": "[encoded data removed]",
      "text/plain": [
       "<Figure size 432x288 with 1 Axes>"
      ]
     },
     "metadata": {
      "needs_background": "light"
     },
     "output_type": "display_data"
    }
   ],
   "source": [
    "fig, ax = plt.subplots()\n",
    "print(results.keys())\n",
    "train_y = results['objectives']\n",
    "valid_y = train_y[results['feasibility'].flatten()]\n",
    "ax.plot(train_y[:, 0], train_y[:, 1], '.')\n",
    "ax.set_ylabel('$f_2$')\n",
    "ax.set_xlabel('$f_1$')\n",
    "\n",
    "# highlight Pareto front, ONLY using valid observations (note botorch assumes maximization when determing dominant points)\n",
    "non_dom = is_non_dominated(-valid_y)\n",
    "ax.plot(valid_y[:,0][non_dom],valid_y[:,1][non_dom],'C1o')"
   ]
  },
  {
   "cell_type": "code",
   "execution_count": 7,
   "id": "d2a3b712-3254-4e01-a2cf-754cf92ae4e9",
   "metadata": {},
   "outputs": [],
   "source": [
    "# Cleanup\n",
    "!rm results.json"
   ]
  }
 ],
 "metadata": {
  "kernelspec": {
   "display_name": "Python 3 (ipykernel)",
   "language": "python",
   "name": "python3"
  },
  "language_info": {
   "codemirror_mode": {
    "name": "ipython",
    "version": 3
   },
   "file_extension": ".py",
   "mimetype": "text/x-python",
   "name": "python",
   "nbconvert_exporter": "python",
   "pygments_lexer": "ipython3",
   "version": "3.9.10"
  }
 },
 "nbformat": 4,
 "nbformat_minor": 5
}
